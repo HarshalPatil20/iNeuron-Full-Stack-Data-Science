{
  "nbformat": 4,
  "nbformat_minor": 0,
  "metadata": {
    "colab": {
      "provenance": []
    },
    "kernelspec": {
      "name": "python3",
      "display_name": "Python 3"
    },
    "language_info": {
      "name": "python"
    }
  },
  "cells": [
    {
      "cell_type": "code",
      "execution_count": null,
      "metadata": {
        "id": "mzVsEeLMSFI7"
      },
      "outputs": [],
      "source": [
        "Question1\n",
        "Create a function that takes three integer arguments (a, b, c) and returns the amount of\n",
        "integers which are of equal value.\n",
        "Examples\n",
        "equal(3, 4, 3) ➞ 2\n",
        "equal(1, 1, 1) ➞ 3\n",
        "equal(3, 4, 1) ➞ 0"
      ]
    },
    {
      "cell_type": "code",
      "source": [
        "def equal(a, b, c):\n",
        "    count = 0\n",
        "    if a == b:\n",
        "        count += 1\n",
        "    if a == c:\n",
        "        count += 1\n",
        "    if b == c:\n",
        "        count += 1\n",
        "    return count\n",
        "\n",
        "# Examples\n",
        "print(equal(3, 4, 3))  # Output: 2\n",
        "print(equal(1, 1, 1))  # Output: 3\n",
        "print(equal(3, 4, 1))  # Output: 0\n"
      ],
      "metadata": {
        "id": "DpNw6qniSG0N"
      },
      "execution_count": null,
      "outputs": []
    },
    {
      "cell_type": "code",
      "source": [
        "Question2\n",
        "Write a function that converts a dictionary into a list of keys-values tuples.\n",
        "Examples\n",
        "dict_to_list({\n",
        "&quot;D&quot;: 1,\n",
        "&quot;B&quot;: 2,\n",
        "&quot;C&quot;: 3\n",
        "}) ➞ [(&quot;B&quot;, 2), (&quot;C&quot;, 3), (&quot;D&quot;, 1)]\n",
        "dict_to_list({\n",
        "&quot;likes&quot;: 2,\n",
        "&quot;dislikes&quot;: 3,\n",
        "&quot;followers&quot;: 10\n",
        "}) ➞ [(&quot;dislikes&quot;, 3), (&quot;followers&quot;, 10), (&quot;likes&quot;, 2)]"
      ],
      "metadata": {
        "id": "tXI7syHuSdjk"
      },
      "execution_count": null,
      "outputs": []
    },
    {
      "cell_type": "code",
      "source": [
        "def dict_to_list(dictionary):\n",
        "    return list(dictionary.items())\n",
        "\n",
        "# Examples\n",
        "print(dict_to_list({\"D\": 1, \"B\": 2, \"C\": 3}))\n",
        "# Output: [('D', 1), ('B', 2), ('C', 3)]\n",
        "print(dict_to_list({\"likes\": 2, \"dislikes\": 3, \"followers\": 10}))\n",
        "# Output: [('likes', 2), ('dislikes', 3), ('followers', 10)]\n"
      ],
      "metadata": {
        "colab": {
          "base_uri": "https://localhost:8080/"
        },
        "id": "l5V03H4DSG3P",
        "outputId": "640d2f8d-6821-40ac-f12b-35e01c7ac9c2"
      },
      "execution_count": 1,
      "outputs": [
        {
          "output_type": "stream",
          "name": "stdout",
          "text": [
            "[('D', 1), ('B', 2), ('C', 3)]\n",
            "[('likes', 2), ('dislikes', 3), ('followers', 10)]\n"
          ]
        }
      ]
    },
    {
      "cell_type": "code",
      "source": [
        "Question3\n",
        "Write a function that creates a dictionary with each (key, value) pair being the (lower case,\n",
        "upper case) versions of a letter, respectively.\n",
        "Examples\n",
        "mapping([&quot;p&quot;, &quot;s&quot;]) ➞ { &quot;p&quot;: &quot;P&quot;, &quot;s&quot;: &quot;S&quot; }\n",
        "\n",
        "mapping([&quot;a&quot;, &quot;b&quot;, &quot;c&quot;]) ➞ { &quot;a&quot;: &quot;A&quot;, &quot;b&quot;: &quot;B&quot;, &quot;c&quot;: &quot;C&quot; }\n",
        "mapping([&quot;a&quot;, &quot;v&quot;, &quot;y&quot;, &quot;z&quot;]) ➞ { &quot;a&quot;: &quot;A&quot;, &quot;v&quot;: &quot;V&quot;, &quot;y&quot;: &quot;Y&quot;, &quot;z&quot;: &quot;Z&quot; }"
      ],
      "metadata": {
        "id": "uUYLq3YaSG6N"
      },
      "execution_count": null,
      "outputs": []
    },
    {
      "cell_type": "code",
      "source": [
        "def mapping(letters):\n",
        "    return {letter.lower(): letter.upper() for letter in letters}\n",
        "\n",
        "# Examples\n",
        "print(mapping([\"p\", \"s\"]))\n",
        "# Output: {'p': 'P', 's': 'S'}\n",
        "print(mapping([\"a\", \"b\", \"c\"]))\n",
        "# Output: {'a': 'A', 'b': 'B', 'c': 'C'}\n",
        "print(mapping([\"a\", \"v\", \"y\", \"z\"]))\n",
        "# Output: {'a': 'A', 'v': 'V', 'y': 'Y', 'z': 'Z'}\n"
      ],
      "metadata": {
        "colab": {
          "base_uri": "https://localhost:8080/"
        },
        "id": "UkAC8ECTSG9O",
        "outputId": "b3053935-2307-4d57-f2a7-7cd3dced083f"
      },
      "execution_count": 2,
      "outputs": [
        {
          "output_type": "stream",
          "name": "stdout",
          "text": [
            "{'p': 'P', 's': 'S'}\n",
            "{'a': 'A', 'b': 'B', 'c': 'C'}\n",
            "{'a': 'A', 'v': 'V', 'y': 'Y', 'z': 'Z'}\n"
          ]
        }
      ]
    },
    {
      "cell_type": "code",
      "source": [
        "Question4\n",
        "Write a function, that replaces all vowels in a string with a specified vowel.\n",
        "Examples\n",
        "vow_replace(&quot;apples and bananas&quot;, &quot;u&quot;) ➞ &quot;upplus und bununus&quot;\n",
        "vow_replace(&quot;cheese casserole&quot;, &quot;o&quot;) ➞ &quot;chooso cossorolo&quot;\n",
        "vow_replace(&quot;stuffed jalapeno poppers&quot;, &quot;e&quot;) ➞ &quot;steffed jelepene peppers&quot;"
      ],
      "metadata": {
        "id": "UuJ2vTbvSHAY"
      },
      "execution_count": null,
      "outputs": []
    },
    {
      "cell_type": "code",
      "source": [
        "def vow_replace(string, vowel):\n",
        "    vowels = \"aeiouAEIOU\"\n",
        "    return \"\".join(vowel if char in vowels else char for char in string)\n",
        "\n",
        "# Examples\n",
        "print(vow_replace(\"apples and bananas\", \"u\"))\n",
        "# Output: \"upplus und bununus\"\n",
        "print(vow_replace(\"cheese casserole\", \"o\"))\n",
        "# Output: \"chooso cossorolo\"\n",
        "print(vow_replace(\"stuffed jalapeno poppers\", \"e\"))\n",
        "# Output: \"steffed jelepene peppers\"\n"
      ],
      "metadata": {
        "colab": {
          "base_uri": "https://localhost:8080/"
        },
        "id": "K5bOkm6rSHDC",
        "outputId": "08731f29-67cc-4c7b-d308-03225f730e4d"
      },
      "execution_count": 3,
      "outputs": [
        {
          "output_type": "stream",
          "name": "stdout",
          "text": [
            "upplus und bununus\n",
            "chooso cossorolo\n",
            "steffed jelepene peppers\n"
          ]
        }
      ]
    },
    {
      "cell_type": "code",
      "source": [],
      "metadata": {
        "id": "o4oVWa_oSHGN"
      },
      "execution_count": null,
      "outputs": []
    },
    {
      "cell_type": "code",
      "source": [],
      "metadata": {
        "id": "izFj6gzNSHJT"
      },
      "execution_count": null,
      "outputs": []
    },
    {
      "cell_type": "code",
      "source": [
        "Question5\n",
        "Create a function that takes a string as input and capitalizes a letter if its ASCII code is even\n",
        "and returns its lower case version if its ASCII code is odd.\n",
        "Examples\n",
        "ascii_capitalize(&quot;to be or not to be!&quot;) ➞ &quot;To Be oR NoT To Be!&quot;\n",
        "ascii_capitalize(&quot;THE LITTLE MERMAID&quot;) ➞ &quot;THe LiTTLe meRmaiD&quot;\n",
        "ascii_capitalize(&quot;Oh what a beautiful morning.&quot;) ➞ &quot;oH wHaT a BeauTiFuL\n",
        "moRNiNg.&quot;"
      ],
      "metadata": {
        "id": "X0UgIvjjSHMV"
      },
      "execution_count": null,
      "outputs": []
    },
    {
      "cell_type": "code",
      "source": [
        "def ascii_capitalize(string):\n",
        "    result = \"\"\n",
        "    for char in string:\n",
        "        ascii_code = ord(char)\n",
        "        if ascii_code % 2 == 0:\n",
        "            result += char.upper()\n",
        "        else:\n",
        "            result += char.lower()\n",
        "    return result\n",
        "\n",
        "# Examples\n",
        "print(ascii_capitalize(\"to be or not to be!\"))\n",
        "# Output: \"To Be oR NoT To Be!\"\n",
        "print(ascii_capitalize(\"THE LITTLE MERMAID\"))\n",
        "# Output: \"THe LiTTLe meRmaiD\"\n",
        "print(ascii_capitalize(\"Oh what a beautiful morning.\"))\n",
        "# Output: \"oH wHaT a BeauTiFuL moRNiNg.\"\n"
      ],
      "metadata": {
        "colab": {
          "base_uri": "https://localhost:8080/"
        },
        "id": "9ZkJStJOSHPE",
        "outputId": "33c5fc0b-3fe8-4b6d-d002-342fb83b93c9"
      },
      "execution_count": 4,
      "outputs": [
        {
          "output_type": "stream",
          "name": "stdout",
          "text": [
            "To Be oR NoT To Be!\n",
            "THe LiTTLe meRmaiD\n",
            "oH wHaT a BeauTiFuL moRNiNg.\n"
          ]
        }
      ]
    },
    {
      "cell_type": "code",
      "source": [],
      "metadata": {
        "id": "-98htsFfSHSV"
      },
      "execution_count": null,
      "outputs": []
    }
  ]
}