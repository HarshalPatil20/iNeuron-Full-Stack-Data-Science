{
  "nbformat": 4,
  "nbformat_minor": 0,
  "metadata": {
    "colab": {
      "provenance": []
    },
    "kernelspec": {
      "name": "python3",
      "display_name": "Python 3"
    },
    "language_info": {
      "name": "python"
    }
  },
  "cells": [
    {
      "cell_type": "code",
      "execution_count": null,
      "metadata": {
        "id": "idWlGkvj2qmR"
      },
      "outputs": [],
      "source": [
        "1. Write a Python program to find sum of elements in list?"
      ]
    },
    {
      "cell_type": "code",
      "source": [
        "def find_sum(elements):\n",
        "    total = sum(elements)\n",
        "    return total\n",
        "\n",
        "# Example list\n",
        "my_list = [1, 2, 3, 4, 5]\n",
        "\n",
        "# Call the function to find the sum\n",
        "sum_of_elements = find_sum(my_list)\n",
        "\n",
        "# Print the result\n",
        "print(\"Sum of elements:\", sum_of_elements)\n"
      ],
      "metadata": {
        "colab": {
          "base_uri": "https://localhost:8080/"
        },
        "id": "ZKv7I_5o2wsn",
        "outputId": "9b16e3f6-e4d5-41f8-aeb7-adf2374bb5b4"
      },
      "execution_count": 1,
      "outputs": [
        {
          "output_type": "stream",
          "name": "stdout",
          "text": [
            "Sum of elements: 15\n"
          ]
        }
      ]
    },
    {
      "cell_type": "code",
      "source": [
        "2. Write a Python program to Multiply all numbers in the list?"
      ],
      "metadata": {
        "id": "_P8sSmgq2wxw"
      },
      "execution_count": null,
      "outputs": []
    },
    {
      "cell_type": "code",
      "source": [
        "def multiply_numbers(numbers):\n",
        "    result = 1\n",
        "    for num in numbers:\n",
        "        result *= num\n",
        "    return result\n",
        "\n",
        "# Example list\n",
        "my_list = [2, 3, 4, 5]\n",
        "\n",
        "# Call the function to multiply the numbers\n",
        "product = multiply_numbers(my_list)\n",
        "\n",
        "# Print the result\n",
        "print(\"Product of numbers:\", product)\n"
      ],
      "metadata": {
        "colab": {
          "base_uri": "https://localhost:8080/"
        },
        "id": "dO6E6Hy_2wzx",
        "outputId": "3e1dde20-08a2-484e-ea7b-6bd1325c8970"
      },
      "execution_count": 2,
      "outputs": [
        {
          "output_type": "stream",
          "name": "stdout",
          "text": [
            "Product of numbers: 120\n"
          ]
        }
      ]
    },
    {
      "cell_type": "code",
      "source": [
        "3. Write a Python program to find smallest number in a list?"
      ],
      "metadata": {
        "id": "XeMULrKI2w1o"
      },
      "execution_count": null,
      "outputs": []
    },
    {
      "cell_type": "code",
      "source": [
        "def find_smallest_number(numbers):\n",
        "    smallest = min(numbers)\n",
        "    return smallest\n",
        "\n",
        "# Example list\n",
        "my_list = [5, 2, 8, 3, 1]\n",
        "\n",
        "# Call the function to find the smallest number\n",
        "smallest_number = find_smallest_number(my_list)\n",
        "\n",
        "# Print the result\n",
        "print(\"Smallest number:\", smallest_number)\n"
      ],
      "metadata": {
        "colab": {
          "base_uri": "https://localhost:8080/"
        },
        "id": "zeP3kUdz2w3t",
        "outputId": "207024f7-8e34-4bde-dc41-7ab2bb5c50fd"
      },
      "execution_count": 3,
      "outputs": [
        {
          "output_type": "stream",
          "name": "stdout",
          "text": [
            "Smallest number: 1\n"
          ]
        }
      ]
    },
    {
      "cell_type": "code",
      "source": [
        "4. Write a Python program to find largest number in a list?"
      ],
      "metadata": {
        "id": "EC-rqjKK2w6y"
      },
      "execution_count": null,
      "outputs": []
    },
    {
      "cell_type": "code",
      "source": [
        "def find_largest_number(numbers):\n",
        "    largest = max(numbers)\n",
        "    return largest\n",
        "\n",
        "# Example list\n",
        "my_list = [5, 2, 8, 3, 1]\n",
        "\n",
        "# Call the function to find the largest number\n",
        "largest_number = find_largest_number(my_list)\n",
        "\n",
        "# Print the result\n",
        "print(\"Largest number:\", largest_number)\n"
      ],
      "metadata": {
        "colab": {
          "base_uri": "https://localhost:8080/"
        },
        "id": "ZALPMHgH2w-W",
        "outputId": "fc3fe6e5-26cc-44d4-b041-a3e9f7a58399"
      },
      "execution_count": 4,
      "outputs": [
        {
          "output_type": "stream",
          "name": "stdout",
          "text": [
            "Largest number: 8\n"
          ]
        }
      ]
    },
    {
      "cell_type": "code",
      "source": [
        "5. Write a Python program to find second largest number in a list?"
      ],
      "metadata": {
        "id": "E-BOLmyv3QUt"
      },
      "execution_count": null,
      "outputs": []
    },
    {
      "cell_type": "code",
      "source": [
        "def find_second_largest_number(numbers):\n",
        "    # Find the largest number\n",
        "    largest = max(numbers)\n",
        "\n",
        "    # Remove the largest number from the list\n",
        "    numbers.remove(largest)\n",
        "\n",
        "    # Find the second largest number from the updated list\n",
        "    second_largest = max(numbers)\n",
        "\n",
        "    return second_largest\n",
        "\n",
        "# Example list\n",
        "my_list = [5, 2, 8, 3, 1]\n",
        "\n",
        "# Call the function to find the second largest number\n",
        "second_largest_number = find_second_largest_number(my_list)\n",
        "\n",
        "# Print the result\n",
        "print(\"Second largest number:\", second_largest_number)\n"
      ],
      "metadata": {
        "colab": {
          "base_uri": "https://localhost:8080/"
        },
        "id": "QQlMdwdB3QXz",
        "outputId": "35ae4448-133a-47e4-8c6f-9e262d22ef69"
      },
      "execution_count": 5,
      "outputs": [
        {
          "output_type": "stream",
          "name": "stdout",
          "text": [
            "Second largest number: 5\n"
          ]
        }
      ]
    },
    {
      "cell_type": "code",
      "source": [
        "6. Write a Python program to find N largest elements from a list?"
      ],
      "metadata": {
        "id": "VoE4w_gj3Qae"
      },
      "execution_count": null,
      "outputs": []
    },
    {
      "cell_type": "code",
      "source": [
        "def find_n_largest_elements(numbers, n):\n",
        "    # Sort the numbers in descending order\n",
        "    sorted_numbers = sorted(numbers, reverse=True)\n",
        "\n",
        "    # Return the first N elements\n",
        "    return sorted_numbers[:n]\n",
        "\n",
        "# Example list\n",
        "my_list = [5, 2, 8, 3, 1, 10, 7, 6]\n",
        "# Specify the value of N\n",
        "N = 3\n",
        "\n",
        "# Call the function to find the N largest elements\n",
        "largest_elements = find_n_largest_elements(my_list, N)\n",
        "\n",
        "# Print the result\n",
        "print(\"Largest\", N, \"elements:\", largest_elements)\n"
      ],
      "metadata": {
        "colab": {
          "base_uri": "https://localhost:8080/"
        },
        "id": "DdGN1BfH3ctW",
        "outputId": "1bc0ee08-71cf-45f7-f8fd-a541b484c30a"
      },
      "execution_count": 6,
      "outputs": [
        {
          "output_type": "stream",
          "name": "stdout",
          "text": [
            "Largest 3 elements: [10, 8, 7]\n"
          ]
        }
      ]
    },
    {
      "cell_type": "code",
      "source": [
        "7. Write a Python program to print even numbers in a list?"
      ],
      "metadata": {
        "id": "o9yslZ3-3r4m"
      },
      "execution_count": null,
      "outputs": []
    },
    {
      "cell_type": "code",
      "source": [
        "def print_even_numbers(numbers):\n",
        "    # Iterate through the numbers\n",
        "    for num in numbers:\n",
        "        # Check if the number is even\n",
        "        if num % 2 == 0:\n",
        "            print(num)\n",
        "\n",
        "# Example list\n",
        "my_list = [1, 2, 3, 4, 5, 6, 7, 8, 9, 10]\n",
        "\n",
        "# Call the function to print even numbers\n",
        "print(\"Even numbers:\")\n",
        "print_even_numbers(my_list)\n"
      ],
      "metadata": {
        "colab": {
          "base_uri": "https://localhost:8080/"
        },
        "id": "4brK6BpS3r9F",
        "outputId": "d8d55796-9e55-46d3-ac56-611cb80af092"
      },
      "execution_count": 7,
      "outputs": [
        {
          "output_type": "stream",
          "name": "stdout",
          "text": [
            "Even numbers:\n",
            "2\n",
            "4\n",
            "6\n",
            "8\n",
            "10\n"
          ]
        }
      ]
    },
    {
      "cell_type": "code",
      "source": [
        "8. Write a Python program to print odd numbers in a List?"
      ],
      "metadata": {
        "id": "I2Q9JEgB3sBK"
      },
      "execution_count": null,
      "outputs": []
    },
    {
      "cell_type": "code",
      "source": [
        "def print_odd_numbers(numbers):\n",
        "    # Iterate through the numbers\n",
        "    for num in numbers:\n",
        "        # Check if the number is odd\n",
        "        if num % 2 != 0:\n",
        "            print(num)\n",
        "\n",
        "# Example list\n",
        "my_list = [1, 2, 3, 4, 5, 6, 7, 8, 9, 10]\n",
        "\n",
        "# Call the function to print odd numbers\n",
        "print(\"Odd numbers:\")\n",
        "print_odd_numbers(my_list)\n"
      ],
      "metadata": {
        "colab": {
          "base_uri": "https://localhost:8080/"
        },
        "id": "cRwhezpc3cx7",
        "outputId": "9696b7bb-3418-484d-b34a-d12685282c42"
      },
      "execution_count": 8,
      "outputs": [
        {
          "output_type": "stream",
          "name": "stdout",
          "text": [
            "Odd numbers:\n",
            "1\n",
            "3\n",
            "5\n",
            "7\n",
            "9\n"
          ]
        }
      ]
    },
    {
      "cell_type": "code",
      "source": [
        "9. Write a Python program to Remove empty List from List?"
      ],
      "metadata": {
        "id": "SquNeXmy4GYz"
      },
      "execution_count": null,
      "outputs": []
    },
    {
      "cell_type": "code",
      "source": [
        "def remove_empty_lists(my_list):\n",
        "    # Use list comprehension to filter out empty lists\n",
        "    cleaned_list = [lst for lst in my_list if lst]\n",
        "    return cleaned_list\n",
        "\n",
        "# Example list\n",
        "my_list = [1, 2, [], 3, [], [4, 5], [], 6, []]\n",
        "\n",
        "# Call the function to remove empty lists\n",
        "cleaned_list = remove_empty_lists(my_list)\n",
        "\n",
        "# Print the result\n",
        "print(\"List after removing empty lists:\", cleaned_list)\n"
      ],
      "metadata": {
        "colab": {
          "base_uri": "https://localhost:8080/"
        },
        "id": "rBp0FSKa4GcU",
        "outputId": "dfbe81c7-f318-4181-bf66-0cedbbdbbe06"
      },
      "execution_count": 9,
      "outputs": [
        {
          "output_type": "stream",
          "name": "stdout",
          "text": [
            "List after removing empty lists: [1, 2, 3, [4, 5], 6]\n"
          ]
        }
      ]
    },
    {
      "cell_type": "code",
      "source": [
        "10. Write a Python program to Cloning or Copying a list?def clone_list(original_list):\n",
        "\n"
      ],
      "metadata": {
        "colab": {
          "base_uri": "https://localhost:8080/",
          "height": 130
        },
        "id": "j9T6dvPa3c0e",
        "outputId": "33016b1f-3b1b-46c5-b4df-46fd8f3902b0"
      },
      "execution_count": 10,
      "outputs": [
        {
          "output_type": "error",
          "ename": "SyntaxError",
          "evalue": "ignored",
          "traceback": [
            "\u001b[0;36m  File \u001b[0;32m\"<ipython-input-10-54b0db6553f2>\"\u001b[0;36m, line \u001b[0;32m1\u001b[0m\n\u001b[0;31m    10. Write a Python program to Cloning or Copying a list?def clone_list(original_list):\u001b[0m\n\u001b[0m        ^\u001b[0m\n\u001b[0;31mSyntaxError\u001b[0m\u001b[0;31m:\u001b[0m invalid syntax\n"
          ]
        }
      ]
    },
    {
      "cell_type": "code",
      "source": [
        "def clone_list(original_list):\n",
        "    # Use the slice operator to create a copy of the list\n",
        "    copied_list = original_list[:]\n",
        "    return copied_list\n",
        "\n",
        "# Example list\n",
        "my_list = [1, 2, 3, 4, 5]\n",
        "\n",
        "# Call the function to clone the list\n",
        "cloned_list = clone_list(my_list)\n",
        "\n",
        "# Print the original and cloned lists\n",
        "print(\"Original list:\", my_list)\n",
        "print(\"Cloned list:\", cloned_list)\n"
      ],
      "metadata": {
        "colab": {
          "base_uri": "https://localhost:8080/"
        },
        "id": "b_E9F2gw3QdB",
        "outputId": "2602fe96-70a5-4cca-e87d-6c1e01f4627a"
      },
      "execution_count": 11,
      "outputs": [
        {
          "output_type": "stream",
          "name": "stdout",
          "text": [
            "Original list: [1, 2, 3, 4, 5]\n",
            "Cloned list: [1, 2, 3, 4, 5]\n"
          ]
        }
      ]
    },
    {
      "cell_type": "code",
      "source": [
        "11. Write a Python program to Count occurrences of an element in a list?"
      ],
      "metadata": {
        "id": "mdp6Zimb3QgX"
      },
      "execution_count": null,
      "outputs": []
    },
    {
      "cell_type": "code",
      "source": [
        "def count_occurrences(my_list, element):\n",
        "    count = my_list.count(element)\n",
        "    return count\n",
        "\n",
        "# Example list\n",
        "my_list = [1, 2, 3, 2, 4, 2, 5, 2]\n",
        "\n",
        "# Example element to count\n",
        "element = 2\n",
        "\n",
        "# Call the function to count occurrences\n",
        "occurrences = count_occurrences(my_list, element)\n",
        "\n",
        "# Print the result\n",
        "print(\"Occurrences of\", element, \"in the list:\", occurrences)\n"
      ],
      "metadata": {
        "colab": {
          "base_uri": "https://localhost:8080/"
        },
        "id": "ziypFeno4aj4",
        "outputId": "45e5ab61-931a-4144-f356-eb82af6cc29c"
      },
      "execution_count": 12,
      "outputs": [
        {
          "output_type": "stream",
          "name": "stdout",
          "text": [
            "Occurrences of 2 in the list: 4\n"
          ]
        }
      ]
    },
    {
      "cell_type": "code",
      "source": [],
      "metadata": {
        "id": "zraNhJit4anZ"
      },
      "execution_count": null,
      "outputs": []
    }
  ]
}