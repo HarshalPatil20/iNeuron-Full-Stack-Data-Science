{
  "nbformat": 4,
  "nbformat_minor": 0,
  "metadata": {
    "colab": {
      "provenance": []
    },
    "kernelspec": {
      "name": "python3",
      "display_name": "Python 3"
    },
    "language_info": {
      "name": "python"
    }
  },
  "cells": [
    {
      "cell_type": "code",
      "execution_count": null,
      "metadata": {
        "id": "glnfKevczW_f"
      },
      "outputs": [],
      "source": [
        "1. Write a Python Program to Display Fibonacci Sequence Using Recursion?\n"
      ]
    },
    {
      "cell_type": "code",
      "source": [
        "def fibonacci(n):\n",
        "    if n <= 1:\n",
        "        return n\n",
        "    else:\n",
        "        return fibonacci(n - 1) + fibonacci(n - 2)\n",
        "\n",
        "\n",
        "# Take user input for the number of terms in the sequence\n",
        "terms = int(input(\"Enter the number of terms in the Fibonacci sequence: \"))\n",
        "\n",
        "# Display the Fibonacci sequence\n",
        "if terms <= 0:\n",
        "    print(\"Please enter a positive integer.\")\n",
        "else:\n",
        "    print(\"Fibonacci sequence:\")\n",
        "    for i in range(terms):\n",
        "        fib_num = fibonacci(i)\n",
        "        print(fib_num, end=\" \")\n"
      ],
      "metadata": {
        "colab": {
          "base_uri": "https://localhost:8080/"
        },
        "id": "7cOm9qtjzsAI",
        "outputId": "a4d3293a-8146-4bf7-e35d-277f903bc102"
      },
      "execution_count": 1,
      "outputs": [
        {
          "output_type": "stream",
          "name": "stdout",
          "text": [
            "Enter the number of terms in the Fibonacci sequence: 20\n",
            "Fibonacci sequence:\n",
            "0 1 1 2 3 5 8 13 21 34 55 89 144 233 377 610 987 1597 2584 4181 "
          ]
        }
      ]
    },
    {
      "cell_type": "code",
      "source": [
        "2. Write a Python Program to Find Factorial of Number Using Recursion?"
      ],
      "metadata": {
        "id": "A5uwVA6KzsFG"
      },
      "execution_count": null,
      "outputs": []
    },
    {
      "cell_type": "code",
      "source": [
        "def factorial(n):\n",
        "    if n == 0:\n",
        "        return 1\n",
        "    else:\n",
        "        return n * factorial(n - 1)\n",
        "\n",
        "\n",
        "# Take user input for the number\n",
        "num = int(input(\"Enter a non-negative integer: \"))\n",
        "\n",
        "# Check if the number is non-negative\n",
        "if num < 0:\n",
        "    print(\"Factorial is undefined for negative numbers.\")\n",
        "else:\n",
        "    result = factorial(num)\n",
        "    print(\"The factorial of\", num, \"is\", result)\n"
      ],
      "metadata": {
        "colab": {
          "base_uri": "https://localhost:8080/"
        },
        "id": "Ydi_ZaY6zsHO",
        "outputId": "b7ebd4c7-6aab-4715-8c1f-9402ac9acb3e"
      },
      "execution_count": 2,
      "outputs": [
        {
          "output_type": "stream",
          "name": "stdout",
          "text": [
            "Enter a non-negative integer: 30\n",
            "The factorial of 30 is 265252859812191058636308480000000\n"
          ]
        }
      ]
    },
    {
      "cell_type": "code",
      "source": [
        "3. Write a Python Program to calculate your Body Mass Index?"
      ],
      "metadata": {
        "id": "22v46GHwzsJI"
      },
      "execution_count": null,
      "outputs": []
    },
    {
      "cell_type": "code",
      "source": [
        "def calculate_bmi(weight, height):\n",
        "    bmi = weight / (height ** 2)\n",
        "    return bmi\n",
        "\n",
        "\n",
        "# Take user input for weight in kilograms and height in meters\n",
        "weight = float(input(\"Enter your weight in kilograms: \"))\n",
        "height = float(input(\"Enter your height in meters: \"))\n",
        "\n",
        "# Calculate the BMI\n",
        "bmi = calculate_bmi(weight, height)\n",
        "\n",
        "# Display the BMI\n",
        "print(\"Your Body Mass Index (BMI) is:\", bmi)\n"
      ],
      "metadata": {
        "colab": {
          "base_uri": "https://localhost:8080/"
        },
        "id": "3Z4dcV1z0LKY",
        "outputId": "2fa7639f-7b99-4cdd-e9bc-4d7b13fb64a0"
      },
      "execution_count": 3,
      "outputs": [
        {
          "output_type": "stream",
          "name": "stdout",
          "text": [
            "Enter your weight in kilograms: 200\n",
            "Enter your height in meters: 20\n",
            "Your Body Mass Index (BMI) is: 0.5\n"
          ]
        }
      ]
    },
    {
      "cell_type": "code",
      "source": [
        "4. Write a Python Program to calculate the natural logarithm of any number?"
      ],
      "metadata": {
        "id": "k7Hefwd60LPC"
      },
      "execution_count": null,
      "outputs": []
    },
    {
      "cell_type": "code",
      "source": [
        "import math\n",
        "\n",
        "# Take user input for the number\n",
        "num = float(input(\"Enter a positive number: \"))\n",
        "\n",
        "# Calculate the natural logarithm\n",
        "log_value = math.log(num)\n",
        "\n",
        "# Display the result\n",
        "print(\"The natural logarithm of\", num, \"is\", log_value)\n"
      ],
      "metadata": {
        "colab": {
          "base_uri": "https://localhost:8080/"
        },
        "id": "nMm4xC1g0LQq",
        "outputId": "42ba9f14-e8ce-4d1c-fed8-c43bbe55fef8"
      },
      "execution_count": 4,
      "outputs": [
        {
          "output_type": "stream",
          "name": "stdout",
          "text": [
            "Enter a positive number: 23\n",
            "The natural logarithm of 23.0 is 3.1354942159291497\n"
          ]
        }
      ]
    },
    {
      "cell_type": "code",
      "source": [
        "5. Write a Python Program for cube sum of first n natural numbers?"
      ],
      "metadata": {
        "id": "awg6ps4X0LSp"
      },
      "execution_count": null,
      "outputs": []
    },
    {
      "cell_type": "code",
      "source": [
        "def cube_sum(n):\n",
        "    sum_of_cubes = 0\n",
        "    for i in range(1, n + 1):\n",
        "        sum_of_cubes += i ** 3\n",
        "    return sum_of_cubes\n",
        "\n",
        "\n",
        "# Take user input for the value of n\n",
        "n = int(input(\"Enter a positive integer (n): \"))\n",
        "\n",
        "# Calculate the cube sum\n",
        "result = cube_sum(n)\n",
        "\n",
        "# Display the result\n",
        "print(\"The cube sum of the first\", n, \"natural numbers is\", result)\n"
      ],
      "metadata": {
        "colab": {
          "base_uri": "https://localhost:8080/"
        },
        "id": "7dK4a5G7zsM0",
        "outputId": "c5dda213-e2fb-44db-d75f-c108a5cbcc76"
      },
      "execution_count": 5,
      "outputs": [
        {
          "output_type": "stream",
          "name": "stdout",
          "text": [
            "Enter a positive integer (n): 25\n",
            "The cube sum of the first 25 natural numbers is 105625\n"
          ]
        }
      ]
    }
  ]
}