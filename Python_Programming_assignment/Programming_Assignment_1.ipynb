{
  "nbformat": 4,
  "nbformat_minor": 0,
  "metadata": {
    "colab": {
      "provenance": [],
      "gpuType": "T4"
    },
    "kernelspec": {
      "name": "python3",
      "display_name": "Python 3"
    },
    "language_info": {
      "name": "python"
    },
    "accelerator": "GPU"
  },
  "cells": [
    {
      "cell_type": "code",
      "execution_count": null,
      "metadata": {
        "id": "dQrHFnY9NnxM"
      },
      "outputs": [],
      "source": [
        "1. Write a Python program to print Hello Python;?"
      ]
    },
    {
      "cell_type": "code",
      "source": [
        "X= \"Hello Python?\"\n",
        "print(X)"
      ],
      "metadata": {
        "colab": {
          "base_uri": "https://localhost:8080/"
        },
        "id": "8G38JrLBNpaN",
        "outputId": "6842ec28-a565-4080-c8d6-6c9c2a153875"
      },
      "execution_count": 1,
      "outputs": [
        {
          "output_type": "stream",
          "name": "stdout",
          "text": [
            "Hello Python?\n"
          ]
        }
      ]
    },
    {
      "cell_type": "code",
      "source": [
        "2. Write a Python program to do arithmetical operations addition and division.?"
      ],
      "metadata": {
        "id": "zX_zAbm0NpfM"
      },
      "execution_count": null,
      "outputs": []
    },
    {
      "cell_type": "code",
      "source": [
        "def addition(num1, num2):\n",
        "  return num1+num2\n",
        "\n",
        "def subtraction(num1,num2):\n",
        "  return num1-num2\n",
        "\n",
        "def division(num1,num2):\n",
        "  return num1//num2\n",
        "\n",
        "\n",
        "num1 = 20\n",
        "num2 = 12\n",
        "\n",
        "print(addition(num1,num2))\n",
        "print(subtraction(num1,num2))\n",
        "print(division(num1,num2))"
      ],
      "metadata": {
        "colab": {
          "base_uri": "https://localhost:8080/"
        },
        "id": "iszE4qWrNpgr",
        "outputId": "20fbe75e-8022-4ddc-aa66-b3b13aeffac0"
      },
      "execution_count": 2,
      "outputs": [
        {
          "output_type": "stream",
          "name": "stdout",
          "text": [
            "32\n",
            "8\n",
            "1\n"
          ]
        }
      ]
    },
    {
      "cell_type": "code",
      "source": [
        "3. Write a Python program to find the area of a triangle?"
      ],
      "metadata": {
        "id": "7_0U4tZfODrX"
      },
      "execution_count": null,
      "outputs": []
    },
    {
      "cell_type": "code",
      "source": [
        "def areaTriangle(base, height):\n",
        "  area = base*height\n",
        "  return area\n",
        "\n",
        "\n",
        "base = 12\n",
        "height = 2\n",
        "Area = areaTriangle(base,height)\n",
        "print(\"Area of triangle:\", Area)\n"
      ],
      "metadata": {
        "colab": {
          "base_uri": "https://localhost:8080/"
        },
        "id": "x8bTiJuxODv3",
        "outputId": "dfdbfaa1-e090-458c-e4ea-7086ca8fa89d"
      },
      "execution_count": 5,
      "outputs": [
        {
          "output_type": "stream",
          "name": "stdout",
          "text": [
            "Area of triangle: 24\n"
          ]
        }
      ]
    },
    {
      "cell_type": "code",
      "source": [
        "4. Write a Python program to swap two variables?"
      ],
      "metadata": {
        "id": "tFEM5QV6Pvnx"
      },
      "execution_count": null,
      "outputs": []
    },
    {
      "cell_type": "code",
      "source": [
        "def swap(a,b):\n",
        "  temp =a\n",
        "  a=b\n",
        "  b=temp\n",
        "  return a,b\n",
        "\n",
        "a=2\n",
        "b=5\n",
        "swapping = swap(a,b)\n",
        "\n",
        "print(\"Swapping of two variable\",swapping )"
      ],
      "metadata": {
        "colab": {
          "base_uri": "https://localhost:8080/"
        },
        "id": "ewbXSKMePvtR",
        "outputId": "e93c57e3-3d6b-48af-e1bd-a55320c03e47"
      },
      "execution_count": 7,
      "outputs": [
        {
          "output_type": "stream",
          "name": "stdout",
          "text": [
            "Swapping of two variable (5, 2)\n"
          ]
        }
      ]
    },
    {
      "cell_type": "code",
      "source": [
        "5. Write a Python program to generate a random number?"
      ],
      "metadata": {
        "id": "FkkS1l2MQQOg"
      },
      "execution_count": null,
      "outputs": []
    },
    {
      "cell_type": "code",
      "source": [
        "import random\n",
        "\n",
        "def generate(start,end):\n",
        "  return random.randint(start,end)\n",
        "\n",
        "\n",
        "start = int(input(\"Enter starting Number\"))\n",
        "end = int(input(\"Enter ending Number\"))\n",
        "random_number = generate(start,end)\n",
        "\n",
        "print(random_number)\n"
      ],
      "metadata": {
        "colab": {
          "base_uri": "https://localhost:8080/"
        },
        "id": "ehERVqWxQScj",
        "outputId": "8f6adb07-770d-4e20-90c8-91b0652d5be8"
      },
      "execution_count": 8,
      "outputs": [
        {
          "output_type": "stream",
          "name": "stdout",
          "text": [
            "Enter starting Number12\n",
            "Enter ending Number100\n",
            "35\n"
          ]
        }
      ]
    },
    {
      "cell_type": "code",
      "source": [],
      "metadata": {
        "id": "SQH9T34zQSh1"
      },
      "execution_count": null,
      "outputs": []
    }
  ]
}