{
  "nbformat": 4,
  "nbformat_minor": 0,
  "metadata": {
    "colab": {
      "provenance": []
    },
    "kernelspec": {
      "name": "python3",
      "display_name": "Python 3"
    },
    "language_info": {
      "name": "python"
    }
  },
  "cells": [
    {
      "cell_type": "code",
      "execution_count": null,
      "metadata": {
        "id": "JtC4w71Cx2CY"
      },
      "outputs": [],
      "source": [
        "1. Write a Python Program to Find LCM?"
      ]
    },
    {
      "cell_type": "code",
      "source": [
        "def find_lcm(a, b):\n",
        "    # Find the maximum of the two numbers\n",
        "    max_num = max(a, b)\n",
        "\n",
        "    while True:\n",
        "        if max_num % a == 0 and max_num % b == 0:\n",
        "            lcm = max_num\n",
        "            break\n",
        "        max_num += 1\n",
        "\n",
        "    return lcm\n",
        "\n",
        "\n",
        "# Take user input for two numbers\n",
        "num1 = int(input(\"Enter the first number: \"))\n",
        "num2 = int(input(\"Enter the second number: \"))\n",
        "\n",
        "# Call the function and display the result\n",
        "result = find_lcm(num1, num2)\n",
        "print(\"The LCM of\", num1, \"and\", num2, \"is\", result)\n"
      ],
      "metadata": {
        "colab": {
          "base_uri": "https://localhost:8080/"
        },
        "id": "ukw2xFImx3Yx",
        "outputId": "a29c90f6-4810-440f-bc61-444173c95f56"
      },
      "execution_count": 1,
      "outputs": [
        {
          "output_type": "stream",
          "name": "stdout",
          "text": [
            "Enter the first number: 46\n",
            "Enter the second number: 56\n",
            "The LCM of 46 and 56 is 1288\n"
          ]
        }
      ]
    },
    {
      "cell_type": "code",
      "source": [
        "2. Write a Python Program to Find HCF?"
      ],
      "metadata": {
        "id": "irvJC0Rgx3eA"
      },
      "execution_count": null,
      "outputs": []
    },
    {
      "cell_type": "code",
      "source": [
        "def find_hcf(a, b):\n",
        "    # Find the minimum of the two numbers\n",
        "    min_num = min(a, b)\n",
        "\n",
        "    hcf = 1\n",
        "\n",
        "    for i in range(1, min_num + 1):\n",
        "        if a % i == 0 and b % i == 0:\n",
        "            hcf = i\n",
        "\n",
        "    return hcf\n",
        "\n",
        "\n",
        "# Take user input for two numbers\n",
        "num1 = int(input(\"Enter the first number: \"))\n",
        "num2 = int(input(\"Enter the second number: \"))\n",
        "\n",
        "# Call the function and display the result\n",
        "result = find_hcf(num1, num2)\n",
        "print(\"The HCF of\", num1, \"and\", num2, \"is\", result)\n"
      ],
      "metadata": {
        "colab": {
          "base_uri": "https://localhost:8080/"
        },
        "id": "dY456cy6x3gT",
        "outputId": "3d0be52c-56c0-4b0f-ea2b-99a9f688e9ac"
      },
      "execution_count": 2,
      "outputs": [
        {
          "output_type": "stream",
          "name": "stdout",
          "text": [
            "Enter the first number: 93\n",
            "Enter the second number: 97\n",
            "The HCF of 93 and 97 is 1\n"
          ]
        }
      ]
    },
    {
      "cell_type": "code",
      "source": [
        "3. Write a Python Program to Convert Decimal to Binary, Octal and Hexadecimal?"
      ],
      "metadata": {
        "id": "4Op0nftrx3ic"
      },
      "execution_count": null,
      "outputs": []
    },
    {
      "cell_type": "code",
      "source": [
        "def decimal_to_binary(decimal):\n",
        "    binary = bin(decimal).replace(\"0b\", \"\")\n",
        "    return binary\n",
        "\n",
        "\n",
        "def decimal_to_octal(decimal):\n",
        "    octal = oct(decimal).replace(\"0o\", \"\")\n",
        "    return octal\n",
        "\n",
        "\n",
        "def decimal_to_hexadecimal(decimal):\n",
        "    hexadecimal = hex(decimal).replace(\"0x\", \"\")\n",
        "    return hexadecimal\n",
        "\n",
        "\n",
        "# Take user input for a decimal number\n",
        "decimal_num = int(input(\"Enter a decimal number: \"))\n",
        "\n",
        "# Convert to binary, octal, and hexadecimal\n",
        "binary_num = decimal_to_binary(decimal_num)\n",
        "octal_num = decimal_to_octal(decimal_num)\n",
        "hexadecimal_num = decimal_to_hexadecimal(decimal_num)\n",
        "\n",
        "# Display the results\n",
        "print(\"Binary:\", binary_num)\n",
        "print(\"Octal:\", octal_num)\n",
        "print(\"Hexadecimal:\", hexadecimal_num)\n",
        "2"
      ],
      "metadata": {
        "colab": {
          "base_uri": "https://localhost:8080/"
        },
        "id": "FWxsp-fUx3kN",
        "outputId": "7698542f-1e15-4499-9c4b-544bdbd30832"
      },
      "execution_count": 3,
      "outputs": [
        {
          "output_type": "stream",
          "name": "stdout",
          "text": [
            "Enter a decimal number: 20\n",
            "Binary: 10100\n",
            "Octal: 24\n",
            "Hexadecimal: 14\n"
          ]
        }
      ]
    },
    {
      "cell_type": "code",
      "source": [
        "4. Write a Python Program To Find ASCII value of a character?"
      ],
      "metadata": {
        "id": "5OvTUWf0yQNj"
      },
      "execution_count": null,
      "outputs": []
    },
    {
      "cell_type": "code",
      "source": [
        "# Take user input for a character\n",
        "character = input(\"Enter a character: \")\n",
        "\n",
        "# Convert the character to ASCII value\n",
        "ascii_value = ord(character)\n",
        "\n",
        "# Display the ASCII value\n",
        "print(\"The ASCII value of\", character, \"is\", ascii_value)\n"
      ],
      "metadata": {
        "colab": {
          "base_uri": "https://localhost:8080/",
          "height": 252
        },
        "id": "xSrktSD1yQQL",
        "outputId": "11d416e5-7ec9-471f-e31a-51a02c755e9b"
      },
      "execution_count": 4,
      "outputs": [
        {
          "name": "stdout",
          "output_type": "stream",
          "text": [
            "Enter a character: 25\n"
          ]
        },
        {
          "output_type": "error",
          "ename": "TypeError",
          "evalue": "ignored",
          "traceback": [
            "\u001b[0;31m---------------------------------------------------------------------------\u001b[0m",
            "\u001b[0;31mTypeError\u001b[0m                                 Traceback (most recent call last)",
            "\u001b[0;32m<ipython-input-4-904bc824b7a4>\u001b[0m in \u001b[0;36m<cell line: 5>\u001b[0;34m()\u001b[0m\n\u001b[1;32m      3\u001b[0m \u001b[0;34m\u001b[0m\u001b[0m\n\u001b[1;32m      4\u001b[0m \u001b[0;31m# Convert the character to ASCII value\u001b[0m\u001b[0;34m\u001b[0m\u001b[0;34m\u001b[0m\u001b[0m\n\u001b[0;32m----> 5\u001b[0;31m \u001b[0mascii_value\u001b[0m \u001b[0;34m=\u001b[0m \u001b[0mord\u001b[0m\u001b[0;34m(\u001b[0m\u001b[0mcharacter\u001b[0m\u001b[0;34m)\u001b[0m\u001b[0;34m\u001b[0m\u001b[0;34m\u001b[0m\u001b[0m\n\u001b[0m\u001b[1;32m      6\u001b[0m \u001b[0;34m\u001b[0m\u001b[0m\n\u001b[1;32m      7\u001b[0m \u001b[0;31m# Display the ASCII value\u001b[0m\u001b[0;34m\u001b[0m\u001b[0;34m\u001b[0m\u001b[0m\n",
            "\u001b[0;31mTypeError\u001b[0m: ord() expected a character, but string of length 2 found"
          ]
        }
      ]
    },
    {
      "cell_type": "code",
      "source": [
        "5. Write a Python Program to Make a Simple Calculator with 4 basic mathematical operations?"
      ],
      "metadata": {
        "id": "t1XAg3TTyQS7"
      },
      "execution_count": null,
      "outputs": []
    },
    {
      "cell_type": "code",
      "source": [
        "def add(x, y):\n",
        "    return x + y\n",
        "\n",
        "\n",
        "def subtract(x, y):\n",
        "    return x - y\n",
        "\n",
        "\n",
        "def multiply(x, y):\n",
        "    return x * y\n",
        "\n",
        "\n",
        "def divide(x, y):\n",
        "    if y == 0:\n",
        "        return \"Error: Cannot divide by zero\"\n",
        "    else:\n",
        "        return x / y\n",
        "\n",
        "\n",
        "# Take user input for two numbers\n",
        "num1 = float(input(\"Enter the first number: \"))\n",
        "num2 = float(input(\"Enter the second number: \"))\n",
        "\n",
        "# Display the menu\n",
        "print(\"Select operation:\")\n",
        "print(\"1. Addition\")\n",
        "print(\"2. Subtraction\")\n",
        "print(\"3. Multiplication\")\n",
        "print(\"4. Division\")\n",
        "\n",
        "# Take user input for the operation choice\n",
        "choice = input(\"Enter your choice (1-4): \")\n",
        "\n",
        "# Perform the selected operation\n",
        "if choice == '1':\n",
        "    result = add(num1, num2)\n",
        "    operation = '+'\n",
        "elif choice == '2':\n",
        "    result = subtract(num1, num2)\n",
        "    operation = '-'\n",
        "elif choice == '3':\n",
        "    result = multiply(num1, num2)\n",
        "    operation = '*'\n",
        "elif choice == '4':\n",
        "    result = divide(num1, num2)\n",
        "    operation = '/'\n",
        "\n",
        "# Display the result\n",
        "print(num1, operation, num2, \"=\", result)\n"
      ],
      "metadata": {
        "colab": {
          "base_uri": "https://localhost:8080/"
        },
        "id": "-BOFZLVhyQWk",
        "outputId": "7c1b1481-aa93-4a6a-96ba-55a305e8de49"
      },
      "execution_count": 5,
      "outputs": [
        {
          "output_type": "stream",
          "name": "stdout",
          "text": [
            "Enter the first number: 30\n",
            "Enter the second number: 20\n",
            "Select operation:\n",
            "1. Addition\n",
            "2. Subtraction\n",
            "3. Multiplication\n",
            "4. Division\n",
            "Enter your choice (1-4): 3\n",
            "30.0 * 20.0 = 600.0\n"
          ]
        }
      ]
    }
  ]
}