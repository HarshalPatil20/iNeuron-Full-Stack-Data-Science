{
  "nbformat": 4,
  "nbformat_minor": 0,
  "metadata": {
    "colab": {
      "provenance": []
    },
    "kernelspec": {
      "name": "python3",
      "display_name": "Python 3"
    },
    "language_info": {
      "name": "python"
    }
  },
  "cells": [
    {
      "cell_type": "code",
      "execution_count": null,
      "metadata": {
        "id": "TwR86a_TPAJ8"
      },
      "outputs": [],
      "source": [
        "1. Write a Python Program to Find the Factorial of a Number?"
      ]
    },
    {
      "cell_type": "code",
      "source": [
        "num = int(input(\"Enter a number: \"))\n",
        "\n",
        "factorial = 1\n",
        "\n",
        "if num < 0:\n",
        "    print(\"Factorial cannot be calculated for negative numbers.\")\n",
        "elif num == 0:\n",
        "    print(\"The factorial of 0 is 1.\")\n",
        "else:\n",
        "    for i in range(1, num + 1):\n",
        "        factorial *= i\n",
        "    print(\"The factorial of\", num, \"is\", factorial)\n"
      ],
      "metadata": {
        "colab": {
          "base_uri": "https://localhost:8080/"
        },
        "id": "mSh0LaFDRHjc",
        "outputId": "e549f251-063d-4c4e-c201-801b980c5ae5"
      },
      "execution_count": 1,
      "outputs": [
        {
          "output_type": "stream",
          "name": "stdout",
          "text": [
            "Enter a number: 20\n",
            "The factorial of 20 is 2432902008176640000\n"
          ]
        }
      ]
    },
    {
      "cell_type": "code",
      "source": [
        "2. Write a Python Program to Display the multiplication Table?"
      ],
      "metadata": {
        "id": "43C4M5CKRHqt"
      },
      "execution_count": null,
      "outputs": []
    },
    {
      "cell_type": "code",
      "source": [
        "num = int(input(\"Enter a number: \"))\n",
        "\n",
        "print(\"Multiplication Table of\", num)\n",
        "print(\"------------------------------\")\n",
        "\n",
        "for i in range(1, 11):\n",
        "    product = num * i\n",
        "    print(num, \"x\", i, \"=\", product)\n"
      ],
      "metadata": {
        "colab": {
          "base_uri": "https://localhost:8080/"
        },
        "id": "ED4G1hHXRaRJ",
        "outputId": "2cb8b4ac-e9ed-4d9d-af9f-d122ead2c28f"
      },
      "execution_count": 3,
      "outputs": [
        {
          "output_type": "stream",
          "name": "stdout",
          "text": [
            "Enter a number: 20\n",
            "Multiplication Table of 20\n",
            "------------------------------\n",
            "20 x 1 = 20\n",
            "20 x 2 = 40\n",
            "20 x 3 = 60\n",
            "20 x 4 = 80\n",
            "20 x 5 = 100\n",
            "20 x 6 = 120\n",
            "20 x 7 = 140\n",
            "20 x 8 = 160\n",
            "20 x 9 = 180\n",
            "20 x 10 = 200\n"
          ]
        }
      ]
    },
    {
      "cell_type": "code",
      "source": [],
      "metadata": {
        "id": "TKuyVBpFRovu"
      },
      "execution_count": null,
      "outputs": []
    },
    {
      "cell_type": "code",
      "source": [
        "3. Write a Python Program to Print the Fibonacci sequence?"
      ],
      "metadata": {
        "id": "VDPuc8rXRaU8"
      },
      "execution_count": null,
      "outputs": []
    },
    {
      "cell_type": "code",
      "source": [
        "num_terms = int(input(\"Enter the number of terms: \"))\n",
        "\n",
        "# First two terms of the Fibonacci sequence\n",
        "first_term = 0\n",
        "second_term = 1\n",
        "\n",
        "# Print the first two terms\n",
        "print(\"Fibonacci sequence:\")\n",
        "print(first_term)\n",
        "print(second_term)\n",
        "\n",
        "# Generate and print the remaining terms\n",
        "for i in range(2, num_terms):\n",
        "    next_term = first_term + second_term\n",
        "    print(next_term)\n",
        "    first_term = second_term\n",
        "    second_term = next_term\n"
      ],
      "metadata": {
        "colab": {
          "base_uri": "https://localhost:8080/"
        },
        "id": "9JD9MSZmRaXh",
        "outputId": "2d9fe260-85c3-4287-e1df-a0fcb3984e7f"
      },
      "execution_count": 4,
      "outputs": [
        {
          "output_type": "stream",
          "name": "stdout",
          "text": [
            "Enter the number of terms: 20\n",
            "Fibonacci sequence:\n",
            "0\n",
            "1\n",
            "1\n",
            "2\n",
            "3\n",
            "5\n",
            "8\n",
            "13\n",
            "21\n",
            "34\n",
            "55\n",
            "89\n",
            "144\n",
            "233\n",
            "377\n",
            "610\n",
            "987\n",
            "1597\n",
            "2584\n",
            "4181\n"
          ]
        }
      ]
    },
    {
      "cell_type": "code",
      "source": [
        "4. Write a Python Program to Check Armstrong Number?"
      ],
      "metadata": {
        "id": "n1qmRt69Ryj9"
      },
      "execution_count": null,
      "outputs": []
    },
    {
      "cell_type": "code",
      "source": [
        "num = int(input(\"Enter a number: \"))\n",
        "\n",
        "# Count the number of digits\n",
        "num_of_digits = len(str(num))\n",
        "\n",
        "# Calculate the sum of the digits raised to the power of the number of digits\n",
        "sum_of_digits = 0\n",
        "temp = num\n",
        "while temp > 0:\n",
        "    digit = temp % 10\n",
        "    sum_of_digits += digit ** num_of_digits\n",
        "    temp //= 10\n",
        "\n",
        "# Check if the number is an Armstrong number\n",
        "if num == sum_of_digits:\n",
        "    print(num, \"is an Armstrong number.\")\n",
        "else:\n",
        "    print(num, \"is not an Armstrong number.\")\n"
      ],
      "metadata": {
        "colab": {
          "base_uri": "https://localhost:8080/"
        },
        "id": "SDH4AHhDRaZ4",
        "outputId": "d74c0ebd-3e04-481f-9ef0-0fe44d43f170"
      },
      "execution_count": 5,
      "outputs": [
        {
          "output_type": "stream",
          "name": "stdout",
          "text": [
            "Enter a number: 52\n",
            "52 is not an Armstrong number.\n"
          ]
        }
      ]
    },
    {
      "cell_type": "code",
      "source": [
        "5. Write a Python Program to Find Armstrong Number in an Interval?"
      ],
      "metadata": {
        "id": "Iw6Dg2woRac1"
      },
      "execution_count": null,
      "outputs": []
    },
    {
      "cell_type": "code",
      "source": [
        "lower = int(input(\"Enter the lower bound of the interval: \"))\n",
        "upper = int(input(\"Enter the upper bound of the interval: \"))\n",
        "\n",
        "print(\"Armstrong numbers between\", lower, \"and\", upper, \"are:\")\n",
        "\n",
        "for num in range(lower, upper + 1):\n",
        "    # Count the number of digits\n",
        "    num_of_digits = len(str(num))\n",
        "\n",
        "    # Calculate the sum of the digits raised to the power of the number of digits\n",
        "    sum_of_digits = 0\n",
        "    temp = num\n",
        "    while temp > 0:\n",
        "        digit = temp % 10\n",
        "        sum_of_digits += digit ** num_of_digits\n",
        "        temp //= 10\n",
        "\n",
        "    # Check if the number is an Armstrong number\n",
        "    if num == sum_of_digits:\n",
        "        print(num)\n"
      ],
      "metadata": {
        "colab": {
          "base_uri": "https://localhost:8080/"
        },
        "id": "9MRrRAigRHue",
        "outputId": "193aa73f-1075-4210-fd33-7f6925b990fe"
      },
      "execution_count": 6,
      "outputs": [
        {
          "output_type": "stream",
          "name": "stdout",
          "text": [
            "Enter the lower bound of the interval: 100\n",
            "Enter the upper bound of the interval: 20\n",
            "Armstrong numbers between 100 and 20 are:\n"
          ]
        }
      ]
    },
    {
      "cell_type": "code",
      "source": [
        "6. Write a Python Program to Find the Sum of Natural Numbers?"
      ],
      "metadata": {
        "id": "-ZdQy79gSZFV"
      },
      "execution_count": null,
      "outputs": []
    },
    {
      "cell_type": "code",
      "source": [
        "limit = int(input(\"Enter the limit: \"))\n",
        "\n",
        "# Check if the limit is a positive integer\n",
        "if limit <= 0:\n",
        "    print(\"Invalid limit. Please enter a positive integer.\")\n",
        "else:\n",
        "    # Calculate the sum of natural numbers\n",
        "    sum_of_numbers = (limit * (limit + 1)) // 2\n",
        "\n",
        "    # Print the sum of natural numbers\n",
        "    print(\"The sum of natural numbers up to\", limit, \"is\", sum_of_numbers)\n"
      ],
      "metadata": {
        "colab": {
          "base_uri": "https://localhost:8080/"
        },
        "id": "ZPBPaTJdSZJv",
        "outputId": "3fab787f-ecc5-4330-f971-a9ce5f3eaa7b"
      },
      "execution_count": 7,
      "outputs": [
        {
          "output_type": "stream",
          "name": "stdout",
          "text": [
            "Enter the limit: 10\n",
            "The sum of natural numbers up to 10 is 55\n"
          ]
        }
      ]
    },
    {
      "cell_type": "code",
      "source": [],
      "metadata": {
        "id": "mg21eJF6SZLv"
      },
      "execution_count": null,
      "outputs": []
    }
  ]
}