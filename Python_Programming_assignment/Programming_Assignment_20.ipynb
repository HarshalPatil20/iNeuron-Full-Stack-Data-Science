{
  "nbformat": 4,
  "nbformat_minor": 0,
  "metadata": {
    "colab": {
      "provenance": []
    },
    "kernelspec": {
      "name": "python3",
      "display_name": "Python 3"
    },
    "language_info": {
      "name": "python"
    }
  },
  "cells": [
    {
      "cell_type": "code",
      "execution_count": null,
      "metadata": {
        "id": "94TeHLw8KM53"
      },
      "outputs": [],
      "source": [
        "Question1\n",
        "Create a function that takes a list of strings and integers, and filters out the list so that it\n",
        "returns a list of integers only.\n",
        "Examples\n",
        "filter_list([1, 2, 3, &quot;a&quot;, &quot;b&quot;, 4]) ➞ [1, 2, 3, 4]\n",
        "filter_list([&quot;A&quot;, 0, &quot;Edabit&quot;, 1729, &quot;Python&quot;, &quot;1729&quot;]) ➞ [0, 1729]\n",
        "filter_list([&quot;Nothing&quot;, &quot;here&quot;]) ➞ []"
      ]
    },
    {
      "cell_type": "code",
      "source": [
        "Question1\n",
        "Create a function that takes a list of strings and integers, and filters out the list so that it\n",
        "returns a list of integers only.\n",
        "Examples\n",
        "filter_list([1, 2, 3, &quot;a&quot;, &quot;b&quot;, 4]) ➞ [1, 2, 3, 4]\n",
        "filter_list([&quot;A&quot;, 0, &quot;Edabit&quot;, 1729, &quot;Python&quot;, &quot;1729&quot;]) ➞ [0, 1729]\n",
        "filter_list([&quot;Nothing&quot;, &quot;here&quot;]) ➞ []"
      ],
      "metadata": {
        "id": "AlBYkHjoKQWh"
      },
      "execution_count": null,
      "outputs": []
    },
    {
      "cell_type": "code",
      "source": [
        "Question2\n",
        "Given a list of numbers, create a function which returns the list but with each element&#39;s\n",
        "index in the list added to itself. This means you add 0 to the number at index 0, add 1 to the\n",
        "number at index 1, etc...\n",
        "Examples\n",
        "add_indexes([0, 0, 0, 0, 0]) ➞ [0, 1, 2, 3, 4]\n",
        "add_indexes([1, 2, 3, 4, 5]) ➞ [1, 3, 5, 7, 9]\n",
        "add_indexes([5, 4, 3, 2, 1]) ➞ [5, 5, 5, 5, 5]"
      ],
      "metadata": {
        "id": "f0Z49y3jKQZX"
      },
      "execution_count": null,
      "outputs": []
    },
    {
      "cell_type": "code",
      "source": [
        "def add_indexes(lst):\n",
        "    return [i + lst[i] for i in range(len(lst))]\n",
        "\n",
        "# Examples\n",
        "print(add_indexes([0, 0, 0, 0, 0]))    # Output: [0, 1, 2, 3, 4]\n",
        "print(add_indexes([1, 2, 3, 4, 5]))    # Output: [1, 3, 5, 7, 9]\n",
        "print(add_indexes([5, 4, 3, 2, 1]))    # Output: [5, 5, 5, 5, 5]\n"
      ],
      "metadata": {
        "colab": {
          "base_uri": "https://localhost:8080/"
        },
        "id": "meUl2mp-KQcf",
        "outputId": "5f258252-f763-4afa-c34f-8a102f348a3c"
      },
      "execution_count": 1,
      "outputs": [
        {
          "output_type": "stream",
          "name": "stdout",
          "text": [
            "[0, 1, 2, 3, 4]\n",
            "[1, 3, 5, 7, 9]\n",
            "[5, 5, 5, 5, 5]\n"
          ]
        }
      ]
    },
    {
      "cell_type": "code",
      "source": [
        "Question3\n",
        "Create a function that takes the height and radius of a cone as arguments and returns the\n",
        "volume of the cone rounded to the nearest hundredth. See the resources tab for the formula.\n",
        "\n",
        "Examples\n",
        "cone_volume(3, 2) ➞ 12.57\n",
        "\n",
        "cone_volume(15, 6) ➞ 565.49\n",
        "cone_volume(18, 0) ➞ 0"
      ],
      "metadata": {
        "id": "CAhv1x65KQfY"
      },
      "execution_count": null,
      "outputs": []
    },
    {
      "cell_type": "code",
      "source": [
        "import math\n",
        "\n",
        "def cone_volume(height, radius):\n",
        "    volume = (1/3) * math.pi * radius**2 * height\n",
        "    return round(volume, 2)\n",
        "\n",
        "# Examples\n",
        "print(cone_volume(3, 2))    # Output: 12.57\n",
        "print(cone_volume(15, 6))   # Output: 565.49\n",
        "print(cone_volume(18, 0))   # Output: 0\n"
      ],
      "metadata": {
        "id": "N4DEhqF1KQi8"
      },
      "execution_count": null,
      "outputs": []
    },
    {
      "cell_type": "code",
      "source": [
        "Question4\n",
        "This Triangular Number Sequence is generated from a pattern of dots that form a triangle.\n",
        "The first 5 numbers of the sequence, or dots, are:\n",
        "1, 3, 6, 10, 15\n",
        "This means that the first triangle has just one dot, the second one has three dots, the third one\n",
        "has 6 dots and so on.\n",
        "Write a function that gives the number of dots with its corresponding triangle number of the\n",
        "sequence.\n",
        "Examples\n",
        "triangle(1) ➞ 1\n",
        "triangle(6) ➞ 21\n",
        "triangle(215) ➞ 23220"
      ],
      "metadata": {
        "id": "X7hDyD-bKQmX"
      },
      "execution_count": null,
      "outputs": []
    },
    {
      "cell_type": "code",
      "source": [
        "def triangle(n):\n",
        "    dots = (n * (n + 1)) // 2\n",
        "    return dots\n",
        "\n",
        "# Examples\n",
        "print(triangle(1))    # Output: 1\n",
        "print(triangle(6))    # Output: 21\n",
        "print(triangle(215))  # Output: 23220\n"
      ],
      "metadata": {
        "colab": {
          "base_uri": "https://localhost:8080/"
        },
        "id": "fuK5kweqKPZw",
        "outputId": "045a76b0-84ed-4f28-b956-eb0a8374c295"
      },
      "execution_count": 2,
      "outputs": [
        {
          "output_type": "stream",
          "name": "stdout",
          "text": [
            "1\n",
            "21\n",
            "23220\n"
          ]
        }
      ]
    },
    {
      "cell_type": "code",
      "source": [
        "Question5\n",
        "Create a function that takes a list of numbers between 1 and 10 (excluding one number) and\n",
        "returns the missing number.\n",
        "Examples\n",
        "missing_num([1, 2, 3, 4, 6, 7, 8, 9, 10]) ➞ 5\n",
        "missing_num([7, 2, 3, 6, 5, 9, 1, 4, 8]) ➞ 10\n",
        "missing_num([10, 5, 1, 2, 4, 6, 8, 3, 9]) ➞ 7"
      ],
      "metadata": {
        "id": "JCnyxvfiLC3l"
      },
      "execution_count": null,
      "outputs": []
    },
    {
      "cell_type": "code",
      "source": [
        "def missing_num(nums):\n",
        "    for i in range(1, 11):\n",
        "        if i not in nums:\n",
        "            return i\n",
        "\n",
        "# Examples\n",
        "print(missing_num([1, 2, 3, 4, 6, 7, 8, 9, 10]))    # Output: 5\n",
        "print(missing_num([7, 2, 3, 6, 5, 9, 1, 4, 8]))      # Output: 10\n",
        "print(missing_num([10, 5, 1, 2, 4, 6, 8, 3, 9]))     # Output: 7\n"
      ],
      "metadata": {
        "colab": {
          "base_uri": "https://localhost:8080/"
        },
        "id": "OPP0StxXLC6t",
        "outputId": "7b014b13-b7cf-4856-bde7-0cb7f5c1c1c0"
      },
      "execution_count": 3,
      "outputs": [
        {
          "output_type": "stream",
          "name": "stdout",
          "text": [
            "5\n",
            "10\n",
            "7\n"
          ]
        }
      ]
    },
    {
      "cell_type": "code",
      "source": [],
      "metadata": {
        "id": "cmeRfTMXLC9e"
      },
      "execution_count": null,
      "outputs": []
    },
    {
      "cell_type": "code",
      "source": [],
      "metadata": {
        "id": "IxJC61VILDAz"
      },
      "execution_count": null,
      "outputs": []
    },
    {
      "cell_type": "code",
      "source": [],
      "metadata": {
        "id": "0WIP5sfcKPeG"
      },
      "execution_count": null,
      "outputs": []
    },
    {
      "cell_type": "code",
      "source": [],
      "metadata": {
        "id": "h8BeBB-1KPgj"
      },
      "execution_count": null,
      "outputs": []
    }
  ]
}