{
  "nbformat": 4,
  "nbformat_minor": 0,
  "metadata": {
    "colab": {
      "provenance": []
    },
    "kernelspec": {
      "name": "python3",
      "display_name": "Python 3"
    },
    "language_info": {
      "name": "python"
    }
  },
  "cells": [
    {
      "cell_type": "code",
      "execution_count": null,
      "metadata": {
        "id": "zZef0pImDa0d"
      },
      "outputs": [],
      "source": [
        "Question1. Write a function that stutters a word as if someone is struggling to read it. The\n",
        "first two letters are repeated twice with an ellipsis ... and space after each, and then the\n",
        "word is pronounced with a question mark ?.\n",
        "Examples\n",
        "stutter(&quot;incredible&quot;) ➞ &quot;in... in... incredible?&quot;\n",
        "stutter(&quot;enthusiastic&quot;) ➞ &quot;en... en... enthusiastic?&quot;\n",
        "stutter(&quot;outstanding&quot;) ➞ &quot;ou... ou... outstanding?&quot;"
      ]
    },
    {
      "cell_type": "code",
      "source": [
        "def stutter(word):\n",
        "    stuttered_word = f\"{word[:2]}... {word[:2]}... {word}?\"\n",
        "    return stuttered_word\n",
        "\n",
        "# Examples\n",
        "print(stutter(\"incredible\"))      # Output: in... in... incredible?\n",
        "print(stutter(\"enthusiastic\"))    # Output: en... en... enthusiastic?\n",
        "print(stutter(\"outstanding\"))     # Output: ou... ou... outstanding?\n"
      ],
      "metadata": {
        "colab": {
          "base_uri": "https://localhost:8080/"
        },
        "id": "JkIRcbyVDdXf",
        "outputId": "aae2c384-f317-4e22-8a0d-6d5287e0a16d"
      },
      "execution_count": 1,
      "outputs": [
        {
          "output_type": "stream",
          "name": "stdout",
          "text": [
            "in... in... incredible?\n",
            "en... en... enthusiastic?\n",
            "ou... ou... outstanding?\n"
          ]
        }
      ]
    },
    {
      "cell_type": "code",
      "source": [
        "Question 2.Create a function that takes an angle in radians and returns the corresponding\n",
        "angle in degrees rounded to one decimal place.\n",
        "Examples\n",
        "radians_to_degrees(1) ➞ 57.3\n",
        "radians_to_degrees(20) ➞ 1145.9\n",
        "radians_to_degrees(50) ➞ 2864.8"
      ],
      "metadata": {
        "id": "Uq-IcKK4DdaK"
      },
      "execution_count": null,
      "outputs": []
    },
    {
      "cell_type": "code",
      "source": [
        "import math\n",
        "\n",
        "def radians_to_degrees(radians):\n",
        "    degrees = math.degrees(radians)\n",
        "    rounded_degrees = round(degrees, 1)\n",
        "    return rounded_degrees\n",
        "\n",
        "# Examples\n",
        "print(radians_to_degrees(1))   # Output: 57.3\n",
        "print(radians_to_degrees(20))  # Output: 1145.9\n",
        "print(radians_to_degrees(50))  # Output: 2864.8\n"
      ],
      "metadata": {
        "colab": {
          "base_uri": "https://localhost:8080/"
        },
        "id": "K7XYWi9ZDddN",
        "outputId": "916a71ad-5664-46a4-963b-7c5a143978da"
      },
      "execution_count": 2,
      "outputs": [
        {
          "output_type": "stream",
          "name": "stdout",
          "text": [
            "57.3\n",
            "1145.9\n",
            "2864.8\n"
          ]
        }
      ]
    },
    {
      "cell_type": "code",
      "source": [
        "Question 3. In this challenge, establish if a given integer num is a Curzon number. If 1 plus\n",
        "2 elevated to num is exactly divisible by 1 plus 2 multiplied by num, then num is a Curzon\n",
        "number.\n",
        "Given a non-negative integer num, implement a function that returns True if num is a Curzon\n",
        "number, or False otherwise.\n",
        "Examples\n",
        "is_curzon(5) ➞ True\n",
        "# 2 ** 5 + 1 = 33\n",
        "# 2 * 5 + 1 = 11\n",
        "# 33 is a multiple of 11\n",
        "is_curzon(10) ➞ False\n",
        "# 2 ** 10 + 1 = 1025\n",
        "# 2 * 10 + 1 = 21\n",
        "# 1025 is not a multiple of 21\n",
        "is_curzon(14) ➞ True\n",
        "# 2 ** 14 + 1 = 16385\n",
        "# 2 * 14 + 1 = 29\n",
        "# 16385 is a multiple of 29"
      ],
      "metadata": {
        "id": "ikL5FOIfDdgW"
      },
      "execution_count": null,
      "outputs": []
    },
    {
      "cell_type": "code",
      "source": [
        "def is_curzon(num):\n",
        "    numerator = 2**num + 1\n",
        "    denominator = 2*num + 1\n",
        "\n",
        "    if numerator % denominator == 0:\n",
        "        return True\n",
        "    else:\n",
        "        return False\n",
        "\n",
        "# Examples\n",
        "print(is_curzon(5))   # Output: True\n",
        "print(is_curzon(10))  # Output: False\n",
        "print(is_curzon(14))  # Output: True\n"
      ],
      "metadata": {
        "colab": {
          "base_uri": "https://localhost:8080/"
        },
        "id": "tI5Zz2rpEabO",
        "outputId": "16f61ce3-a6b6-4177-bf65-a4ab1af954fc"
      },
      "execution_count": 3,
      "outputs": [
        {
          "output_type": "stream",
          "name": "stdout",
          "text": [
            "True\n",
            "False\n",
            "True\n"
          ]
        }
      ]
    },
    {
      "cell_type": "code",
      "source": [
        "Question 5. Create a function that returns a base-2 (binary) representation of a base-10\n",
        "(decimal) string number. To convert is simple: ((2) means base-2 and (10) means base-10)\n",
        "010101001(2) = 1 + 8 + 32 + 128.\n",
        "Going from right to left, the value of the most right bit is 1, now from that every bit to the left\n",
        "will be x2 the value, value of an 8 bit binary numbers are (256, 128, 64, 32, 16, 8, 4, 2, 1).\n",
        "Examples\n",
        "binary(1) ➞ &quot;1&quot;\n",
        "# 1*1 = 1\n",
        "binary(5) ➞ &quot;101&quot;\n",
        "# 1*1 + 1*4 = 5\n",
        "binary(10) ➞ &quot;1010&quot;\n",
        "# 1*2 + 1*8 = 10"
      ],
      "metadata": {
        "id": "oqzm8PmnDdjE"
      },
      "execution_count": null,
      "outputs": []
    },
    {
      "cell_type": "code",
      "source": [
        "def binary(decimal):\n",
        "    binary_str = \"\"\n",
        "\n",
        "    while decimal > 0:\n",
        "        binary_str = str(decimal % 2) + binary_str\n",
        "        decimal = decimal // 2\n",
        "\n",
        "    return binary_str\n",
        "\n",
        "# Examples\n",
        "print(binary(1))    # Output: \"1\"\n",
        "print(binary(5))    # Output: \"101\"\n",
        "print(binary(10))   # Output: \"1010\"\n"
      ],
      "metadata": {
        "colab": {
          "base_uri": "https://localhost:8080/"
        },
        "id": "5zxqzk35DdmG",
        "outputId": "86713cfc-d51b-4609-ca84-17d292d8d27e"
      },
      "execution_count": 4,
      "outputs": [
        {
          "output_type": "stream",
          "name": "stdout",
          "text": [
            "1\n",
            "101\n",
            "1010\n"
          ]
        }
      ]
    },
    {
      "cell_type": "code",
      "source": [],
      "metadata": {
        "id": "3rnv3kHZDdpJ"
      },
      "execution_count": null,
      "outputs": []
    },
    {
      "cell_type": "code",
      "source": [],
      "metadata": {
        "id": "uyvHilr_Ddr4"
      },
      "execution_count": null,
      "outputs": []
    },
    {
      "cell_type": "code",
      "source": [],
      "metadata": {
        "id": "T_OhCo5sDduw"
      },
      "execution_count": null,
      "outputs": []
    },
    {
      "cell_type": "code",
      "source": [],
      "metadata": {
        "id": "_qItwv1KDdyJ"
      },
      "execution_count": null,
      "outputs": []
    }
  ]
}