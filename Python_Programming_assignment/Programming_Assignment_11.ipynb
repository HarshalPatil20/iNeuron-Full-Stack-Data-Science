{
  "nbformat": 4,
  "nbformat_minor": 0,
  "metadata": {
    "colab": {
      "provenance": []
    },
    "kernelspec": {
      "name": "python3",
      "display_name": "Python 3"
    },
    "language_info": {
      "name": "python"
    }
  },
  "cells": [
    {
      "cell_type": "code",
      "execution_count": null,
      "metadata": {
        "id": "Fi6DAGx-5z-j"
      },
      "outputs": [],
      "source": [
        "1. Write a Python program to find words which are greater than given length k?"
      ]
    },
    {
      "cell_type": "code",
      "source": [
        "def find_words_greater_than_length(text, k):\n",
        "    # Split the text into words\n",
        "    words = text.split()\n",
        "\n",
        "    # Initialize a list to store words greater than length k\n",
        "    result = []\n",
        "\n",
        "    # Iterate through the words and check their lengths\n",
        "    for word in words:\n",
        "        if len(word) > k:\n",
        "            result.append(word)\n",
        "\n",
        "    return result\n",
        "\n",
        "# Example text\n",
        "text = \"Python is a powerful and versatile programming language\"\n",
        "\n",
        "# Given length\n",
        "k = 5\n",
        "\n",
        "# Call the function to find words greater than length k\n",
        "words_greater_than_k = find_words_greater_than_length(text, k)\n",
        "\n",
        "# Print the result\n",
        "print(\"Words greater than length\", k, \":\")\n",
        "for word in words_greater_than_k:\n",
        "    print(word)\n"
      ],
      "metadata": {
        "colab": {
          "base_uri": "https://localhost:8080/"
        },
        "id": "nuISbHtN51gg",
        "outputId": "037be177-957d-48ee-b2be-9a40063d83d9"
      },
      "execution_count": 1,
      "outputs": [
        {
          "output_type": "stream",
          "name": "stdout",
          "text": [
            "Words greater than length 5 :\n",
            "Python\n",
            "powerful\n",
            "versatile\n",
            "programming\n",
            "language\n"
          ]
        }
      ]
    },
    {
      "cell_type": "code",
      "source": [
        "2. Write a Python program for removing i-th character from a string?"
      ],
      "metadata": {
        "id": "SBhXgZry51yD"
      },
      "execution_count": null,
      "outputs": []
    },
    {
      "cell_type": "code",
      "source": [
        "def remove_character(string, i):\n",
        "    # Check if i is within valid index range\n",
        "    if 0 <= i < len(string):\n",
        "        # Remove the i-th character using string slicing\n",
        "        updated_string = string[:i] + string[i+1:]\n",
        "        return updated_string\n",
        "    else:\n",
        "        return string\n",
        "\n",
        "# Example string\n",
        "text = \"Hello, World!\"\n",
        "\n",
        "# Index of the character to remove\n",
        "i = 7\n",
        "\n",
        "# Call the function to remove the i-th character\n",
        "updated_text = remove_character(text, i)\n",
        "\n",
        "# Print the result\n",
        "print(\"Original string:\", text)\n",
        "print(\"String after removing character at index\", i, \":\", updated_text)\n"
      ],
      "metadata": {
        "colab": {
          "base_uri": "https://localhost:8080/"
        },
        "id": "J4rZhRb-510_",
        "outputId": "8e8fb4b1-f75b-4b01-b07e-1ebc193ba9a8"
      },
      "execution_count": 2,
      "outputs": [
        {
          "output_type": "stream",
          "name": "stdout",
          "text": [
            "Original string: Hello, World!\n",
            "String after removing character at index 7 : Hello, orld!\n"
          ]
        }
      ]
    },
    {
      "cell_type": "code",
      "source": [
        "3. Write a Python program to split and join a string?"
      ],
      "metadata": {
        "id": "7yvEGiP_514K"
      },
      "execution_count": null,
      "outputs": []
    },
    {
      "cell_type": "code",
      "source": [
        "def split_and_join(string):\n",
        "    # Split the string into a list of words\n",
        "    words = string.split()\n",
        "\n",
        "    # Join the words using a space as the separator\n",
        "    joined_string = \" \".join(words)\n",
        "\n",
        "    return joined_string\n",
        "\n",
        "# Example string\n",
        "text = \"Python is a versatile programming language\"\n",
        "\n",
        "# Call the function to split and join the string\n",
        "updated_text = split_and_join(text)\n",
        "\n",
        "# Print the result\n",
        "print(\"Original string:\", text)\n",
        "print(\"Updated string:\", updated_text)\n"
      ],
      "metadata": {
        "colab": {
          "base_uri": "https://localhost:8080/"
        },
        "id": "5BJ2XFBt517B",
        "outputId": "2d71fdfe-1383-4ce9-8b24-87029a6db169"
      },
      "execution_count": 3,
      "outputs": [
        {
          "output_type": "stream",
          "name": "stdout",
          "text": [
            "Original string: Python is a versatile programming language\n",
            "Updated string: Python is a versatile programming language\n"
          ]
        }
      ]
    },
    {
      "cell_type": "code",
      "source": [
        "4. Write a Python to check if a given string is binary string or not?"
      ],
      "metadata": {
        "id": "xpx1Pu1W51-n"
      },
      "execution_count": null,
      "outputs": []
    },
    {
      "cell_type": "code",
      "source": [
        "def is_binary_string(string):\n",
        "    # Set of valid binary digits\n",
        "    binary_digits = {'0', '1'}\n",
        "\n",
        "    # Check if every character in the string is a valid binary digit\n",
        "    for char in string:\n",
        "        if char not in binary_digits:\n",
        "            return False\n",
        "\n",
        "    return True\n",
        "\n",
        "# Example strings\n",
        "string1 = \"101010\"\n",
        "string2 = \"10102\"\n",
        "\n",
        "# Call the function to check if the strings are binary strings\n",
        "is_binary1 = is_binary_string(string1)\n",
        "is_binary2 = is_binary_string(string2)\n",
        "\n",
        "# Print the result\n",
        "print(string1, \"is a binary string:\", is_binary1)\n",
        "print(string2, \"is a binary string:\", is_binary2)\n"
      ],
      "metadata": {
        "colab": {
          "base_uri": "https://localhost:8080/"
        },
        "id": "iiPlSd4m6o9L",
        "outputId": "f027c358-7c30-4afe-a1a4-4f86cf600a34"
      },
      "execution_count": 4,
      "outputs": [
        {
          "output_type": "stream",
          "name": "stdout",
          "text": [
            "101010 is a binary string: True\n",
            "10102 is a binary string: False\n"
          ]
        }
      ]
    },
    {
      "cell_type": "code",
      "source": [
        "5. Write a Python program to find uncommon words from two Strings?"
      ],
      "metadata": {
        "id": "7U8dUOUC6pAR"
      },
      "execution_count": null,
      "outputs": []
    },
    {
      "cell_type": "code",
      "source": [
        "def find_uncommon_words(string1, string2):\n",
        "    # Split the strings into words\n",
        "    words1 = string1.split()\n",
        "    words2 = string2.split()\n",
        "\n",
        "    # Convert the words to sets for easy comparison\n",
        "    set1 = set(words1)\n",
        "    set2 = set(words2)\n",
        "\n",
        "    # Find the uncommon words using set operations\n",
        "    uncommon_words = set1.symmetric_difference(set2)\n",
        "\n",
        "    return uncommon_words\n",
        "\n",
        "# Example strings\n",
        "string1 = \"Python is a powerful programming language\"\n",
        "string2 = \"Java is also a popular programming language\"\n",
        "\n",
        "# Call the function to find uncommon words\n",
        "uncommon_words = find_uncommon_words(string1, string2)\n",
        "\n",
        "# Print the result\n",
        "print(\"Uncommon words:\", uncommon_words)\n"
      ],
      "metadata": {
        "colab": {
          "base_uri": "https://localhost:8080/"
        },
        "id": "HYLs_Xfz6pEE",
        "outputId": "66b3c49a-c73a-4e0f-ab29-3ff2ceb9380b"
      },
      "execution_count": 5,
      "outputs": [
        {
          "output_type": "stream",
          "name": "stdout",
          "text": [
            "Uncommon words: {'popular', 'Python', 'also', 'powerful', 'Java'}\n"
          ]
        }
      ]
    },
    {
      "cell_type": "code",
      "source": [
        "6. Write a Python to find all duplicate characters in string?"
      ],
      "metadata": {
        "id": "U5mPfHBn6pGu"
      },
      "execution_count": null,
      "outputs": []
    },
    {
      "cell_type": "code",
      "source": [
        "def find_duplicate_characters(string):\n",
        "    # Create an empty set to store duplicate characters\n",
        "    duplicates = set()\n",
        "\n",
        "    # Create an empty set to store seen characters\n",
        "    seen = set()\n",
        "\n",
        "    # Iterate through each character in the string\n",
        "    for char in string:\n",
        "        # Check if the character has been seen before\n",
        "        if char in seen:\n",
        "            duplicates.add(char)\n",
        "        else:\n",
        "            seen.add(char)\n",
        "\n",
        "    return duplicates\n",
        "\n",
        "# Example string\n",
        "text = \"Hello, World!\"\n",
        "\n",
        "# Call the function to find duplicate characters\n",
        "duplicate_characters = find_duplicate_characters(text)\n",
        "\n",
        "# Print the result\n",
        "print(\"Duplicate characters:\", duplicate_characters)\n"
      ],
      "metadata": {
        "colab": {
          "base_uri": "https://localhost:8080/"
        },
        "id": "S6Txlb5u6pJJ",
        "outputId": "7316702c-46c9-4e8e-83e3-f793faf1c63c"
      },
      "execution_count": 6,
      "outputs": [
        {
          "output_type": "stream",
          "name": "stdout",
          "text": [
            "Duplicate characters: {'o', 'l'}\n"
          ]
        }
      ]
    },
    {
      "cell_type": "code",
      "source": [
        "7. Write a Python Program to check if a string contains any special character?"
      ],
      "metadata": {
        "id": "tCDv6Ddu52K_"
      },
      "execution_count": null,
      "outputs": []
    },
    {
      "cell_type": "code",
      "source": [
        "import re\n",
        "\n",
        "def contains_special_character(string):\n",
        "    # Regular expression pattern to match special characters\n",
        "    pattern = r'[!@#$%^&*(),.?\":{}|<>]'\n",
        "\n",
        "    # Check if the string contains any special character\n",
        "    if re.search(pattern, string):\n",
        "        return True\n",
        "    else:\n",
        "        return False\n",
        "\n",
        "# Example string\n",
        "text = \"Hello, World!\"\n",
        "\n",
        "# Call the function to check if the string contains special characters\n",
        "contains_special = contains_special_character(text)\n",
        "\n",
        "# Print the result\n",
        "if contains_special:\n",
        "    print(\"The string contains special characters.\")\n",
        "else:\n",
        "    print(\"The string does not contain any special characters.\")\n"
      ],
      "metadata": {
        "colab": {
          "base_uri": "https://localhost:8080/"
        },
        "id": "Wy2BNTlb52Oy",
        "outputId": "23f9df6b-df8e-4335-91c7-862f07f26bcb"
      },
      "execution_count": 7,
      "outputs": [
        {
          "output_type": "stream",
          "name": "stdout",
          "text": [
            "The string contains special characters.\n"
          ]
        }
      ]
    }
  ]
}