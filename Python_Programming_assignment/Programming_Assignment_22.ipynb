{
  "nbformat": 4,
  "nbformat_minor": 0,
  "metadata": {
    "colab": {
      "provenance": []
    },
    "kernelspec": {
      "name": "python3",
      "display_name": "Python 3"
    },
    "language_info": {
      "name": "python"
    }
  },
  "cells": [
    {
      "cell_type": "code",
      "execution_count": null,
      "metadata": {
        "id": "qqWAgrQrOCak"
      },
      "outputs": [],
      "source": [
        "Question1\n",
        "Create a function that takes three parameters where:\n",
        " x is the start of the range (inclusive).\n",
        " y is the end of the range (inclusive).\n",
        " n is the divisor to be checked against.\n",
        "Return an ordered list with numbers in the range that are divisible by the third parameter n.\n",
        "Return an empty list if there are no numbers that are divisible by n.\n",
        "Examples\n",
        "list_operation(1, 10, 3) ➞ [3, 6, 9]\n",
        "list_operation(7, 9, 2) ➞ [8]\n",
        "list_operation(15, 20, 7) ➞ []"
      ]
    },
    {
      "cell_type": "code",
      "source": [
        "def list_operation(x, y, n):\n",
        "    return [num for num in range(x, y+1) if num % n == 0]\n",
        "\n",
        "# Examples\n",
        "print(list_operation(1, 10, 3))  # Output: [3, 6, 9]\n",
        "print(list_operation(7, 9, 2))   # Output: [8]\n",
        "print(list_operation(15, 20, 7)) # Output: []\n"
      ],
      "metadata": {
        "colab": {
          "base_uri": "https://localhost:8080/"
        },
        "id": "JjiA26avOHiM",
        "outputId": "1f7f5077-85f4-44ef-978b-f140068d37e9"
      },
      "execution_count": 1,
      "outputs": [
        {
          "output_type": "stream",
          "name": "stdout",
          "text": [
            "[3, 6, 9]\n",
            "[8]\n",
            "[]\n"
          ]
        }
      ]
    },
    {
      "cell_type": "code",
      "source": [
        "Question2\n",
        "Create a function that takes in two lists and returns True if the second list follows the first list\n",
        "by one element, and False otherwise. In other words, determine if the second list is the first\n",
        "list shifted to the right by 1.\n",
        "Examples\n",
        "simon_says([1, 2], [5, 1]) ➞ True\n",
        "simon_says([1, 2], [5, 5]) ➞ False\n",
        "simon_says([1, 2, 3, 4, 5], [0, 1, 2, 3, 4]) ➞ True\n",
        "simon_says([1, 2, 3, 4, 5], [5, 5, 1, 2, 3]) ➞ False"
      ],
      "metadata": {
        "id": "ssVVqO9AOHpE"
      },
      "execution_count": null,
      "outputs": []
    },
    {
      "cell_type": "code",
      "source": [
        "def simon_says(lst1, lst2):\n",
        "    if len(lst2) == len(lst1) - 1:\n",
        "        return lst1[:-1] == lst2\n",
        "    return False\n",
        "\n",
        "# Examples\n",
        "print(simon_says([1, 2], [5, 1]))               # Output: True\n",
        "print(simon_says([1, 2], [5, 5]))               # Output: False\n",
        "print(simon_says([1, 2, 3, 4, 5], [0, 1, 2, 3, 4]))     # Output: True\n",
        "print(simon_says([1, 2, 3, 4, 5], [5, 5, 1, 2, 3]))     # Output: False\n"
      ],
      "metadata": {
        "colab": {
          "base_uri": "https://localhost:8080/"
        },
        "id": "BWuVamcuOHxW",
        "outputId": "cd04b574-6a75-495e-ef2c-eee01667c3f2"
      },
      "execution_count": 2,
      "outputs": [
        {
          "output_type": "stream",
          "name": "stdout",
          "text": [
            "False\n",
            "False\n",
            "False\n",
            "False\n"
          ]
        }
      ]
    },
    {
      "cell_type": "code",
      "source": [
        "Question3\n",
        "A group of friends have decided to start a secret society. The name will be the first letter of\n",
        "each of their names, sorted in alphabetical order.\n",
        "Create a function that takes in a list of names and returns the name of the secret society.\n",
        "\n",
        "Examples\n",
        "society_name([&quot;Adam&quot;, &quot;Sarah&quot;, &quot;Malcolm&quot;]) ➞ &quot;AMS&quot;\n",
        "society_name([&quot;Harry&quot;, &quot;Newt&quot;, &quot;Luna&quot;, &quot;Cho&quot;]) ➞ &quot;CHLN&quot;\n",
        "society_name([&quot;Phoebe&quot;, &quot;Chandler&quot;, &quot;Rachel&quot;, &quot;Ross&quot;, &quot;Monica&quot;, &quot;Joey&quot;])"
      ],
      "metadata": {
        "id": "wPmEzMrmOH6M"
      },
      "execution_count": null,
      "outputs": []
    },
    {
      "cell_type": "code",
      "source": [
        "def society_name(names):\n",
        "    society = ''.join(sorted(name[0] for name in names))\n",
        "    return society\n",
        "\n",
        "# Examples\n",
        "print(society_name([\"Adam\", \"Sarah\", \"Malcolm\"]))               # Output: \"AMS\"\n",
        "print(society_name([\"Harry\", \"Newt\", \"Luna\", \"Cho\"]))            # Output: \"CHLN\"\n",
        "print(society_name([\"Phoebe\", \"Chandler\", \"Rachel\", \"Ross\", \"Monica\", \"Joey\"]))    # Output: \"CJMPRR\"\n"
      ],
      "metadata": {
        "colab": {
          "base_uri": "https://localhost:8080/"
        },
        "id": "XxrdkuJiOkUM",
        "outputId": "6ac89d06-ecc5-4f56-ca92-fe85f2e05b98"
      },
      "execution_count": 3,
      "outputs": [
        {
          "output_type": "stream",
          "name": "stdout",
          "text": [
            "AMS\n",
            "CHLN\n",
            "CJMPRR\n"
          ]
        }
      ]
    },
    {
      "cell_type": "code",
      "source": [
        "Question4\n",
        "An isogram is a word that has no duplicate letters. Create a function that takes a string and\n",
        "returns either True or False depending on whether or not it&#39;s an &quot;isogram&quot;.\n",
        "Examples\n",
        "is_isogram(&quot;Algorism&quot;) ➞ True\n",
        "is_isogram(&quot;PasSword&quot;) ➞ False\n",
        "# Not case sensitive.\n",
        "is_isogram(&quot;Consecutive&quot;) ➞ False"
      ],
      "metadata": {
        "id": "_ywi-3TTOkXE"
      },
      "execution_count": null,
      "outputs": []
    },
    {
      "cell_type": "code",
      "source": [
        "def is_isogram(string):\n",
        "    string = string.lower()  # Convert the string to lowercase\n",
        "    return len(set(string)) == len(string)\n",
        "\n",
        "# Examples\n",
        "print(is_isogram(\"Algorism\"))       # Output: True\n",
        "print(is_isogram(\"PasSword\"))       # Output: False\n",
        "print(is_isogram(\"Consecutive\"))    # Output: False\n"
      ],
      "metadata": {
        "colab": {
          "base_uri": "https://localhost:8080/"
        },
        "id": "4uzwH1PEOkbW",
        "outputId": "14e76051-c707-46f1-fb6a-bbc78c227073"
      },
      "execution_count": 4,
      "outputs": [
        {
          "output_type": "stream",
          "name": "stdout",
          "text": [
            "True\n",
            "False\n",
            "False\n"
          ]
        }
      ]
    },
    {
      "cell_type": "code",
      "source": [
        "Question5\n",
        "Create a function that takes a string and returns True or False, depending on whether the\n",
        "characters are in order or not.\n",
        "Examples\n",
        "is_in_order(&quot;abc&quot;) ➞ True\n",
        "is_in_order(&quot;edabit&quot;) ➞ False\n",
        "is_in_order(&quot;123&quot;) ➞ True\n",
        "is_in_order(&quot;xyzz&quot;) ➞ True"
      ],
      "metadata": {
        "id": "aYcuoxkTOkd7"
      },
      "execution_count": null,
      "outputs": []
    },
    {
      "cell_type": "code",
      "source": [
        "def is_in_order(string):\n",
        "    sorted_string = ''.join(sorted(string))\n",
        "    return string == sorted_string\n",
        "\n",
        "# Examples\n",
        "print(is_in_order(\"abc\"))       # Output: True\n",
        "print(is_in_order(\"edabit\"))    # Output: False\n",
        "print(is_in_order(\"123\"))       # Output: True\n",
        "print(is_in_order(\"xyzz\"))      # Output: True\n"
      ],
      "metadata": {
        "colab": {
          "base_uri": "https://localhost:8080/"
        },
        "id": "0P4YghLEOH-7",
        "outputId": "a001ef0a-c178-40fc-ce52-077cda958e91"
      },
      "execution_count": 5,
      "outputs": [
        {
          "output_type": "stream",
          "name": "stdout",
          "text": [
            "True\n",
            "False\n",
            "True\n",
            "True\n"
          ]
        }
      ]
    },
    {
      "cell_type": "code",
      "source": [],
      "metadata": {
        "id": "QuvI6DOvOIFn"
      },
      "execution_count": null,
      "outputs": []
    },
    {
      "cell_type": "code",
      "source": [],
      "metadata": {
        "id": "uRwFOSoJOIJo"
      },
      "execution_count": null,
      "outputs": []
    }
  ]
}