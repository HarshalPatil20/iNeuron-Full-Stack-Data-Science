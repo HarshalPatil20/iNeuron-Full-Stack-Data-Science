{
  "nbformat": 4,
  "nbformat_minor": 0,
  "metadata": {
    "colab": {
      "provenance": []
    },
    "kernelspec": {
      "name": "python3",
      "display_name": "Python 3"
    },
    "language_info": {
      "name": "python"
    }
  },
  "cells": [
    {
      "cell_type": "code",
      "execution_count": null,
      "metadata": {
        "id": "iLPMDt7eD-6Y"
      },
      "outputs": [],
      "source": [
        "1. Write a Python Program to find sum of array?"
      ]
    },
    {
      "cell_type": "code",
      "source": [
        "def array_sum(arr):\n",
        "    sum = 0\n",
        "    for num in arr:\n",
        "        sum += num\n",
        "    return sum\n",
        "\n",
        "\n",
        "# Example array\n",
        "my_array = [1, 2, 3, 4, 5]\n",
        "\n",
        "# Calculate the sum of the array\n",
        "result = array_sum(my_array)\n",
        "\n",
        "# Display the result\n",
        "print(\"The sum of the array is:\", result)\n"
      ],
      "metadata": {
        "colab": {
          "base_uri": "https://localhost:8080/"
        },
        "id": "k8UZoU9NEB6j",
        "outputId": "ed582002-82a7-47e7-e43f-febdcb22c5c2"
      },
      "execution_count": 3,
      "outputs": [
        {
          "output_type": "stream",
          "name": "stdout",
          "text": [
            "The sum of the array is: 15\n"
          ]
        }
      ]
    },
    {
      "cell_type": "code",
      "source": [
        "2. Write a Python Program to find largest element in an array?"
      ],
      "metadata": {
        "id": "zxcz4wDiEB_V"
      },
      "execution_count": null,
      "outputs": []
    },
    {
      "cell_type": "code",
      "source": [
        "def find_largest_element(arr):\n",
        "    if len(arr) == 0:\n",
        "        return None\n",
        "\n",
        "    largest = arr[0]\n",
        "\n",
        "    for num in arr:\n",
        "        if num > largest:\n",
        "            largest = num\n",
        "\n",
        "    return largest\n",
        "\n",
        "\n",
        "# Example array\n",
        "my_array = [5, 9, 3, 2, 7, 10]\n",
        "\n",
        "# Find the largest element in the array\n",
        "result = find_largest_element(my_array)\n",
        "\n",
        "# Display the result\n",
        "print(\"The largest element in the array is:\", result)\n"
      ],
      "metadata": {
        "colab": {
          "base_uri": "https://localhost:8080/"
        },
        "id": "yPreNtZBECBy",
        "outputId": "2e597acb-825a-421f-b3dc-0d0125bd2829"
      },
      "execution_count": 6,
      "outputs": [
        {
          "output_type": "stream",
          "name": "stdout",
          "text": [
            "The largest element in the array is: 10\n"
          ]
        }
      ]
    },
    {
      "cell_type": "code",
      "source": [
        "3. Write a Python Program for array rotation?"
      ],
      "metadata": {
        "id": "qd_wYbYzECGy"
      },
      "execution_count": null,
      "outputs": []
    },
    {
      "cell_type": "code",
      "source": [
        "def rotate_array(arr, k):\n",
        "    n = len(arr)\n",
        "    k = k % n  # Normalize k if it is greater than the array length\n",
        "\n",
        "    rotated_arr = arr[k:] + arr[:k]\n",
        "\n",
        "    return rotated_arr\n",
        "\n",
        "\n",
        "# Example array\n",
        "my_array = [1, 2, 3, 4, 5]\n",
        "\n",
        "# Number of rotations\n",
        "rotation_count = 2\n",
        "\n",
        "# Rotate the array\n",
        "result = rotate_array(my_array, rotation_count)\n",
        "\n",
        "# Display the result\n",
        "print(\"Array after rotation:\", result)\n"
      ],
      "metadata": {
        "colab": {
          "base_uri": "https://localhost:8080/"
        },
        "id": "YI5l5wRnLaMN",
        "outputId": "235fa614-d4f8-498a-84cb-12c67850a69d"
      },
      "execution_count": 7,
      "outputs": [
        {
          "output_type": "stream",
          "name": "stdout",
          "text": [
            "Array after rotation: [3, 4, 5, 1, 2]\n"
          ]
        }
      ]
    },
    {
      "cell_type": "code",
      "source": [
        "4. Write a Python Program to Split the array and add the first part to the end?"
      ],
      "metadata": {
        "id": "tl41Fm0ZLaPu"
      },
      "execution_count": null,
      "outputs": []
    },
    {
      "cell_type": "code",
      "source": [
        "def split_array(arr, split_index):\n",
        "    if split_index <= 0 or split_index >= len(arr):\n",
        "        return arr\n",
        "\n",
        "    split_part = arr[:split_index]\n",
        "    remaining_part = arr[split_index:]\n",
        "\n",
        "    rotated_arr = remaining_part + split_part\n",
        "\n",
        "    return rotated_arr\n",
        "\n",
        "\n",
        "# Example array\n",
        "my_array = [1, 2, 3, 4, 5]\n",
        "\n",
        "# Split index\n",
        "split_index = 2\n",
        "\n",
        "# Split the array and add the first part to the end\n",
        "result = split_array(my_array, split_index)\n",
        "\n",
        "# Display the result\n",
        "print(\"Array after splitting and rotating:\", result)\n"
      ],
      "metadata": {
        "colab": {
          "base_uri": "https://localhost:8080/"
        },
        "id": "fbPQRGzWLaTA",
        "outputId": "71c52573-fb39-4938-d947-2d2bbe681a52"
      },
      "execution_count": 8,
      "outputs": [
        {
          "output_type": "stream",
          "name": "stdout",
          "text": [
            "Array after splitting and rotating: [3, 4, 5, 1, 2]\n"
          ]
        }
      ]
    },
    {
      "cell_type": "code",
      "source": [
        "5. Write a Python Program to check if given array is Monotonic?"
      ],
      "metadata": {
        "id": "5qiZTyaRLpNx"
      },
      "execution_count": null,
      "outputs": []
    },
    {
      "cell_type": "code",
      "source": [
        "def is_monotonic(arr):\n",
        "    increasing = decreasing = True\n",
        "\n",
        "    for i in range(1, len(arr)):\n",
        "        if arr[i] > arr[i - 1]:\n",
        "            decreasing = False\n",
        "        elif arr[i] < arr[i - 1]:\n",
        "            increasing = False\n",
        "\n",
        "    return increasing or decreasing\n",
        "\n",
        "\n",
        "# Example arrays\n",
        "array1 = [1, 2, 3, 4, 5]  # Increasing array\n",
        "array2 = [5, 4, 3, 2, 1]  # Decreasing array\n",
        "array3 = [1, 3, 2, 4, 5]  # Non-monotonic array\n",
        "\n",
        "# Check if the arrays are monotonic\n",
        "result1 = is_monotonic(array1)\n",
        "result2 = is_monotonic(array2)\n",
        "result3 = is_monotonic(array3)\n",
        "\n",
        "# Display the results\n",
        "print(\"Array 1 is monotonic?\", result1)\n",
        "print(\"Array 2 is monotonic?\", result2)\n",
        "print(\"Array 3 is monotonic?\", result3)\n"
      ],
      "metadata": {
        "colab": {
          "base_uri": "https://localhost:8080/"
        },
        "id": "3v6Rdq3DLpSO",
        "outputId": "0856cbb6-ff62-48d3-ac18-834d99e38f38"
      },
      "execution_count": 9,
      "outputs": [
        {
          "output_type": "stream",
          "name": "stdout",
          "text": [
            "Array 1 is monotonic? True\n",
            "Array 2 is monotonic? True\n",
            "Array 3 is monotonic? False\n"
          ]
        }
      ]
    },
    {
      "cell_type": "code",
      "source": [],
      "metadata": {
        "id": "hCQgf2sqLpUX"
      },
      "execution_count": null,
      "outputs": []
    }
  ]
}