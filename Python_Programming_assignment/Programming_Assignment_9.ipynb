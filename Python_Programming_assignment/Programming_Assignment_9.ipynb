{
  "nbformat": 4,
  "nbformat_minor": 0,
  "metadata": {
    "colab": {
      "provenance": []
    },
    "kernelspec": {
      "name": "python3",
      "display_name": "Python 3"
    },
    "language_info": {
      "name": "python"
    }
  },
  "cells": [
    {
      "cell_type": "code",
      "execution_count": null,
      "metadata": {
        "id": "PD6Pt9NB0FzD"
      },
      "outputs": [],
      "source": [
        "1. Write a Python program to check if the given number is a Disarium Number?"
      ]
    },
    {
      "cell_type": "code",
      "source": [
        "def is_disarium_number(number):\n",
        "    # Convert the number to a string for easier manipulation\n",
        "    num_str = str(number)\n",
        "\n",
        "    # Calculate the sum of digits raised to their respective positions\n",
        "    digit_sum = sum(int(digit) ** (index + 1) for index, digit in enumerate(num_str))\n",
        "\n",
        "    # Check if the sum is equal to the original number\n",
        "    if digit_sum == number:\n",
        "        return True\n",
        "    else:\n",
        "        return False\n",
        "\n",
        "# Example number\n",
        "number = 135\n",
        "\n",
        "# Call the function to check if the number is a Disarium number\n",
        "if is_disarium_number(number):\n",
        "    print(number, \"is a Disarium number.\")\n",
        "else:\n",
        "    print(number, \"is not a Disarium number.\")\n"
      ],
      "metadata": {
        "colab": {
          "base_uri": "https://localhost:8080/"
        },
        "id": "IpwEcdWx0xLG",
        "outputId": "10c35f9e-7cdb-4e5b-c768-13fa83e981d1"
      },
      "execution_count": 1,
      "outputs": [
        {
          "output_type": "stream",
          "name": "stdout",
          "text": [
            "135 is a Disarium number.\n"
          ]
        }
      ]
    },
    {
      "cell_type": "code",
      "source": [
        "2. Write a Python program to print all disarium numbers between 1 to 100?"
      ],
      "metadata": {
        "id": "T0Bjn0ak0xh6"
      },
      "execution_count": null,
      "outputs": []
    },
    {
      "cell_type": "code",
      "source": [
        "def is_disarium_number(number):\n",
        "    # Convert the number to a string for easier manipulation\n",
        "    num_str = str(number)\n",
        "\n",
        "    # Calculate the sum of digits raised to their respective positions\n",
        "    digit_sum = sum(int(digit) ** (index + 1) for index, digit in enumerate(num_str))\n",
        "\n",
        "    # Check if the sum is equal to the original number\n",
        "    if digit_sum == number:\n",
        "        return True\n",
        "    else:\n",
        "        return False\n",
        "\n",
        "# Iterate through numbers from 1 to 100\n",
        "for number in range(1, 101):\n",
        "    if is_disarium_number(number):\n",
        "        print(number)\n"
      ],
      "metadata": {
        "colab": {
          "base_uri": "https://localhost:8080/"
        },
        "id": "H456RZQ70xpX",
        "outputId": "15be8ca5-69a3-4edd-cea0-fdba24109ad9"
      },
      "execution_count": 2,
      "outputs": [
        {
          "output_type": "stream",
          "name": "stdout",
          "text": [
            "1\n",
            "2\n",
            "3\n",
            "4\n",
            "5\n",
            "6\n",
            "7\n",
            "8\n",
            "9\n",
            "89\n"
          ]
        }
      ]
    },
    {
      "cell_type": "code",
      "source": [
        "3. Write a Python program to check if the given number is Happy Number?"
      ],
      "metadata": {
        "id": "jeD0lq0P0xre"
      },
      "execution_count": null,
      "outputs": []
    },
    {
      "cell_type": "code",
      "source": [
        "def is_happy_number(number):\n",
        "    seen = set()  # Set to store previously seen numbers\n",
        "    while True:\n",
        "        # Calculate the sum of squares of digits\n",
        "        digit_sum = sum(int(digit) ** 2 for digit in str(number))\n",
        "\n",
        "        # Check if the sum is 1 (Happy number) or in the seen set (loop)\n",
        "        if digit_sum == 1:\n",
        "            return True\n",
        "        elif digit_sum in seen:\n",
        "            return False\n",
        "\n",
        "        # Update the number and add it to the seen set\n",
        "        number = digit_sum\n",
        "        seen.add(digit_sum)\n",
        "\n",
        "# Example number\n",
        "number = 19\n",
        "\n",
        "# Call the function to check if the number is a Happy number\n",
        "if is_happy_number(number):\n",
        "    print(number, \"is a Happy number.\")\n",
        "else:\n",
        "    print(number, \"is not a Happy number.\")\n"
      ],
      "metadata": {
        "colab": {
          "base_uri": "https://localhost:8080/"
        },
        "id": "EH2La9gb0xtR",
        "outputId": "2654531c-c700-4992-ae5d-067e402dce74"
      },
      "execution_count": 3,
      "outputs": [
        {
          "output_type": "stream",
          "name": "stdout",
          "text": [
            "19 is a Happy number.\n"
          ]
        }
      ]
    },
    {
      "cell_type": "code",
      "source": [
        "4. Write a Python program to print all happy numbers between 1 and 100?"
      ],
      "metadata": {
        "id": "i_5AfEM71kGB"
      },
      "execution_count": null,
      "outputs": []
    },
    {
      "cell_type": "code",
      "source": [
        "def is_happy_number(number):\n",
        "    seen = set()  # Set to store previously seen numbers\n",
        "    while True:\n",
        "        # Calculate the sum of squares of digits\n",
        "        digit_sum = sum(int(digit) ** 2 for digit in str(number))\n",
        "\n",
        "        # Check if the sum is 1 (Happy number) or in the seen set (loop)\n",
        "        if digit_sum == 1:\n",
        "            return True\n",
        "        elif digit_sum in seen:\n",
        "            return False\n",
        "\n",
        "        # Update the number and add it to the seen set\n",
        "        number = digit_sum\n",
        "        seen.add(digit_sum)\n",
        "\n",
        "# Iterate through numbers from 1 to 100\n",
        "for number in range(1, 101):\n",
        "    if is_happy_number(number):\n",
        "        print(number)\n"
      ],
      "metadata": {
        "colab": {
          "base_uri": "https://localhost:8080/"
        },
        "id": "toGq009E1kIi",
        "outputId": "da483f63-0ef9-48c9-da0b-b8beff4459db"
      },
      "execution_count": 4,
      "outputs": [
        {
          "output_type": "stream",
          "name": "stdout",
          "text": [
            "1\n",
            "7\n",
            "10\n",
            "13\n",
            "19\n",
            "23\n",
            "28\n",
            "31\n",
            "32\n",
            "44\n",
            "49\n",
            "68\n",
            "70\n",
            "79\n",
            "82\n",
            "86\n",
            "91\n",
            "94\n",
            "97\n",
            "100\n"
          ]
        }
      ]
    },
    {
      "cell_type": "code",
      "source": [
        "5. Write a Python program to determine whether the given number is a Harshad Number?"
      ],
      "metadata": {
        "id": "dN52j9Ac1kMN"
      },
      "execution_count": null,
      "outputs": []
    },
    {
      "cell_type": "code",
      "source": [
        "def is_harshad_number(number):\n",
        "    # Calculate the sum of digits\n",
        "    digit_sum = sum(int(digit) for digit in str(number))\n",
        "\n",
        "    # Check if the number is divisible by the sum of its digits\n",
        "    if number % digit_sum == 0:\n",
        "        return True\n",
        "    else:\n",
        "        return False\n",
        "\n",
        "# Example number\n",
        "number = 18\n",
        "\n",
        "# Call the function to check if the number is a Harshad number\n",
        "if is_harshad_number(number):\n",
        "    print(number, \"is a Harshad number.\")\n",
        "else:\n",
        "    print(number, \"is not a Harshad number.\")\n"
      ],
      "metadata": {
        "colab": {
          "base_uri": "https://localhost:8080/"
        },
        "id": "YyXdZ-d70xvC",
        "outputId": "3166e828-5e09-43da-9e81-3068766439d0"
      },
      "execution_count": 5,
      "outputs": [
        {
          "output_type": "stream",
          "name": "stdout",
          "text": [
            "18 is a Harshad number.\n"
          ]
        }
      ]
    },
    {
      "cell_type": "code",
      "source": [
        "6. Write a Python program to print all pronic numbers between 1 and 100?"
      ],
      "metadata": {
        "id": "Crnkfeaz0xxL"
      },
      "execution_count": null,
      "outputs": []
    },
    {
      "cell_type": "code",
      "source": [
        "def is_pronic_number(number):\n",
        "    for i in range(1, int(number**0.5) + 1):\n",
        "        if i * (i + 1) == number:\n",
        "            return True\n",
        "    return False\n",
        "\n",
        "# Iterate through numbers from 1 to 100\n",
        "for number in range(1, 101):\n",
        "    if is_pronic_number(number):\n",
        "        print(number)\n"
      ],
      "metadata": {
        "colab": {
          "base_uri": "https://localhost:8080/"
        },
        "id": "1N_wVgZd194n",
        "outputId": "dbfec5d2-cea2-474b-ec64-30d7a5bd566e"
      },
      "execution_count": 6,
      "outputs": [
        {
          "output_type": "stream",
          "name": "stdout",
          "text": [
            "2\n",
            "6\n",
            "12\n",
            "20\n",
            "30\n",
            "42\n",
            "56\n",
            "72\n",
            "90\n"
          ]
        }
      ]
    },
    {
      "cell_type": "code",
      "source": [],
      "metadata": {
        "id": "DDzZ1QSQ1-As"
      },
      "execution_count": null,
      "outputs": []
    }
  ]
}