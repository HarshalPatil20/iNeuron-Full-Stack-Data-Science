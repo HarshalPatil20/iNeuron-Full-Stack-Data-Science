{
  "nbformat": 4,
  "nbformat_minor": 0,
  "metadata": {
    "colab": {
      "provenance": []
    },
    "kernelspec": {
      "name": "python3",
      "display_name": "Python 3"
    },
    "language_info": {
      "name": "python"
    }
  },
  "cells": [
    {
      "cell_type": "code",
      "execution_count": null,
      "metadata": {
        "id": "GAQ-Yi2BIqpF"
      },
      "outputs": [],
      "source": []
    },
    {
      "cell_type": "code",
      "source": [
        "Question1\n",
        "Create a function that takes a string and returns a string in which each character is repeated\n",
        "once.\n",
        "Examples\n",
        "double_char(&quot;String&quot;) ➞ &quot;SSttrriinngg&quot;\n",
        "double_char(&quot;Hello World!&quot;) ➞ &quot;HHeelllloo WWoorrlldd!!&quot;\n",
        "double_char(&quot;1234!_ &quot;) ➞ &quot;11223344!!__ &quot;"
      ],
      "metadata": {
        "id": "dc-edw5AIs63"
      },
      "execution_count": null,
      "outputs": []
    },
    {
      "cell_type": "code",
      "source": [
        "def double_char(string):\n",
        "    doubled_string = ''\n",
        "    for char in string:\n",
        "        doubled_string += char * 2\n",
        "    return doubled_string\n",
        "\n",
        "# Examples\n",
        "print(double_char(\"String\"))            # Output: \"SSttrriinngg\"\n",
        "print(double_char(\"Hello World!\"))      # Output: \"HHeelllloo  WWoorrlldd!!\"\n",
        "print(double_char(\"1234!_ \"))          # Output: \"11223344!!__  \"\n"
      ],
      "metadata": {
        "colab": {
          "base_uri": "https://localhost:8080/"
        },
        "id": "VZBitNWWIs-m",
        "outputId": "835af64e-6a69-4ce9-8117-999b35751808"
      },
      "execution_count": 1,
      "outputs": [
        {
          "output_type": "stream",
          "name": "stdout",
          "text": [
            "SSttrriinngg\n",
            "HHeelllloo  WWoorrlldd!!\n",
            "11223344!!__  \n"
          ]
        }
      ]
    },
    {
      "cell_type": "code",
      "source": [
        "Question2\n",
        "Create a function that reverses a boolean value and returns the string &quot;boolean expected&quot;\n",
        "if another variable type is given.\n",
        "Examples\n",
        "reverse(True) ➞ False\n",
        "reverse(False) ➞ True\n",
        "reverse(0) ➞ &quot;boolean expected&quot;\n",
        "reverse(None) ➞ &quot;boolean expected&quot;"
      ],
      "metadata": {
        "id": "2SV-cosIItCJ"
      },
      "execution_count": null,
      "outputs": []
    },
    {
      "cell_type": "code",
      "source": [
        "def reverse(arg):\n",
        "    if isinstance(arg, bool):\n",
        "        return not arg\n",
        "    else:\n",
        "        return \"boolean expected\"\n",
        "\n",
        "# Examples\n",
        "print(reverse(True))     # Output: False\n",
        "print(reverse(False))    # Output: True\n",
        "print(reverse(0))        # Output: \"boolean expected\"\n",
        "print(reverse(None))     # Output: \"boolean expected\"\n"
      ],
      "metadata": {
        "colab": {
          "base_uri": "https://localhost:8080/"
        },
        "id": "fkzEMxGuItE1",
        "outputId": "dbaf9bb4-c34d-4dba-86ae-87736ba80f37"
      },
      "execution_count": 2,
      "outputs": [
        {
          "output_type": "stream",
          "name": "stdout",
          "text": [
            "False\n",
            "True\n",
            "boolean expected\n",
            "boolean expected\n"
          ]
        }
      ]
    },
    {
      "cell_type": "code",
      "source": [
        "Question3\n",
        "Create a function that returns the thickness (in meters) of a piece of paper after folding it n\n",
        "number of times. The paper starts off with a thickness of 0.5mm.\n",
        "Examples\n",
        "num_layers(1) ➞ &quot;0.001m&quot;\n",
        "# Paper folded once is 1mm (equal to 0.001m)\n",
        "num_layers(4) ➞ &quot;0.008m&quot;\n",
        "# Paper folded 4 times is 8mm (equal to 0.008m)\n",
        "num_layers(21) ➞ &quot;1048.576m&quot;\n",
        "# Paper folded 21 times is 1048576mm (equal to 1048.576m)\n"
      ],
      "metadata": {
        "id": "R54YPaJLItIW"
      },
      "execution_count": null,
      "outputs": []
    },
    {
      "cell_type": "code",
      "source": [
        "def num_layers(n):\n",
        "    thickness_mm = 0.5 * (2 ** n)\n",
        "    thickness_m = thickness_mm / 1000\n",
        "    return \"{:.3f}m\".format(thickness_m)\n",
        "\n",
        "# Examples\n",
        "print(num_layers(1))     # Output: \"0.001m\"\n",
        "print(num_layers(4))     # Output: \"0.008m\"\n",
        "print(num_layers(21))    # Output: \"1048.576m\"\n"
      ],
      "metadata": {
        "colab": {
          "base_uri": "https://localhost:8080/"
        },
        "id": "ydzkMXwkItMH",
        "outputId": "2441c89f-edd7-4bc0-abab-b6bb8891b637"
      },
      "execution_count": 3,
      "outputs": [
        {
          "output_type": "stream",
          "name": "stdout",
          "text": [
            "0.001m\n",
            "0.008m\n",
            "1048.576m\n"
          ]
        }
      ]
    },
    {
      "cell_type": "code",
      "source": [
        "Question4\n",
        "\n",
        "Create a function that takes a single string as argument and returns an ordered list containing\n",
        "the indices of all capital letters in the string.\n",
        "Examples\n",
        "index_of_caps(&quot;eDaBiT&quot;) ➞ [1, 3, 5]\n",
        "index_of_caps(&quot;eQuINoX&quot;) ➞ [1, 3, 4, 6]\n",
        "index_of_caps(&quot;determine&quot;) ➞ []\n",
        "index_of_caps(&quot;STRIKE&quot;) ➞ [0, 1, 2, 3, 4, 5]\n",
        "index_of_caps(&quot;sUn&quot;) ➞ [1]"
      ],
      "metadata": {
        "id": "CzZAo6ctItP7"
      },
      "execution_count": null,
      "outputs": []
    },
    {
      "cell_type": "code",
      "source": [
        "def index_of_caps(string):\n",
        "    indices = []\n",
        "    for i, char in enumerate(string):\n",
        "        if char.isupper():\n",
        "            indices.append(i)\n",
        "    return indices\n",
        "\n",
        "# Examples\n",
        "print(index_of_caps(\"eDaBiT\"))        # Output: [1, 3, 5]\n",
        "print(index_of_caps(\"eQuINoX\"))       # Output: [1, 3, 4, 6]\n",
        "print(index_of_caps(\"determine\"))     # Output: []\n",
        "print(index_of_caps(\"STRIKE\"))        # Output: [0, 1, 2, 3, 4, 5]\n",
        "print(index_of_caps(\"sUn\"))           # Output: [1]\n"
      ],
      "metadata": {
        "colab": {
          "base_uri": "https://localhost:8080/"
        },
        "id": "RM6zMb43JUZK",
        "outputId": "270abbdf-3f66-41d7-9ecd-f002c3d6b801"
      },
      "execution_count": 4,
      "outputs": [
        {
          "output_type": "stream",
          "name": "stdout",
          "text": [
            "[1, 3, 5]\n",
            "[1, 3, 4, 6]\n",
            "[]\n",
            "[0, 1, 2, 3, 4, 5]\n",
            "[1]\n"
          ]
        }
      ]
    },
    {
      "cell_type": "code",
      "source": [
        "Question5\n",
        "Using list comprehensions, create a function that finds all even numbers from 1 to the given\n",
        "number.\n",
        "Examples\n",
        "find_even_nums(8) ➞ [2, 4, 6, 8]\n",
        "find_even_nums(4) ➞ [2, 4]\n",
        "find_even_nums(2) ➞ [2]"
      ],
      "metadata": {
        "id": "Bw73dgoMItTL"
      },
      "execution_count": null,
      "outputs": []
    },
    {
      "cell_type": "code",
      "source": [
        "def find_even_nums(n):\n",
        "    return [i for i in range(1, n+1) if i % 2 == 0]\n",
        "\n",
        "# Examples\n",
        "print(find_even_nums(8))    # Output: [2, 4, 6, 8]\n",
        "print(find_even_nums(4))    # Output: [2, 4]\n",
        "print(find_even_nums(2))    # Output: [2]\n"
      ],
      "metadata": {
        "colab": {
          "base_uri": "https://localhost:8080/"
        },
        "id": "VOX9XVIPItWN",
        "outputId": "96558f53-b494-482e-9533-0d5fbbc4723e"
      },
      "execution_count": 5,
      "outputs": [
        {
          "output_type": "stream",
          "name": "stdout",
          "text": [
            "[2, 4, 6, 8]\n",
            "[2, 4]\n",
            "[2]\n"
          ]
        }
      ]
    },
    {
      "cell_type": "code",
      "source": [],
      "metadata": {
        "id": "Q8QYTVebItZU"
      },
      "execution_count": null,
      "outputs": []
    },
    {
      "cell_type": "code",
      "source": [],
      "metadata": {
        "id": "A-ACSPvtItcb"
      },
      "execution_count": null,
      "outputs": []
    },
    {
      "cell_type": "code",
      "source": [],
      "metadata": {
        "id": "39szVfn9Itfz"
      },
      "execution_count": null,
      "outputs": []
    }
  ]
}