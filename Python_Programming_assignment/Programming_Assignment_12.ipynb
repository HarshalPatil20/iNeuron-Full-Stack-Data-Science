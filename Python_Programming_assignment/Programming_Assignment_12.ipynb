{
  "nbformat": 4,
  "nbformat_minor": 0,
  "metadata": {
    "colab": {
      "provenance": []
    },
    "kernelspec": {
      "name": "python3",
      "display_name": "Python 3"
    },
    "language_info": {
      "name": "python"
    }
  },
  "cells": [
    {
      "cell_type": "code",
      "execution_count": null,
      "metadata": {
        "id": "cWB1ldS07u_i"
      },
      "outputs": [],
      "source": [
        "1. Write a Python program to Extract Unique values dictionary values?\n"
      ]
    },
    {
      "cell_type": "code",
      "source": [
        "def extract_unique_values(dictionary):\n",
        "    unique_values = set()\n",
        "\n",
        "    for value_list in dictionary.values():\n",
        "        for value in value_list:\n",
        "            unique_values.add(value)\n",
        "\n",
        "    return unique_values\n",
        "\n",
        "# Example dictionary\n",
        "my_dict = {\n",
        "    'a': [1, 2, 3],\n",
        "    'b': [2, 3, 4],\n",
        "    'c': [3, 4, 5]\n",
        "}\n",
        "\n",
        "# Call the function to extract unique values\n",
        "unique_values = extract_unique_values(my_dict)\n",
        "\n",
        "# Print the result\n",
        "print(\"Unique values:\", unique_values)\n"
      ],
      "metadata": {
        "colab": {
          "base_uri": "https://localhost:8080/"
        },
        "id": "q93oOyG27wkO",
        "outputId": "5b79add0-c74c-41fd-df70-585dcbbd6e42"
      },
      "execution_count": 1,
      "outputs": [
        {
          "output_type": "stream",
          "name": "stdout",
          "text": [
            "Unique values: {1, 2, 3, 4, 5}\n"
          ]
        }
      ]
    },
    {
      "cell_type": "code",
      "source": [
        "2. Write a Python program to find the sum of all items in a dictionary?"
      ],
      "metadata": {
        "id": "jOiuSIZX7wnF"
      },
      "execution_count": null,
      "outputs": []
    },
    {
      "cell_type": "code",
      "source": [
        "def calculate_sum(dictionary):\n",
        "    total_sum = sum(dictionary.values())\n",
        "    return total_sum\n",
        "\n",
        "# Example dictionary\n",
        "my_dict = {'a': 10, 'b': 20, 'c': 30}\n",
        "\n",
        "# Call the function to calculate the sum\n",
        "sum_of_items = calculate_sum(my_dict)\n",
        "\n",
        "# Print the result\n",
        "print(\"Sum of items:\", sum_of_items)\n"
      ],
      "metadata": {
        "colab": {
          "base_uri": "https://localhost:8080/"
        },
        "id": "1UJfuyl07wqJ",
        "outputId": "90c41361-133b-4705-9088-9e0e942bc3a5"
      },
      "execution_count": 2,
      "outputs": [
        {
          "output_type": "stream",
          "name": "stdout",
          "text": [
            "Sum of items: 60\n"
          ]
        }
      ]
    },
    {
      "cell_type": "code",
      "source": [
        "3. Write a Python program to Merging two Dictionaries?"
      ],
      "metadata": {
        "id": "G3WeaTRU7wsy"
      },
      "execution_count": null,
      "outputs": []
    },
    {
      "cell_type": "code",
      "source": [
        "def merge_dictionaries(dict1, dict2):\n",
        "    merged_dict = {**dict1, **dict2}\n",
        "    return merged_dict\n",
        "\n",
        "# Example dictionaries\n",
        "dict1 = {'a': 1, 'b': 2}\n",
        "dict2 = {'c': 3, 'd': 4}\n",
        "\n",
        "# Call the function to merge dictionaries\n",
        "merged_dict = merge_dictionaries(dict1, dict2)\n",
        "\n",
        "# Print the result\n",
        "print(\"Merged dictionary:\", merged_dict)\n"
      ],
      "metadata": {
        "colab": {
          "base_uri": "https://localhost:8080/"
        },
        "id": "PTs-SbUL7wwK",
        "outputId": "093ba5cf-66a5-4a8a-b3b4-2594112ea5c3"
      },
      "execution_count": 3,
      "outputs": [
        {
          "output_type": "stream",
          "name": "stdout",
          "text": [
            "Merged dictionary: {'a': 1, 'b': 2, 'c': 3, 'd': 4}\n"
          ]
        }
      ]
    },
    {
      "cell_type": "code",
      "source": [
        "4. Write a Python program to convert key-values list to flat dictionary?"
      ],
      "metadata": {
        "id": "AGl5k-0e7wzi"
      },
      "execution_count": null,
      "outputs": []
    },
    {
      "cell_type": "code",
      "source": [
        "def convert_to_flat_dictionary(keys, values):\n",
        "    flat_dict = dict(zip(keys, values))\n",
        "    return flat_dict\n",
        "\n",
        "# Example keys and values lists\n",
        "keys = ['a', 'b', 'c']\n",
        "values = [1, 2, 3]\n",
        "\n",
        "# Call the function to convert to a flat dictionary\n",
        "flat_dictionary = convert_to_flat_dictionary(keys, values)\n",
        "\n",
        "# Print the result\n",
        "print(\"Flat dictionary:\", flat_dictionary)\n"
      ],
      "metadata": {
        "colab": {
          "base_uri": "https://localhost:8080/"
        },
        "id": "O3bIbWyy7w17",
        "outputId": "a0d4c58b-c5d4-4a6b-8ad3-5613d8dbdab2"
      },
      "execution_count": 4,
      "outputs": [
        {
          "output_type": "stream",
          "name": "stdout",
          "text": [
            "Flat dictionary: {'a': 1, 'b': 2, 'c': 3}\n"
          ]
        }
      ]
    },
    {
      "cell_type": "code",
      "source": [
        "5. Write a Python program to insertion at the beginning in OrderedDict?"
      ],
      "metadata": {
        "id": "D3W-bnHk8SJU"
      },
      "execution_count": null,
      "outputs": []
    },
    {
      "cell_type": "code",
      "source": [
        "from collections import OrderedDict\n",
        "\n",
        "def insert_at_beginning(ordered_dict, key, value):\n",
        "    ordered_dict[key] = value\n",
        "    ordered_dict.move_to_end(key, last=False)\n",
        "\n",
        "# Example OrderedDict\n",
        "my_ordered_dict = OrderedDict([('a', 1), ('b', 2)])\n",
        "\n",
        "# Call the function to insert at the beginning\n",
        "insert_at_beginning(my_ordered_dict, 'c', 3)\n",
        "\n",
        "# Print the updated OrderedDict\n",
        "print(\"OrderedDict after\")\n"
      ],
      "metadata": {
        "colab": {
          "base_uri": "https://localhost:8080/"
        },
        "id": "Cx3t1aGn8SMJ",
        "outputId": "d27bf17f-d0af-45d3-bfa4-f0249028a3e6"
      },
      "execution_count": 6,
      "outputs": [
        {
          "output_type": "stream",
          "name": "stdout",
          "text": [
            "OrderedDict after\n"
          ]
        }
      ]
    },
    {
      "cell_type": "code",
      "source": [
        "6. Write a Python program to check order of character in string using OrderedDict()?"
      ],
      "metadata": {
        "id": "Kz1Rx4TH8SPC"
      },
      "execution_count": null,
      "outputs": []
    },
    {
      "cell_type": "code",
      "source": [
        "from collections import OrderedDict\n",
        "\n",
        "def check_character_order(string):\n",
        "    ordered_dict = OrderedDict()\n",
        "\n",
        "    for char in string:\n",
        "        ordered_dict[char] = True\n",
        "\n",
        "    ordered_string = ''.join(ordered_dict.keys())\n",
        "    return ordered_string == string\n",
        "\n",
        "# Example string\n",
        "text = \"hello\"\n",
        "\n",
        "# Call the function to check the order of characters\n",
        "has_order = check_character_order(text)\n",
        "\n",
        "# Print the result\n",
        "if has_order:\n",
        "    print(\"The characters in the string are in order.\")\n",
        "else:\n",
        "    print(\"The characters in the string are not in order.\")\n"
      ],
      "metadata": {
        "colab": {
          "base_uri": "https://localhost:8080/"
        },
        "id": "DEtByuvd8SRS",
        "outputId": "3f839dc0-457b-4c5e-e197-c1fb87e1c0f8"
      },
      "execution_count": 7,
      "outputs": [
        {
          "output_type": "stream",
          "name": "stdout",
          "text": [
            "The characters in the string are not in order.\n"
          ]
        }
      ]
    },
    {
      "cell_type": "code",
      "source": [
        "7. Write a Python program to sort Python Dictionaries by Key or Value?"
      ],
      "metadata": {
        "id": "jepOecaq8SU5"
      },
      "execution_count": null,
      "outputs": []
    },
    {
      "cell_type": "code",
      "source": [
        "def sort_dictionary(dictionary, by_key=True):\n",
        "    if by_key:\n",
        "        sorted_dict = dict(sorted(dictionary.items()))\n",
        "    else:\n",
        "        sorted_dict = dict(sorted(dictionary.items(), key=lambda item: item[1]))\n",
        "\n",
        "    return sorted_dict\n",
        "\n",
        "# Example dictionary\n",
        "my_dict = {'c': 3, 'a': 1, 'b': 2}\n",
        "\n",
        "# Sort the dictionary by key\n",
        "sorted_by_key = sort_dictionary(my_dict, by_key=True)\n",
        "\n",
        "# Sort the dictionary by value\n",
        "sorted_by_value = sort_dictionary(my_dict, by_key=False)\n",
        "\n",
        "# Print the results\n",
        "print(\"Sorted by key:\", sorted_by_key)\n",
        "print(\"Sorted by value:\", sorted_by_value)\n"
      ],
      "metadata": {
        "colab": {
          "base_uri": "https://localhost:8080/"
        },
        "id": "duVj_5Tx7w5N",
        "outputId": "abcc7455-91ac-4374-cc3d-98dbc20bef83"
      },
      "execution_count": 8,
      "outputs": [
        {
          "output_type": "stream",
          "name": "stdout",
          "text": [
            "Sorted by key: {'a': 1, 'b': 2, 'c': 3}\n",
            "Sorted by value: {'a': 1, 'b': 2, 'c': 3}\n"
          ]
        }
      ]
    },
    {
      "cell_type": "code",
      "source": [],
      "metadata": {
        "id": "wTZDDMFL7w82"
      },
      "execution_count": null,
      "outputs": []
    }
  ]
}