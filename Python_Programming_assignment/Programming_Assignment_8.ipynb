{
  "nbformat": 4,
  "nbformat_minor": 0,
  "metadata": {
    "colab": {
      "provenance": []
    },
    "kernelspec": {
      "name": "python3",
      "display_name": "Python 3"
    },
    "language_info": {
      "name": "python"
    }
  },
  "cells": [
    {
      "cell_type": "code",
      "execution_count": null,
      "metadata": {
        "id": "39Idxj1my1Zv"
      },
      "outputs": [],
      "source": [
        "1. Write a Python Program to Add Two Matrices?"
      ]
    },
    {
      "cell_type": "code",
      "source": [
        "def add_matrices(matrix1, matrix2):\n",
        "    # Check if the matrices have the same dimensions\n",
        "    if len(matrix1) != len(matrix2) or len(matrix1[0]) != len(matrix2[0]):\n",
        "        return None\n",
        "\n",
        "    # Initialize an empty result matrix\n",
        "    result = [[0 for _ in range(len(matrix1[0]))] for _ in range(len(matrix1))]\n",
        "\n",
        "    # Add corresponding elements of the matrices\n",
        "    for i in range(len(matrix1)):\n",
        "        for j in range(len(matrix1[0])):\n",
        "            result[i][j] = matrix1[i][j] + matrix2[i][j]\n",
        "\n",
        "    return result\n",
        "\n",
        "# Example matrices\n",
        "matrix1 = [[1, 2, 3], [4, 5, 6], [7, 8, 9]]\n",
        "matrix2 = [[9, 8, 7], [6, 5, 4], [3, 2, 1]]\n",
        "\n",
        "# Call the function to add the matrices\n",
        "result_matrix = add_matrices(matrix1, matrix2)\n",
        "\n",
        "# Print the result\n",
        "if result_matrix:\n",
        "    for row in result_matrix:\n",
        "        print(row)\n",
        "else:\n",
        "    print(\"Matrices have different dimensions and cannot be added.\")\n"
      ],
      "metadata": {
        "colab": {
          "base_uri": "https://localhost:8080/"
        },
        "id": "RtLN4FGDy2wt",
        "outputId": "d29ce826-da7f-456e-b35a-9c00171c06a4"
      },
      "execution_count": 1,
      "outputs": [
        {
          "output_type": "stream",
          "name": "stdout",
          "text": [
            "[10, 10, 10]\n",
            "[10, 10, 10]\n",
            "[10, 10, 10]\n"
          ]
        }
      ]
    },
    {
      "cell_type": "code",
      "source": [
        "2. Write a Python Program to Multiply Two Matrices?"
      ],
      "metadata": {
        "id": "A45EXwkzy2zu"
      },
      "execution_count": null,
      "outputs": []
    },
    {
      "cell_type": "code",
      "source": [
        "def multiply_matrices(matrix1, matrix2):\n",
        "    # Check if the matrices can be multiplied\n",
        "    if len(matrix1[0]) != len(matrix2):\n",
        "        return None\n",
        "\n",
        "    # Initialize an empty result matrix\n",
        "    result = [[0 for _ in range(len(matrix2[0]))] for _ in range(len(matrix1))]\n",
        "\n",
        "    # Perform matrix multiplication\n",
        "    for i in range(len(matrix1)):\n",
        "        for j in range(len(matrix2[0])):\n",
        "            for k in range(len(matrix2)):\n",
        "                result[i][j] += matrix1[i][k] * matrix2[k][j]\n",
        "\n",
        "    return result\n",
        "\n",
        "# Example matrices\n",
        "matrix1 = [[1, 2, 3], [4, 5, 6]]\n",
        "matrix2 = [[7, 8], [9, 10], [11, 12]]\n",
        "\n",
        "# Call the function to multiply the matrices\n",
        "result_matrix = multiply_matrices(matrix1, matrix2)\n",
        "\n",
        "# Print the result\n",
        "if result_matrix:\n",
        "    for row in result_matrix:\n",
        "        print(row)\n",
        "else:\n",
        "    print(\"Matrices cannot be multiplied.\")\n"
      ],
      "metadata": {
        "colab": {
          "base_uri": "https://localhost:8080/"
        },
        "id": "HYOIA8eGy22d",
        "outputId": "09325e2c-1ac8-4f10-f541-72d0c5fbe109"
      },
      "execution_count": 2,
      "outputs": [
        {
          "output_type": "stream",
          "name": "stdout",
          "text": [
            "[58, 64]\n",
            "[139, 154]\n"
          ]
        }
      ]
    },
    {
      "cell_type": "code",
      "source": [
        "3. Write a Python Program to Transpose a Matrix?"
      ],
      "metadata": {
        "id": "3YA1s6IPy25Z"
      },
      "execution_count": null,
      "outputs": []
    },
    {
      "cell_type": "code",
      "source": [
        "def transpose_matrix(matrix):\n",
        "    # Get the dimensions of the matrix\n",
        "    rows = len(matrix)\n",
        "    cols = len(matrix[0])\n",
        "\n",
        "    # Create a new matrix with swapped dimensions\n",
        "    transposed = [[0 for _ in range(rows)] for _ in range(cols)]\n",
        "\n",
        "    # Transpose the matrix by swapping elements\n",
        "    for i in range(rows):\n",
        "        for j in range(cols):\n",
        "            transposed[j][i] = matrix[i][j]\n",
        "\n",
        "    return transposed\n",
        "\n",
        "# Example matrix\n",
        "matrix = [[1, 2, 3], [4, 5, 6], [7, 8, 9]]\n",
        "\n",
        "# Call the function to transpose the matrix\n",
        "transposed_matrix = transpose_matrix(matrix)\n",
        "\n",
        "# Print the result\n",
        "for row in transposed_matrix:\n",
        "    print(row)\n"
      ],
      "metadata": {
        "colab": {
          "base_uri": "https://localhost:8080/"
        },
        "id": "M25AVhF6zWTT",
        "outputId": "dd3ef7b3-372d-47ec-8a46-a2f1158be602"
      },
      "execution_count": 3,
      "outputs": [
        {
          "output_type": "stream",
          "name": "stdout",
          "text": [
            "[1, 4, 7]\n",
            "[2, 5, 8]\n",
            "[3, 6, 9]\n"
          ]
        }
      ]
    },
    {
      "cell_type": "code",
      "source": [
        "4. Write a Python Program to Sort Words in Alphabetic Order?"
      ],
      "metadata": {
        "id": "RPGYQAohzWbU"
      },
      "execution_count": null,
      "outputs": []
    },
    {
      "cell_type": "code",
      "source": [
        "def sort_words(words):\n",
        "    # Split the string into a list of words\n",
        "    word_list = words.split()\n",
        "\n",
        "    # Sort the words in alphabetical order\n",
        "    sorted_words = sorted(word_list)\n",
        "\n",
        "    return sorted_words\n",
        "\n",
        "# Example string of words\n",
        "words = \"hello world python programming language\"\n",
        "\n",
        "# Call the function to sort the words\n",
        "sorted_words = sort_words(words)\n",
        "\n",
        "# Print the result\n",
        "for word in sorted_words:\n",
        "    print(word)\n"
      ],
      "metadata": {
        "colab": {
          "base_uri": "https://localhost:8080/"
        },
        "id": "0B_TM4SPy28P",
        "outputId": "7525d9fe-bf10-410b-8376-74f6591a9008"
      },
      "execution_count": 4,
      "outputs": [
        {
          "output_type": "stream",
          "name": "stdout",
          "text": [
            "hello\n",
            "language\n",
            "programming\n",
            "python\n",
            "world\n"
          ]
        }
      ]
    },
    {
      "cell_type": "code",
      "source": [
        "5. Write a Python Program to Remove Punctuation From a String?"
      ],
      "metadata": {
        "id": "m9NObV2iy2_H"
      },
      "execution_count": null,
      "outputs": []
    },
    {
      "cell_type": "code",
      "source": [
        "def sort_words(words):\n",
        "    # Split the string into a list of words\n",
        "    word_list = words.split()\n",
        "\n",
        "    # Sort the words in alphabetical order\n",
        "    sorted_words = sorted(word_list)\n",
        "\n",
        "    return sorted_words\n",
        "\n",
        "# Example string of words\n",
        "words = \"hello world python programming language\"\n",
        "\n",
        "# Call the function to sort the words\n",
        "sorted_words = sort_words(words)\n",
        "\n",
        "# Print the result\n",
        "for word in sorted_words:\n",
        "    print(word)\n"
      ],
      "metadata": {
        "colab": {
          "base_uri": "https://localhost:8080/"
        },
        "id": "_0uaMkpey3Ch",
        "outputId": "b6072c5c-7443-4d2c-995c-9d5f3cc4c68c"
      },
      "execution_count": 5,
      "outputs": [
        {
          "output_type": "stream",
          "name": "stdout",
          "text": [
            "hello\n",
            "language\n",
            "programming\n",
            "python\n",
            "world\n"
          ]
        }
      ]
    }
  ]
}