{
  "nbformat": 4,
  "nbformat_minor": 0,
  "metadata": {
    "colab": {
      "provenance": []
    },
    "kernelspec": {
      "name": "python3",
      "display_name": "Python 3"
    },
    "language_info": {
      "name": "python"
    }
  },
  "cells": [
    {
      "cell_type": "code",
      "execution_count": null,
      "metadata": {
        "id": "cGi7HILjPcDT"
      },
      "outputs": [],
      "source": [
        "Question 1\n",
        "Create a function that takes a number as an argument and returns True or False depending\n",
        "on whether the number is symmetrical or not. A number is symmetrical when it is the same as\n",
        "its reverse.\n",
        "Examples\n",
        "is_symmetrical(7227) ➞ True\n",
        "is_symmetrical(12567) ➞ False\n",
        "is_symmetrical(44444444) ➞ True\n",
        "is_symmetrical(9939) ➞ False\n",
        "is_symmetrical(1112111) ➞ True"
      ]
    },
    {
      "cell_type": "code",
      "source": [
        "def is_symmetrical(number):\n",
        "    return str(number) == str(number)[::-1]\n",
        "\n",
        "# Examples\n",
        "print(is_symmetrical(7227))       # Output: True\n",
        "print(is_symmetrical(12567))      # Output: False\n",
        "print(is_symmetrical(44444444))   # Output: True\n",
        "print(is_symmetrical(9939))       # Output: False\n",
        "print(is_symmetrical(1112111))    # Output: True\n"
      ],
      "metadata": {
        "colab": {
          "base_uri": "https://localhost:8080/"
        },
        "id": "Vegr8tcLPeHV",
        "outputId": "f9355209-8515-4b5e-b3a9-86c6de426fd8"
      },
      "execution_count": 1,
      "outputs": [
        {
          "output_type": "stream",
          "name": "stdout",
          "text": [
            "True\n",
            "False\n",
            "True\n",
            "False\n",
            "True\n"
          ]
        }
      ]
    },
    {
      "cell_type": "code",
      "source": [
        "Question 2\n",
        "Given a string of numbers separated by a comma and space, return the product of the\n",
        "numbers.\n",
        "Examples\n",
        "multiply_nums(&quot;2, 3&quot;) ➞ 6\n",
        "multiply_nums(&quot;1, 2, 3, 4&quot;) ➞ 24\n",
        "multiply_nums(&quot;54, 75, 453, 0&quot;) ➞ 0\n",
        "multiply_nums(&quot;10, -2&quot;) ➞ -20"
      ],
      "metadata": {
        "id": "ZZmpDPbEPeKJ"
      },
      "execution_count": null,
      "outputs": []
    },
    {
      "cell_type": "code",
      "source": [
        "def multiply_nums(numbers):\n",
        "    num_list = numbers.split(\", \")\n",
        "    product = 1\n",
        "    for num in num_list:\n",
        "        product *= int(num)\n",
        "    return product\n",
        "\n",
        "# Examples\n",
        "print(multiply_nums(\"2, 3\"))                  # Output: 6\n",
        "print(multiply_nums(\"1, 2, 3, 4\"))            # Output: 24\n",
        "print(multiply_nums(\"54, 75, 453, 0\"))        # Output: 0\n",
        "print(multiply_nums(\"10, -2\"))                # Output: -20\n"
      ],
      "metadata": {
        "colab": {
          "base_uri": "https://localhost:8080/"
        },
        "id": "RjfMTuNfP1sO",
        "outputId": "6e735153-aca2-4006-dd09-cb4c15fb7550"
      },
      "execution_count": 2,
      "outputs": [
        {
          "output_type": "stream",
          "name": "stdout",
          "text": [
            "6\n",
            "24\n",
            "0\n",
            "-20\n"
          ]
        }
      ]
    },
    {
      "cell_type": "code",
      "source": [
        "Question 3\n",
        "Create a function that squares every digit of a number.\n",
        "Examples\n",
        "square_digits(9119) ➞ 811181\n",
        "square_digits(2483) ➞ 416649\n",
        "square_digits(3212) ➞ 9414"
      ],
      "metadata": {
        "id": "MWD7MAKtP1vB"
      },
      "execution_count": null,
      "outputs": []
    },
    {
      "cell_type": "code",
      "source": [
        "def square_digits(number):\n",
        "    result = \"\"\n",
        "    for digit in str(number):\n",
        "        squared_digit = int(digit) ** 2\n",
        "        result += str(squared_digit)\n",
        "    return int(result)\n",
        "\n",
        "# Examples\n",
        "print(square_digits(9119))      # Output: 811181\n",
        "print(square_digits(2483))      # Output: 416649\n",
        "print(square_digits(3212))      # Output: 9414\n"
      ],
      "metadata": {
        "colab": {
          "base_uri": "https://localhost:8080/"
        },
        "id": "wK45g1OfP1yd",
        "outputId": "53a076f6-0f1e-473d-b1ea-ea0a079c5862"
      },
      "execution_count": 3,
      "outputs": [
        {
          "output_type": "stream",
          "name": "stdout",
          "text": [
            "811181\n",
            "416649\n",
            "9414\n"
          ]
        }
      ]
    },
    {
      "cell_type": "code",
      "source": [
        "Question 4\n",
        "Create a function that sorts a list and removes all duplicate items from it.\n",
        "Examples\n",
        "setify([1, 3, 3, 5, 5]) ➞ [1, 3, 5]\n",
        "setify([4, 4, 4, 4]) ➞ [4]\n",
        "setify([5, 7, 8, 9, 10, 15]) ➞ [5, 7, 8, 9, 10, 15]\n",
        "setify([3, 3, 3, 2, 1]) ➞ [1, 2, 3]"
      ],
      "metadata": {
        "id": "dGV1C0ZfPeNK"
      },
      "execution_count": null,
      "outputs": []
    },
    {
      "cell_type": "code",
      "source": [
        "def setify(lst):\n",
        "    sorted_lst = sorted(lst)\n",
        "    return list(set(sorted_lst))\n",
        "\n",
        "# Examples\n",
        "print(setify([1, 3, 3, 5, 5]))             # Output: [1, 3, 5]\n",
        "print(setify([4, 4, 4, 4]))                # Output: [4]\n",
        "print(setify([5, 7, 8, 9, 10, 15]))        # Output: [5, 7, 8, 9, 10, 15]\n",
        "print(setify([3, 3, 3, 2, 1]))             # Output: [1, 2, 3]\n"
      ],
      "metadata": {
        "colab": {
          "base_uri": "https://localhost:8080/"
        },
        "id": "yYB1U5pIPeQi",
        "outputId": "2583b262-5ce4-46e2-80f0-d2f189ee06fa"
      },
      "execution_count": 4,
      "outputs": [
        {
          "output_type": "stream",
          "name": "stdout",
          "text": [
            "[1, 3, 5]\n",
            "[4]\n",
            "[5, 7, 8, 9, 10, 15]\n",
            "[1, 2, 3]\n"
          ]
        }
      ]
    },
    {
      "cell_type": "code",
      "source": [
        "Question 5\n",
        "Create a function that returns the mean of all digits.\n",
        "Examples\n",
        "mean(42) ➞ 3\n",
        "mean(12345) ➞ 3\n",
        "mean(666) ➞ 6"
      ],
      "metadata": {
        "id": "ENYypPaFPeTf"
      },
      "execution_count": null,
      "outputs": []
    },
    {
      "cell_type": "code",
      "source": [
        "def mean(num):\n",
        "    digits = [int(d) for d in str(num)]\n",
        "    return sum(digits) / len(digits)\n",
        "\n",
        "# Examples\n",
        "print(mean(42))      # Output: 3\n",
        "print(mean(12345))   # Output: 3\n",
        "print(mean(666))     # Output: 6\n"
      ],
      "metadata": {
        "colab": {
          "base_uri": "https://localhost:8080/"
        },
        "id": "OVxUsJepPeW4",
        "outputId": "dff74176-df18-48cd-e4ac-8fbb2b49b4de"
      },
      "execution_count": 5,
      "outputs": [
        {
          "output_type": "stream",
          "name": "stdout",
          "text": [
            "3.0\n",
            "3.0\n",
            "6.0\n"
          ]
        }
      ]
    }
  ]
}