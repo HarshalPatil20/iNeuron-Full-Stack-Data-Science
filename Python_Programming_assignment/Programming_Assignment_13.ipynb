{
  "nbformat": 4,
  "nbformat_minor": 0,
  "metadata": {
    "colab": {
      "provenance": []
    },
    "kernelspec": {
      "name": "python3",
      "display_name": "Python 3"
    },
    "language_info": {
      "name": "python"
    }
  },
  "cells": [
    {
      "cell_type": "code",
      "execution_count": null,
      "metadata": {
        "id": "r1jjOxv99YRO"
      },
      "outputs": [],
      "source": []
    },
    {
      "cell_type": "code",
      "source": [
        "Question 1:\n",
        "Write a program that calculates and prints the value according to the given formula:\n",
        "Q = Square root of [(2 * C * D)/H]\n",
        "Following are the fixed values of C and H:\n",
        "C is 50. H is 30.\n",
        "D is the variable whose values should be input to your program in a comma-separated\n",
        "sequence.\n",
        "Example\n",
        "Let us assume the following comma separated input sequence is given to the program:\n",
        "100,150,180\n",
        "The output of the program should be:\n",
        "18,22,24"
      ],
      "metadata": {
        "id": "NGdktpUb9a-v"
      },
      "execution_count": null,
      "outputs": []
    },
    {
      "cell_type": "code",
      "source": [
        "import math\n",
        "\n",
        "def calculate_values(sequence):\n",
        "    C = 50\n",
        "    H = 30\n",
        "    results = []\n",
        "\n",
        "    # Split the input sequence by comma and convert each value to integer\n",
        "    values = sequence.split(',')\n",
        "\n",
        "    for value in values:\n",
        "        D = int(value)\n",
        "        # Calculate the value using the formula\n",
        "        Q = math.sqrt((2 * C * D) / H)\n",
        "        # Append the result to the list\n",
        "        results.append(int(Q))\n",
        "\n",
        "    return results\n",
        "\n",
        "# Example input sequence\n",
        "input_sequence = \"100,150,180\"\n",
        "\n",
        "# Call the function to calculate the values\n",
        "output_values = calculate_values(input_sequence)\n",
        "\n",
        "# Print the result\n",
        "print(\"Output:\", ', '.join(map(str, output_values)))\n"
      ],
      "metadata": {
        "colab": {
          "base_uri": "https://localhost:8080/"
        },
        "id": "3RAPlOPc9bCH",
        "outputId": "6039a092-2ecc-42a0-ce70-4a4c06ef6a3a"
      },
      "execution_count": 1,
      "outputs": [
        {
          "output_type": "stream",
          "name": "stdout",
          "text": [
            "Output: 18, 22, 24\n"
          ]
        }
      ]
    },
    {
      "cell_type": "code",
      "source": [
        "Question 2:\n",
        "Write a program which takes 2 digits, X,Y as input and generates a 2-dimensional array. The\n",
        "element value in the i-th row and j-th column of the array should be i*j.\n",
        "Note: i=0,1.., X-1; j=0,1,¡Y-1.\n",
        "Example\n",
        "Suppose the following inputs are given to the program:\n",
        "3,5\n",
        "Then, the output of the program should be:\n",
        "[[0, 0, 0, 0, 0], [0, 1, 2, 3, 4], [0, 2, 4, 6, 8]]"
      ],
      "metadata": {
        "id": "0OaojBfQ9bFC"
      },
      "execution_count": null,
      "outputs": []
    },
    {
      "cell_type": "code",
      "source": [
        "def generate_2D_array(X, Y):\n",
        "    array = []\n",
        "\n",
        "    for i in range(X):\n",
        "        row = []\n",
        "        for j in range(Y):\n",
        "            # Calculate the element value for the i-th row and j-th column\n",
        "            element = i * j\n",
        "            row.append(element)\n",
        "        array.append(row)\n",
        "\n",
        "    return array\n",
        "\n",
        "# Example inputs\n",
        "X = 3\n",
        "Y = 5\n",
        "\n",
        "# Call the function to generate the 2-dimensional array\n",
        "output_array = generate_2D_array(X, Y)\n",
        "\n",
        "# Print the result\n",
        "print(\"Output:\")\n",
        "for row in output_array:\n",
        "    print(row)\n"
      ],
      "metadata": {
        "colab": {
          "base_uri": "https://localhost:8080/"
        },
        "id": "WZyaTyip9bH9",
        "outputId": "e888c7da-d401-4f92-d190-afef5db15527"
      },
      "execution_count": 2,
      "outputs": [
        {
          "output_type": "stream",
          "name": "stdout",
          "text": [
            "Output:\n",
            "[0, 0, 0, 0, 0]\n",
            "[0, 1, 2, 3, 4]\n",
            "[0, 2, 4, 6, 8]\n"
          ]
        }
      ]
    },
    {
      "cell_type": "code",
      "source": [
        "Question 3:\n",
        "Write a program that accepts a comma separated sequence of words as input and prints the\n",
        "words in a comma-separated sequence after sorting them alphabetically.\n",
        "Suppose the following input is supplied to the program:\n",
        "without,hello,bag,world\n",
        "Then, the output should be:\n",
        "bag,hello,without,world"
      ],
      "metadata": {
        "id": "QoVPBuvJ9bLA"
      },
      "execution_count": null,
      "outputs": []
    },
    {
      "cell_type": "code",
      "source": [
        "def sort_words(sequence):\n",
        "    # Split the input sequence by comma and convert it to a list\n",
        "    words = sequence.split(',')\n",
        "\n",
        "    # Sort the words alphabetically\n",
        "    sorted_words = sorted(words)\n",
        "\n",
        "    # Join the sorted words with commas\n",
        "    sorted_sequence = ','.join(sorted_words)\n",
        "\n",
        "    return sorted_sequence\n",
        "\n",
        "# Example input sequence\n",
        "input_sequence = \"without,hello,bag,world\"\n",
        "\n",
        "# Call the function to sort the words\n",
        "sorted_sequence = sort_words(input_sequence)\n",
        "\n",
        "# Print the result\n",
        "print(\"Sorted sequence:\", sorted_sequence)\n"
      ],
      "metadata": {
        "colab": {
          "base_uri": "https://localhost:8080/"
        },
        "id": "yqDRDMjJ9bOM",
        "outputId": "1040ebc6-97d4-4d7e-837d-d6401d9ddc08"
      },
      "execution_count": 3,
      "outputs": [
        {
          "output_type": "stream",
          "name": "stdout",
          "text": [
            "Sorted sequence: bag,hello,without,world\n"
          ]
        }
      ]
    },
    {
      "cell_type": "code",
      "source": [
        "Question 4:\n",
        "Write a program that accepts a sequence of whitespace separated words as input and prints\n",
        "the words after removing all duplicate words and sorting them alphanumerically.\n",
        "Suppose the following input is supplied to the program:\n",
        "hello world and practice makes perfect and hello world again\n",
        "Then, the output should be:\n",
        "again and hello makes perfect practice world"
      ],
      "metadata": {
        "id": "ptZHsW029bRg"
      },
      "execution_count": null,
      "outputs": []
    },
    {
      "cell_type": "code",
      "source": [
        "def process_words(sequence):\n",
        "    # Split the input sequence by whitespace and convert it to a list\n",
        "    words = sequence.split()\n",
        "\n",
        "    # Remove duplicate words using a set\n",
        "    unique_words = set(words)\n",
        "\n",
        "    # Sort the unique words alphabetically\n",
        "    sorted_words = sorted(unique_words)\n",
        "\n",
        "    # Join the sorted words with whitespace\n",
        "    sorted_sequence = ' '.join(sorted_words)\n",
        "\n",
        "    return sorted_sequence\n",
        "\n",
        "# Example input sequence\n",
        "input_sequence = \"hello world and practice makes perfect and hello world again\"\n",
        "\n",
        "# Call the function to process the words\n",
        "processed_sequence = process_words(input_sequence)\n",
        "\n",
        "# Print the result\n",
        "print(\"Processed sequence:\", processed_sequence)\n"
      ],
      "metadata": {
        "colab": {
          "base_uri": "https://localhost:8080/"
        },
        "id": "Taktk9IZ9bXV",
        "outputId": "73929164-c158-4094-8be0-c496c2b09433"
      },
      "execution_count": 4,
      "outputs": [
        {
          "output_type": "stream",
          "name": "stdout",
          "text": [
            "Processed sequence: again and hello makes perfect practice world\n"
          ]
        }
      ]
    },
    {
      "cell_type": "code",
      "source": [
        "Question 5:\n",
        "Write a program that accepts a sentence and calculate the number of letters and digits.\n",
        "Suppose the following input is supplied to the program:\n",
        "hello world! 123\n",
        "Then, the output should be:\n",
        "LETTERS 10\n",
        "\n",
        "DIGITS 3"
      ],
      "metadata": {
        "colab": {
          "base_uri": "https://localhost:8080/",
          "height": 130
        },
        "id": "ZwsP-hCt9baq",
        "outputId": "22671a74-9f2a-437a-ff97-4f3f5567f0ef"
      },
      "execution_count": 5,
      "outputs": [
        {
          "output_type": "error",
          "ename": "SyntaxError",
          "evalue": "ignored",
          "traceback": [
            "\u001b[0;36m  File \u001b[0;32m\"<ipython-input-5-cd6bc23f6d0d>\"\u001b[0;36m, line \u001b[0;32m1\u001b[0m\n\u001b[0;31m    Question 5:\u001b[0m\n\u001b[0m             ^\u001b[0m\n\u001b[0;31mSyntaxError\u001b[0m\u001b[0;31m:\u001b[0m invalid syntax\n"
          ]
        }
      ]
    },
    {
      "cell_type": "code",
      "source": [
        "def count_letters_digits(sentence):\n",
        "    letter_count = 0\n",
        "    digit_count = 0\n",
        "\n",
        "    for char in sentence:\n",
        "        if char.isalpha():\n",
        "            letter_count += 1\n",
        "        elif char.isdigit():\n",
        "            digit_count += 1\n",
        "\n",
        "    return letter_count, digit_count\n",
        "\n",
        "# Example input sentence\n",
        "input_sentence = \"hello world! 123\"\n",
        "\n",
        "# Call the function to count letters and digits\n",
        "letter_count, digit_count = count_letters_digits(input_sentence)\n",
        "\n",
        "# Print the result\n",
        "print(\"LETTERS\", letter_count)\n",
        "print(\"DIGITS\", digit_count)\n"
      ],
      "metadata": {
        "colab": {
          "base_uri": "https://localhost:8080/"
        },
        "id": "c6_orUj99bdj",
        "outputId": "93ea391a-a2e1-46db-de23-3994d70f4b3b"
      },
      "execution_count": 6,
      "outputs": [
        {
          "output_type": "stream",
          "name": "stdout",
          "text": [
            "LETTERS 10\n",
            "DIGITS 3\n"
          ]
        }
      ]
    },
    {
      "cell_type": "code",
      "source": [
        "Question 6:\n",
        "A website requires the users to input username and password to register. Write a program to\n",
        "check the validity of password input by users.\n",
        "Following are the criteria for checking the password:\n",
        "1. At least 1 letter between [a-z]\n",
        "2. At least 1 number between [0-9]\n",
        "1. At least 1 letter between [A-Z]\n",
        "3. At least 1 character from [$#@]\n",
        "4. Minimum length of transaction password: 6\n",
        "5. Maximum length of transaction password: 12\n",
        "Your program should accept a sequence of comma separated passwords and will check them\n",
        "according to the above criteria. Passwords that match the criteria are to be printed, each\n",
        "separated by a comma.\n",
        "Example\n",
        "If the following passwords are given as input to the program:\n",
        "ABd1234@1,a F1#,2w3E*,2We3345\n",
        "Then, the output of the program should be:\n",
        "ABd1234@1"
      ],
      "metadata": {
        "id": "OyWKX_mX9bhD"
      },
      "execution_count": null,
      "outputs": []
    },
    {
      "cell_type": "code",
      "source": [
        "import re\n",
        "\n",
        "def check_password_validity(password):\n",
        "    # Check if the password meets all the criteria\n",
        "    if re.match(r\"^(?=.*[a-z])(?=.*[A-Z])(?=.*\\d)(?=.*[$#@]).{6,12}$\", password):\n",
        "        return True\n",
        "    else:\n",
        "        return False\n",
        "\n",
        "# Example input passwords\n",
        "input_passwords = \"ABd1234@1,a F1#,2w3E*,2We3345\"\n",
        "\n",
        "# Split the input passwords by comma\n",
        "password_list = input_passwords.split(',')\n",
        "\n",
        "# List to store valid passwords\n",
        "valid_passwords = []\n",
        "\n",
        "# Check the validity of each password\n",
        "for password in password_list:\n",
        "    if check_password_validity(password):\n",
        "        valid_passwords.append(password)\n",
        "\n",
        "# Join the valid passwords with comma\n",
        "output_passwords = ','.join(valid_passwords)\n",
        "\n",
        "# Print the result\n",
        "print(\"Valid passwords:\", output_passwords)\n"
      ],
      "metadata": {
        "colab": {
          "base_uri": "https://localhost:8080/"
        },
        "id": "yD15GaLn9bkC",
        "outputId": "52ec14c1-51ac-4bdc-ab33-49a1620863df"
      },
      "execution_count": 7,
      "outputs": [
        {
          "output_type": "stream",
          "name": "stdout",
          "text": [
            "Valid passwords: ABd1234@1\n"
          ]
        }
      ]
    }
  ]
}