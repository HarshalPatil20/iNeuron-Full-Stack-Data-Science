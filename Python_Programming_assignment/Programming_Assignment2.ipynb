{
  "nbformat": 4,
  "nbformat_minor": 0,
  "metadata": {
    "colab": {
      "provenance": []
    },
    "kernelspec": {
      "name": "python3",
      "display_name": "Python 3"
    },
    "language_info": {
      "name": "python"
    }
  },
  "cells": [
    {
      "cell_type": "code",
      "execution_count": null,
      "metadata": {
        "id": "yMuN3NhyRiNb"
      },
      "outputs": [],
      "source": [
        "1. Write a Python program to convert kilometers to miles?"
      ]
    },
    {
      "cell_type": "code",
      "source": [
        "def convert_km_into_miles(kilometers):\n",
        "  miles = kilometers *0.621371\n",
        "  return miles\n",
        "\n",
        "\n",
        "kilometers  = float(input(\"Enter the kilometers:\"))\n",
        "\n",
        "miles = convert_km_into_miles(kilometers)\n",
        "print(\"Kilometers into miles:\",miles)"
      ],
      "metadata": {
        "colab": {
          "base_uri": "https://localhost:8080/"
        },
        "id": "0o-zkGiPRoUN",
        "outputId": "17915f9e-0400-46b2-a5ec-bc564f4e4cde"
      },
      "execution_count": 3,
      "outputs": [
        {
          "output_type": "stream",
          "name": "stdout",
          "text": [
            "Enter the kilometers:20\n",
            "Kilometers into miles: 12.42742\n"
          ]
        }
      ]
    },
    {
      "cell_type": "code",
      "source": [
        "2. Write a Python program to convert Celsius to Fahrenheit?\n"
      ],
      "metadata": {
        "id": "ySO_6JAlScv9"
      },
      "execution_count": null,
      "outputs": []
    },
    {
      "cell_type": "code",
      "source": [
        "def convert_Celsius_into_Fahrenheit(celsius):\n",
        "  fahrenheit = (celsius * 9/5) + 32\n",
        "  return fahrenheit\n",
        "\n",
        "celsius = float(input(\"Enter temperature in celsius:\"))\n",
        "\n",
        "Fahrenheit = convert_Celsius_into_Fahrenheit(celsius)\n",
        "print(\"Convert Celsius to Fahrenheit:\", Fahrenheit)\n"
      ],
      "metadata": {
        "colab": {
          "base_uri": "https://localhost:8080/"
        },
        "id": "ToHewxHdRoZN",
        "outputId": "64bb626c-1a8a-4319-d56c-69f78a53ad2a"
      },
      "execution_count": 5,
      "outputs": [
        {
          "output_type": "stream",
          "name": "stdout",
          "text": [
            "Enter temperature in celsius:45\n",
            "Convert Celsius to Fahrenheit: 113.0\n"
          ]
        }
      ]
    },
    {
      "cell_type": "code",
      "source": [
        "3. Write a Python program to display calendar?"
      ],
      "metadata": {
        "id": "x9RcHq9xRoa_"
      },
      "execution_count": null,
      "outputs": []
    },
    {
      "cell_type": "code",
      "source": [
        "import calendar\n",
        "\n",
        "# Get the year and month from the user\n",
        "year = int(input(\"Enter the year: \"))\n",
        "month = int(input(\"Enter the month: \"))\n",
        "\n",
        "# Display the calendar\n",
        "cal = calendar.month(year, month)\n",
        "print(cal)\n"
      ],
      "metadata": {
        "colab": {
          "base_uri": "https://localhost:8080/"
        },
        "id": "2uB7VkO4T4R0",
        "outputId": "1e484448-8a86-4a5b-b32b-147e161a88a3"
      },
      "execution_count": 7,
      "outputs": [
        {
          "output_type": "stream",
          "name": "stdout",
          "text": [
            "Enter the year: 20\n",
            "Enter the month: 12\n",
            "    December 20\n",
            "Mo Tu We Th Fr Sa Su\n",
            "    1  2  3  4  5  6\n",
            " 7  8  9 10 11 12 13\n",
            "14 15 16 17 18 19 20\n",
            "21 22 23 24 25 26 27\n",
            "28 29 30 31\n",
            "\n"
          ]
        }
      ]
    },
    {
      "cell_type": "code",
      "source": [
        "4. Write a Python program to solve quadratic equation?"
      ],
      "metadata": {
        "id": "B6QPJxbYT4YJ"
      },
      "execution_count": null,
      "outputs": []
    },
    {
      "cell_type": "code",
      "source": [
        "import math\n",
        "\n",
        "def solve_quadratic_equation(a, b, c):\n",
        "    discriminant = b**2 - 4*a*c\n",
        "\n",
        "    if discriminant > 0:\n",
        "        root1 = (-b + math.sqrt(discriminant)) / (2*a)\n",
        "        root2 = (-b - math.sqrt(discriminant)) / (2*a)\n",
        "        return root1, root2\n",
        "    elif discriminant == 0:\n",
        "        root = -b / (2*a)\n",
        "        return root\n",
        "    else:\n",
        "        return \"No real roots exist.\"\n",
        "\n",
        "# Test the function\n",
        "a = float(input(\"Enter the coefficient of x^2: \"))\n",
        "b = float(input(\"Enter the coefficient of x: \"))\n",
        "c = float(input(\"Enter the constant term: \"))\n",
        "\n",
        "roots = solve_quadratic_equation(a, b, c)\n",
        "\n",
        "print(\"Roots of the quadratic equation:\")\n",
        "if isinstance(roots, tuple):\n",
        "    root1, root2 = roots\n",
        "    print(\"Root 1:\", root1)\n",
        "    print(\"Root 2:\", root2)\n",
        "else:\n",
        "    print(\"Root:\", roots)\n"
      ],
      "metadata": {
        "colab": {
          "base_uri": "https://localhost:8080/"
        },
        "id": "sTTmSwE2T4bS",
        "outputId": "4ebb793d-e2f7-408d-e5c3-da3c8bc5c750"
      },
      "execution_count": 8,
      "outputs": [
        {
          "output_type": "stream",
          "name": "stdout",
          "text": [
            "Enter the coefficient of x^2: 2\n",
            "Enter the coefficient of x: 6\n",
            "Enter the constant term: 8\n",
            "Roots of the quadratic equation:\n",
            "Root: No real roots exist.\n"
          ]
        }
      ]
    },
    {
      "cell_type": "code",
      "source": [
        "5. Write a Python program to swap two variables without temp variable?"
      ],
      "metadata": {
        "id": "GIe_KvZ7T4dY"
      },
      "execution_count": null,
      "outputs": []
    },
    {
      "cell_type": "code",
      "source": [
        "def swap_variables(a, b):\n",
        "    a = a + b\n",
        "    b = a - b\n",
        "    a = a - b\n",
        "    return a, b\n",
        "\n",
        "# Test the function\n",
        "variable1 = input(\"Enter the first variable: \")\n",
        "variable2 = input(\"Enter the second variable: \")\n",
        "\n",
        "print(\"Before swapping:\")\n",
        "print(\"Variable 1:\", variable1)\n",
        "print(\"Variable 2:\", variable2)\n",
        "\n",
        "variable1, variable2 = swap_variables(variable1, variable2)\n",
        "\n",
        "print(\"After swapping:\")\n",
        "print(\"Variable 1:\", variable1)\n",
        "print(\"Variable 2:\", variable2)\n"
      ],
      "metadata": {
        "colab": {
          "base_uri": "https://localhost:8080/",
          "height": 443
        },
        "id": "AxmAvpNJT4fD",
        "outputId": "83b03ca8-6789-4626-f09b-0c5095cfcafa"
      },
      "execution_count": 9,
      "outputs": [
        {
          "output_type": "stream",
          "name": "stdout",
          "text": [
            "Enter the first variable: 255\n",
            "Enter the second variable: 859\n",
            "Before swapping:\n",
            "Variable 1: 255\n",
            "Variable 2: 859\n"
          ]
        },
        {
          "output_type": "error",
          "ename": "TypeError",
          "evalue": "ignored",
          "traceback": [
            "\u001b[0;31m---------------------------------------------------------------------------\u001b[0m",
            "\u001b[0;31mTypeError\u001b[0m                                 Traceback (most recent call last)",
            "\u001b[0;32m<ipython-input-9-bfc2be1b3604>\u001b[0m in \u001b[0;36m<cell line: 15>\u001b[0;34m()\u001b[0m\n\u001b[1;32m     13\u001b[0m \u001b[0mprint\u001b[0m\u001b[0;34m(\u001b[0m\u001b[0;34m\"Variable 2:\"\u001b[0m\u001b[0;34m,\u001b[0m \u001b[0mvariable2\u001b[0m\u001b[0;34m)\u001b[0m\u001b[0;34m\u001b[0m\u001b[0;34m\u001b[0m\u001b[0m\n\u001b[1;32m     14\u001b[0m \u001b[0;34m\u001b[0m\u001b[0m\n\u001b[0;32m---> 15\u001b[0;31m \u001b[0mvariable1\u001b[0m\u001b[0;34m,\u001b[0m \u001b[0mvariable2\u001b[0m \u001b[0;34m=\u001b[0m \u001b[0mswap_variables\u001b[0m\u001b[0;34m(\u001b[0m\u001b[0mvariable1\u001b[0m\u001b[0;34m,\u001b[0m \u001b[0mvariable2\u001b[0m\u001b[0;34m)\u001b[0m\u001b[0;34m\u001b[0m\u001b[0;34m\u001b[0m\u001b[0m\n\u001b[0m\u001b[1;32m     16\u001b[0m \u001b[0;34m\u001b[0m\u001b[0m\n\u001b[1;32m     17\u001b[0m \u001b[0mprint\u001b[0m\u001b[0;34m(\u001b[0m\u001b[0;34m\"After swapping:\"\u001b[0m\u001b[0;34m)\u001b[0m\u001b[0;34m\u001b[0m\u001b[0;34m\u001b[0m\u001b[0m\n",
            "\u001b[0;32m<ipython-input-9-bfc2be1b3604>\u001b[0m in \u001b[0;36mswap_variables\u001b[0;34m(a, b)\u001b[0m\n\u001b[1;32m      1\u001b[0m \u001b[0;32mdef\u001b[0m \u001b[0mswap_variables\u001b[0m\u001b[0;34m(\u001b[0m\u001b[0ma\u001b[0m\u001b[0;34m,\u001b[0m \u001b[0mb\u001b[0m\u001b[0;34m)\u001b[0m\u001b[0;34m:\u001b[0m\u001b[0;34m\u001b[0m\u001b[0;34m\u001b[0m\u001b[0m\n\u001b[1;32m      2\u001b[0m     \u001b[0ma\u001b[0m \u001b[0;34m=\u001b[0m \u001b[0ma\u001b[0m \u001b[0;34m+\u001b[0m \u001b[0mb\u001b[0m\u001b[0;34m\u001b[0m\u001b[0;34m\u001b[0m\u001b[0m\n\u001b[0;32m----> 3\u001b[0;31m     \u001b[0mb\u001b[0m \u001b[0;34m=\u001b[0m \u001b[0ma\u001b[0m \u001b[0;34m-\u001b[0m \u001b[0mb\u001b[0m\u001b[0;34m\u001b[0m\u001b[0;34m\u001b[0m\u001b[0m\n\u001b[0m\u001b[1;32m      4\u001b[0m     \u001b[0ma\u001b[0m \u001b[0;34m=\u001b[0m \u001b[0ma\u001b[0m \u001b[0;34m-\u001b[0m \u001b[0mb\u001b[0m\u001b[0;34m\u001b[0m\u001b[0;34m\u001b[0m\u001b[0m\n\u001b[1;32m      5\u001b[0m     \u001b[0;32mreturn\u001b[0m \u001b[0ma\u001b[0m\u001b[0;34m,\u001b[0m \u001b[0mb\u001b[0m\u001b[0;34m\u001b[0m\u001b[0;34m\u001b[0m\u001b[0m\n",
            "\u001b[0;31mTypeError\u001b[0m: unsupported operand type(s) for -: 'str' and 'str'"
          ]
        }
      ]
    }
  ]
}