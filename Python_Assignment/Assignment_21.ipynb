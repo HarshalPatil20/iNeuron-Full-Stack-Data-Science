{
  "nbformat": 4,
  "nbformat_minor": 0,
  "metadata": {
    "colab": {
      "provenance": []
    },
    "kernelspec": {
      "name": "python3",
      "display_name": "Python 3"
    },
    "language_info": {
      "name": "python"
    }
  },
  "cells": [
    {
      "cell_type": "code",
      "execution_count": null,
      "metadata": {
        "id": "bfv8UZWBDtxi"
      },
      "outputs": [],
      "source": [
        "1. Add the current date to the text file today.txt as a string."
      ]
    },
    {
      "cell_type": "code",
      "source": [
        "import datetime\n",
        "\n",
        "# Get the current date\n",
        "current_date = datetime.date.today()\n",
        "\n",
        "# Convert the date to a string\n",
        "date_string = str(current_date)\n",
        "\n",
        "# Append the date string to the file\n",
        "with open(\"today.txt\", \"a\") as file:\n",
        "    file.write(date_string + \"\\n\")\n"
      ],
      "metadata": {
        "id": "cxAk-kuFDv6e"
      },
      "execution_count": 1,
      "outputs": []
    },
    {
      "cell_type": "code",
      "source": [
        "2. Read the text file today.txt into the string today_string"
      ],
      "metadata": {
        "id": "s0NULHWqDv_X"
      },
      "execution_count": null,
      "outputs": []
    },
    {
      "cell_type": "code",
      "source": [
        "with open(\"today.txt\", \"r\") as file:\n",
        "    today_string = file.read()\n",
        "\n",
        "print(today_string)\n"
      ],
      "metadata": {
        "colab": {
          "base_uri": "https://localhost:8080/"
        },
        "id": "XGIhDlZqDwA6",
        "outputId": "5fde3bb3-416b-412f-d6b2-72acdddf56fc"
      },
      "execution_count": 2,
      "outputs": [
        {
          "output_type": "stream",
          "name": "stdout",
          "text": [
            "2023-07-02\n",
            "\n"
          ]
        }
      ]
    },
    {
      "cell_type": "code",
      "source": [
        "3. Parse the date from today_string."
      ],
      "metadata": {
        "id": "CS5ln9trDwDA"
      },
      "execution_count": null,
      "outputs": []
    },
    {
      "cell_type": "code",
      "source": [
        "import datetime\n",
        "\n",
        "# Parse the date from today_string\n",
        "parsed_date = datetime.datetime.strptime(today_string.strip(), \"%Y-%m-%d\")\n",
        "\n",
        "# Print the parsed date\n",
        "print(parsed_date)\n"
      ],
      "metadata": {
        "colab": {
          "base_uri": "https://localhost:8080/"
        },
        "id": "kDSIWXOeDwFr",
        "outputId": "0ffde2a2-ba29-487d-8d69-7a53ead09f78"
      },
      "execution_count": 3,
      "outputs": [
        {
          "output_type": "stream",
          "name": "stdout",
          "text": [
            "2023-07-02 00:00:00\n"
          ]
        }
      ]
    },
    {
      "cell_type": "code",
      "source": [
        "4. List the files in your current directory"
      ],
      "metadata": {
        "id": "l7TyECSvDwIf"
      },
      "execution_count": null,
      "outputs": []
    },
    {
      "cell_type": "code",
      "source": [
        "import os\n",
        "\n",
        "# Get the current directory\n",
        "current_directory = os.getcwd()\n",
        "\n",
        "# List files in the current directory\n",
        "files = os.listdir(current_directory)\n",
        "\n",
        "# Print the list of files\n",
        "for file in files:\n",
        "    print(file)\n"
      ],
      "metadata": {
        "colab": {
          "base_uri": "https://localhost:8080/"
        },
        "id": "mS3vGlvVEFyV",
        "outputId": "bf02c7c9-21cf-45ef-8369-51323cba0c36"
      },
      "execution_count": 4,
      "outputs": [
        {
          "output_type": "stream",
          "name": "stdout",
          "text": [
            ".config\n",
            "today.txt\n",
            "sample_data\n"
          ]
        }
      ]
    },
    {
      "cell_type": "code",
      "source": [
        "5. Create a list of all of the files in your parent directory (minimum five files should be available)."
      ],
      "metadata": {
        "id": "5KQXxjXgEF3N"
      },
      "execution_count": null,
      "outputs": []
    },
    {
      "cell_type": "code",
      "source": [
        "import os\n",
        "\n",
        "# Get the current directory\n",
        "current_directory = os.getcwd()\n",
        "\n",
        "# Get the parent directory\n",
        "parent_directory = os.path.dirname(current_directory)\n",
        "\n",
        "# List files in the parent directory\n",
        "files = os.listdir(parent_directory)\n",
        "\n",
        "# Print the list of files\n",
        "for file in files:\n",
        "    print(file)\n"
      ],
      "metadata": {
        "colab": {
          "base_uri": "https://localhost:8080/"
        },
        "id": "SlSFsakAEF60",
        "outputId": "db1676e7-d2b3-417b-f05c-07844780fb9e"
      },
      "execution_count": 5,
      "outputs": [
        {
          "output_type": "stream",
          "name": "stdout",
          "text": [
            "mnt\n",
            "sbin\n",
            "sys\n",
            "lib64\n",
            "opt\n",
            "lib32\n",
            "proc\n",
            "var\n",
            "etc\n",
            "media\n",
            "root\n",
            "usr\n",
            "lib\n",
            "libx32\n",
            "dev\n",
            "srv\n",
            "run\n",
            "boot\n",
            "home\n",
            "bin\n",
            "tmp\n",
            "content\n",
            ".dockerenv\n",
            "tools\n",
            "datalab\n",
            "python-apt\n",
            "NGC-DL-CONTAINER-LICENSE\n"
          ]
        }
      ]
    },
    {
      "cell_type": "code",
      "source": [
        "6. Use multiprocessing to create three separate processes. Make each one wait a random number of\n",
        "seconds between one and five, print the current time, and then exit."
      ],
      "metadata": {
        "id": "aJz7qDA2EF8w"
      },
      "execution_count": null,
      "outputs": []
    },
    {
      "cell_type": "code",
      "source": [
        "import multiprocessing\n",
        "import time\n",
        "import random\n",
        "from datetime import datetime\n",
        "\n",
        "def process_func():\n",
        "    # Generate a random wait time between 1 and 5 seconds\n",
        "    wait_time = random.randint(1, 5)\n",
        "\n",
        "    # Wait for the specified time\n",
        "    time.sleep(wait_time)\n",
        "\n",
        "    # Get the current time\n",
        "    current_time = datetime.now().strftime(\"%Y-%m-%d %H:%M:%S\")\n",
        "\n",
        "    # Print the current time\n",
        "    print(f\"Current time: {current_time}\")\n",
        "\n",
        "if __name__ == \"__main__\":\n",
        "    # Create three separate processes\n",
        "    processes = []\n",
        "    for _ in range(3):\n",
        "        p = multiprocessing.Process(target=process_func)\n",
        "        processes.append(p)\n",
        "        p.start()\n",
        "\n",
        "    # Wait for all processes to finish\n",
        "    for p in processes:\n",
        "        p.join()\n"
      ],
      "metadata": {
        "colab": {
          "base_uri": "https://localhost:8080/"
        },
        "id": "bQx2AsF5EF-e",
        "outputId": "24944c3a-0ded-4308-c312-5b783228d284"
      },
      "execution_count": 6,
      "outputs": [
        {
          "output_type": "stream",
          "name": "stdout",
          "text": [
            "Current time: 2023-07-02 10:06:56\n",
            "Current time: 2023-07-02 10:07:01Current time: 2023-07-02 10:07:01\n",
            "\n"
          ]
        }
      ]
    },
    {
      "cell_type": "code",
      "source": [
        "7. Create a date object of your day of birth."
      ],
      "metadata": {
        "id": "a7cJOGypEGAa"
      },
      "execution_count": null,
      "outputs": []
    },
    {
      "cell_type": "code",
      "source": [
        "import datetime\n",
        "\n",
        "# Create a date object for the day of birth\n",
        "birth_date = datetime.date(year=1990, month=1, day=1)\n",
        "\n",
        "# Print the birth date\n",
        "print(birth_date)\n"
      ],
      "metadata": {
        "colab": {
          "base_uri": "https://localhost:8080/"
        },
        "id": "axLtDl6NDwK_",
        "outputId": "e9920bdb-7bf5-409d-cd30-21857bb79fe7"
      },
      "execution_count": 7,
      "outputs": [
        {
          "output_type": "stream",
          "name": "stdout",
          "text": [
            "1990-01-01\n"
          ]
        }
      ]
    },
    {
      "cell_type": "code",
      "source": [
        "8. What day of the week was your day of birth?"
      ],
      "metadata": {
        "id": "NLi7HB1pEkXz"
      },
      "execution_count": null,
      "outputs": []
    },
    {
      "cell_type": "code",
      "source": [
        "import datetime\n",
        "\n",
        "# Create a date object for the day of birth\n",
        "birth_date = datetime.date(year=1990, month=1, day=1)\n",
        "\n",
        "# Determine the day of the week\n",
        "day_of_week = birth_date.strftime(\"%A\")\n",
        "\n",
        "# Print the day of the week\n",
        "print(day_of_week)\n"
      ],
      "metadata": {
        "colab": {
          "base_uri": "https://localhost:8080/"
        },
        "id": "kd-AsmJSEkd4",
        "outputId": "5905f38f-54c2-4767-de29-4706d89deddd"
      },
      "execution_count": 8,
      "outputs": [
        {
          "output_type": "stream",
          "name": "stdout",
          "text": [
            "Monday\n"
          ]
        }
      ]
    },
    {
      "cell_type": "code",
      "source": [
        "9. When will you be (or when were you) 10,000 days old?"
      ],
      "metadata": {
        "id": "DFexqbgVEkiy"
      },
      "execution_count": null,
      "outputs": []
    },
    {
      "cell_type": "code",
      "source": [
        "import datetime\n",
        "\n",
        "# Define the number of days\n",
        "days = 10000\n",
        "\n",
        "# Get the current date\n",
        "current_date = datetime.date.today()\n",
        "\n",
        "# Calculate the target date\n",
        "target_date = current_date + datetime.timedelta(days=days)\n",
        "\n",
        "# Print the target date\n",
        "print(target_date)\n"
      ],
      "metadata": {
        "colab": {
          "base_uri": "https://localhost:8080/"
        },
        "id": "9lbsiinRDwOc",
        "outputId": "3ecc23d8-d3c0-4734-b743-32fc5c53bac5"
      },
      "execution_count": 9,
      "outputs": [
        {
          "output_type": "stream",
          "name": "stdout",
          "text": [
            "2050-11-17\n"
          ]
        }
      ]
    }
  ]
}