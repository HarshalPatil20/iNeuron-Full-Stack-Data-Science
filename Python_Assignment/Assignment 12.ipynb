{
 "cells": [
  {
   "cell_type": "markdown",
   "metadata": {},
   "source": [
    " In what modes should the PdfFileReader() and PdfFileWriter() File objects will be opened?"
   ]
  },
  {
   "cell_type": "code",
   "execution_count": 1,
   "metadata": {},
   "outputs": [
    {
     "ename": "FileNotFoundError",
     "evalue": "[Errno 2] No such file or directory: 'input.pdf'",
     "output_type": "error",
     "traceback": [
      "\u001b[1;31m---------------------------------------------------------------------------\u001b[0m",
      "\u001b[1;31mFileNotFoundError\u001b[0m                         Traceback (most recent call last)",
      "\u001b[1;32m<ipython-input-1-da7f9e1f560d>\u001b[0m in \u001b[0;36m<module>\u001b[1;34m\u001b[0m\n\u001b[0;32m      4\u001b[0m \u001b[1;33m\u001b[0m\u001b[0m\n\u001b[0;32m      5\u001b[0m \u001b[1;33m\u001b[0m\u001b[0m\n\u001b[1;32m----> 6\u001b[1;33m \u001b[0mpdf_file\u001b[0m \u001b[1;33m=\u001b[0m \u001b[0mopen\u001b[0m\u001b[1;33m(\u001b[0m\u001b[1;34m'input.pdf'\u001b[0m\u001b[1;33m,\u001b[0m \u001b[1;34m'rb'\u001b[0m\u001b[1;33m)\u001b[0m\u001b[1;33m\u001b[0m\u001b[1;33m\u001b[0m\u001b[0m\n\u001b[0m\u001b[0;32m      7\u001b[0m \u001b[0mpdf_reader\u001b[0m \u001b[1;33m=\u001b[0m \u001b[0mPdfFileReader\u001b[0m\u001b[1;33m(\u001b[0m\u001b[0mpdf_file\u001b[0m\u001b[1;33m)\u001b[0m\u001b[1;33m\u001b[0m\u001b[1;33m\u001b[0m\u001b[0m\n\u001b[0;32m      8\u001b[0m \u001b[1;33m\u001b[0m\u001b[0m\n",
      "\u001b[1;31mFileNotFoundError\u001b[0m: [Errno 2] No such file or directory: 'input.pdf'"
     ]
    }
   ],
   "source": [
    "#When using the `PdfFileReader()` and `PdfFileWriter()` functions from the PyPDF2 library to read from or write to PDF files, you should open the File objects in the following modes:\n",
    "\n",
    "#1. `PdfFileReader()` function: You should open the PDF file in binary mode by specifying the mode as `'rb'`. The `'rb'` mode stands for \"read binary\" and ensures that the PDF file is read in binary format.\n",
    "\n",
    "\n",
    "pdf_file = open('input.pdf', 'rb')\n",
    "pdf_reader = PdfFileReader(pdf_file)\n",
    "\n",
    "\n",
    "#2. `PdfFileWriter()` function: You should open the output PDF file in binary mode with the mode set to `'wb'`. The `'wb'` mode stands for \"write binary\" and ensures that the PDF file is written in binary format.\n",
    "\n",
    "output_pdf = open('output.pdf', 'wb')\n",
    "pdf_writer = PdfFileWriter()\n",
    "\n",
    "\n",
    "#By opening the files in binary mode, you ensure that the PDF files are correctly read and written as binary data, which is required for working with PDF files using the PyPDF2 library."
   ]
  },
  {
   "cell_type": "markdown",
   "metadata": {},
   "source": [
    "2. From a PdfFileReader object, how do you get a Page object for page 5?"
   ]
  },
  {
   "cell_type": "code",
   "execution_count": 3,
   "metadata": {},
   "outputs": [
    {
     "name": "stdout",
     "output_type": "stream",
     "text": [
      "Collecting PyPDF2\n",
      "  Downloading pypdf2-3.0.1-py3-none-any.whl (232 kB)\n",
      "Requirement already satisfied: typing_extensions>=3.10.0.0; python_version < \"3.10\" in c:\\users\\admin\\anaconda3\\lib\\site-packages (from PyPDF2) (4.3.0)\n",
      "Installing collected packages: PyPDF2\n",
      "Successfully installed PyPDF2-3.0.1\n",
      "Note: you may need to restart the kernel to use updated packages.\n"
     ]
    }
   ],
   "source": [
    "pip install PyPDF2"
   ]
  },
  {
   "cell_type": "code",
   "execution_count": 5,
   "metadata": {},
   "outputs": [
    {
     "name": "stdout",
     "output_type": "stream",
     "text": [
      "Total number of pages: 5\n"
     ]
    }
   ],
   "source": [
    "\n",
    "from PyPDF2 import PdfReader\n",
    "\n",
    "pdf_reader = PdfReader('Credit Card Default Prediction.pdf')\n",
    "total_pages = len(pdf_reader.pages)\n",
    "\n",
    "print(\"Total number of pages:\", total_pages)\n",
    "\n"
   ]
  },
  {
   "cell_type": "markdown",
   "metadata": {},
   "source": [
    "3. What PdfFileReader variable stores the number of pages in the PDF document?"
   ]
  },
  {
   "cell_type": "code",
   "execution_count": 9,
   "metadata": {},
   "outputs": [
    {
     "name": "stdout",
     "output_type": "stream",
     "text": [
      "Total number of pages: 5\n"
     ]
    }
   ],
   "source": [
    "from PyPDF2 import PdfReader\n",
    "\n",
    "pdf_reader = PdfReader(open('Credit Card Default Prediction.pdf', 'rb'))\n",
    "total_pages = len(pdf_reader.pages)\n",
    "\n",
    "print(\"Total number of pages:\", total_pages)\n"
   ]
  },
  {
   "cell_type": "code",
   "execution_count": null,
   "metadata": {},
   "outputs": [],
   "source": []
  },
  {
   "cell_type": "markdown",
   "metadata": {},
   "source": [
    "4. If a PdfFileReader object’s PDF is encrypted with the password swordfish, what must you do before you can obtain Page objects from it?"
   ]
  },
  {
   "cell_type": "markdown",
   "metadata": {},
   "source": [
    "If a `PdfFileReader` object's PDF is encrypted with the password \"swordfish\", you must decrypt the PDF using the provided password before you can obtain `Page` objects from it. Here's what you need to do:\n",
    "\n",
    "```python\n",
    "from PyPDF2 import PdfFileReader\n",
    "\n",
    "pdf_reader = PdfFileReader(open('encrypted.pdf', 'rb'))\n",
    "\n",
    "if pdf_reader.is_encrypted:\n",
    "    pdf_reader.decrypt('swordfish')\n",
    "\n",
    "# Now you can access the Page objects\n",
    "page_1 = pdf_reader.getPage(0)\n",
    "# Perform operations on the page_1 object\n",
    "\n",
    "# Continue working with other pages if needed\n",
    "```\n",
    "\n",
    "In this example, we first check if the PDF is encrypted by using the `is_encrypted` attribute. If it returns `True`, we proceed to call the `decrypt()` method on the `PdfFileReader` object and provide the correct password ('swordfish' in this case) to decrypt the PDF.\n",
    "\n",
    "After decrypting the PDF, you can then use the `getPage()` method to obtain `Page` objects from the `PdfFileReader` and perform any necessary operations on them."
   ]
  },
  {
   "cell_type": "markdown",
   "metadata": {},
   "source": [
    "5. What methods do you use to rotate a page?"
   ]
  },
  {
   "cell_type": "raw",
   "metadata": {},
   "source": [
    "To rotate a page in PyPDF2, you can use the `rotateClockwise()` and `rotateCounterClockwise()` methods provided by the `Page` object. Here's how you can use these methods to rotate a page:\n",
    "\n",
    "```python\n",
    "from PyPDF2 import PdfFileReader, PdfFileWriter\n",
    "\n",
    "pdf_reader = PdfFileReader(open('input.pdf', 'rb'))\n",
    "page = pdf_reader.getPage(0)\n",
    "\n",
    "# Rotate the page clockwise by 90 degrees\n",
    "page.rotateClockwise(90)\n",
    "\n",
    "# Rotate the page counter-clockwise by 180 degrees\n",
    "page.rotateCounterClockwise(180)\n",
    "\n",
    "pdf_writer = PdfFileWriter()\n",
    "pdf_writer.addPage(page)\n",
    "\n",
    "output_pdf = open('output.pdf', 'wb')\n",
    "pdf_writer.write(output_pdf)\n",
    "output_pdf.close()\n",
    "```\n",
    "\n",
    "In this example, we first retrieve the desired page using the `getPage()` method from a `PdfFileReader` object. Then, we can rotate the page using either `rotateClockwise()` or `rotateCounterClockwise()` methods. The `rotateClockwise()` method rotates the page clockwise by the specified angle (in degrees), and the `rotateCounterClockwise()` method rotates the page counter-clockwise by the specified angle.\n",
    "\n",
    "After rotating the page as desired, we create a new `PdfFileWriter` object, add the modified page to it using the `addPage()` method, and then save the modified PDF to an output file using the `write()` method.\n",
    "\n",
    "Remember to adjust the page index (0 in this example) according to the page you want to rotate."
   ]
  },
  {
   "cell_type": "code",
   "execution_count": null,
   "metadata": {},
   "outputs": [],
   "source": [
    "6. What is the difference between a Run object and a Paragraph object?"
   ]
  },
  {
   "cell_type": "raw",
   "metadata": {},
   "source": [
    "In the context of document processing, such as working with libraries like python-docx, the key difference between a `Run` object and a `Paragraph` object is as follows:\n",
    "\n",
    "1. `Run` object: A `Run` object represents a contiguous run of text within a paragraph that has the same formatting. It is essentially a sequence of characters with consistent styling, such as font, size, color, bold, italic, etc. In other words, a `Run` object represents a portion of text within a `Paragraph` that has the same formatting properties.\n",
    "\n",
    "2. `Paragraph` object: A `Paragraph` object represents a complete paragraph of text within a document. It consists of one or more `Run` objects. A `Paragraph` can contain multiple `Run` objects to handle different formatting or styling changes within the paragraph. For example, a paragraph may have some words in bold, some in italics, and others with different fonts or colors. The `Paragraph` object provides a container for grouping these `Run` objects together.\n",
    "\n",
    "In summary, a `Run` object represents a continuous sequence of characters with consistent formatting within a `Paragraph`, while a `Paragraph` object represents a whole paragraph of text that may contain multiple `Run` objects to handle variations in formatting within the paragraph.\n",
    "\n",
    "When working with document processing libraries, understanding the distinction between `Run` and `Paragraph` objects is crucial for manipulating and formatting text at different levels within a document."
   ]
  },
  {
   "cell_type": "code",
   "execution_count": null,
   "metadata": {},
   "outputs": [],
   "source": [
    "7. How do you obtain a list of Paragraph objects for a Document object that’s stored in a variable named doc?"
   ]
  },
  {
   "cell_type": "raw",
   "metadata": {},
   "source": [
    "paragraphs = doc.paragraphs\n"
   ]
  },
  {
   "cell_type": "code",
   "execution_count": null,
   "metadata": {},
   "outputs": [],
   "source": [
    "8. What type of object has bold, underline, italic, strike, and outline variables?"
   ]
  },
  {
   "cell_type": "markdown",
   "metadata": {},
   "source": [
    "The type of object that typically has properties such as `bold`, `underline`, `italic`, `strike`, and `outline` is a text formatting object or structure. This can vary depending on the context or the programming library being used. However, in the context of document processing or word processing libraries, such properties are often associated with a text run or span.\n",
    "\n",
    "For example:\n",
    "\n",
    "- In python-docx (Python library for creating and updating Microsoft Word files), these properties are typically part of the `Run` object, which represents a run of text within a paragraph. The `Run` object has properties like `bold`, `underline`, `italic`, `strike`, and `outline`.\n",
    "- In Apache POI (Java library for working with Microsoft Office documents), these properties are typically part of the `XWPFRun` object, which also represents a run of text within a paragraph. The `XWPFRun` object has properties like `isBold`, `isUnderline`, `isItalic`, `isStrike`, and `isShadowed`.\n",
    "- In Open XML SDK (a library for working with Open XML documents), these properties are typically part of the `RunProperties` class, which is associated with the `Run` object. The `RunProperties` class has properties like `Bold`, `Underline`, `Italic`, `Strike`, and `Outline`.\n",
    "\n",
    "These examples illustrate how different libraries may name and structure the objects that contain properties for text formatting. It's important to consult the documentation of the specific library or framework you are using to understand the exact structure and naming conventions of the objects that hold text formatting properties."
   ]
  },
  {
   "cell_type": "markdown",
   "metadata": {},
   "source": [
    "9. What is the difference between False, True, and None for the bold variable?"
   ]
  },
  {
   "cell_type": "markdown",
   "metadata": {},
   "source": [
    "In many programming languages, including Python, `False`, `True`, and `None` are used to represent boolean values or logical states. When it comes to the `bold` variable, which typically represents the bold formatting of text, here's how these values are commonly interpreted:\n",
    "\n",
    "1. `False`: This typically represents that the text is not bold. When the `bold` variable is set to `False`, it means that the text should not be displayed in bold style.\n",
    "\n",
    "2. `True`: This typically represents that the text is bold. When the `bold` variable is set to `True`, it means that the text should be displayed in bold style.\n",
    "\n",
    "3. `None`: This typically represents an unspecified or undefined state for the `bold` variable. When the `bold` variable is set to `None`, it means that there is no explicit instruction regarding the bold formatting of the text. In some cases, it may mean that the default behavior or styling should be applied, depending on the specific library or context.\n",
    "\n",
    "It's worth noting that the specific interpretation of these values may vary depending on the programming language, library, or framework being used. It's always recommended to consult the documentation or guidelines of the specific tool or library you are working with for precise details on how these boolean values are handled in relation to the bold formatting of text."
   ]
  },
  {
   "cell_type": "markdown",
   "metadata": {},
   "source": [
    "10. How do you create a Document object for a new Word document?"
   ]
  },
  {
   "cell_type": "raw",
   "metadata": {},
   "source": [
    "from docx import Document\n",
    "\n",
    "doc = Document()  # Create a new Document object for a new Word document\n"
   ]
  },
  {
   "cell_type": "markdown",
   "metadata": {},
   "source": [
    "11. How do you add a paragraph with the text 'Hello, there!' to a Document object stored in a variable named doc?"
   ]
  },
  {
   "cell_type": "raw",
   "metadata": {},
   "source": [
    "from docx import Document\n",
    "\n",
    "doc = Document()  # Create a new Document object for a new Word document\n",
    "\n",
    "paragraph = doc.add_paragraph('Hello, there!')  # Add a paragraph with the text 'Hello, there!' to the document\n"
   ]
  },
  {
   "cell_type": "code",
   "execution_count": null,
   "metadata": {},
   "outputs": [],
   "source": [
    "12. What integers represent the levels of headings available in Word documents?"
   ]
  },
  {
   "cell_type": "raw",
   "metadata": {},
   "source": [
    "In Word documents, the levels of headings are typically represented using integer values. The specific range and interpretation of these integer values may vary depending on the context and the software used to work with Word documents. However, in many cases, the commonly recognized range for heading levels in Word documents is from 1 to 9.\n",
    "\n",
    "Here's a general mapping of the heading levels to their corresponding integer values:\n",
    "\n",
    "- Heading 1: Level 1\n",
    "- Heading 2: Level 2\n",
    "- Heading 3: Level 3\n",
    "- Heading 4: Level 4\n",
    "- Heading 5: Level 5\n",
    "- Heading 6: Level 6\n",
    "- Heading 7: Level 7\n",
    "- Heading 8: Level 8\n",
    "- Heading 9: Level 9\n",
    "\n",
    "These integer values are often used when working with APIs, libraries, or frameworks that provide programmatic access to Word documents. However, it's worth noting that the specific representation of heading levels can vary depending on the software or library being used. It's always recommended to refer to the documentation or guidelines of the specific tool or library for accurate and detailed information regarding the integer values associated with heading levels in Word documents."
   ]
  },
  {
   "cell_type": "code",
   "execution_count": null,
   "metadata": {},
   "outputs": [],
   "source": []
  }
 ],
 "metadata": {
  "kernelspec": {
   "display_name": "Python 3",
   "language": "python",
   "name": "python3"
  },
  "language_info": {
   "codemirror_mode": {
    "name": "ipython",
    "version": 3
   },
   "file_extension": ".py",
   "mimetype": "text/x-python",
   "name": "python",
   "nbconvert_exporter": "python",
   "pygments_lexer": "ipython3",
   "version": "3.8.3"
  }
 },
 "nbformat": 4,
 "nbformat_minor": 4
}
