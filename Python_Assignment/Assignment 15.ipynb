{
 "cells": [
  {
   "cell_type": "markdown",
   "metadata": {},
   "source": [
    "1.How many seconds are in an hour? Use the interactive interpreter as a calculator and multiply the number of seconds in a minute (60) by the number of minutes in an hour (also 60).\n",
    "sol. 60 "
   ]
  },
  {
   "cell_type": "code",
   "execution_count": 1,
   "metadata": {},
   "outputs": [
    {
     "name": "stdout",
     "output_type": "stream",
     "text": [
      "3600\n"
     ]
    }
   ],
   "source": [
    "seconds_in_minute = 60\n",
    "minutes_in_hour = 60\n",
    "\n",
    "seconds_in_hour = seconds_in_minute * minutes_in_hour\n",
    "\n",
    "print(seconds_in_hour)\n"
   ]
  },
  {
   "cell_type": "markdown",
   "metadata": {},
   "source": [
    "2. Assign the result from the previous task (seconds in an hour) to a variable called seconds_per_hour"
   ]
  },
  {
   "cell_type": "code",
   "execution_count": 3,
   "metadata": {},
   "outputs": [
    {
     "name": "stdout",
     "output_type": "stream",
     "text": [
      "3600\n"
     ]
    }
   ],
   "source": [
    "seconds_in_minute = 60\n",
    "minutes_in_hour = 60\n",
    "\n",
    "seconds_per_hour = seconds_in_minute * minutes_in_hour\n",
    "\n",
    "print(seconds_per_hour)\n"
   ]
  },
  {
   "cell_type": "code",
   "execution_count": null,
   "metadata": {},
   "outputs": [],
   "source": [
    "3. How many seconds do you think there are in a day? Make use of the variables seconds per hour and minutes per hour."
   ]
  },
  {
   "cell_type": "raw",
   "metadata": {},
   "source": [
    "To calculate the number of seconds in a day using the variables `seconds_per_hour` and `minutes_in_hour`, you can multiply the `seconds_per_hour` variable by the number of hours in a day (24). Here's the Python code to accomplish this:\n",
    "\n",
    "```python\n",
    "seconds_per_hour = 3600\n",
    "hours_in_day = 24\n",
    "\n",
    "seconds_in_day = seconds_per_hour * hours_in_day\n",
    "\n",
    "print(seconds_in_day)\n",
    "```\n",
    "\n",
    "When you run this code, the output will be:\n",
    "\n",
    "```\n",
    "86400\n",
    "```\n",
    "\n",
    "Therefore, there are 86,400 seconds in a day."
   ]
  },
  {
   "cell_type": "markdown",
   "metadata": {},
   "source": [
    "4. Calculate seconds per day again, but this time save the result in a variable called seconds_per_day"
   ]
  },
  {
   "cell_type": "raw",
   "metadata": {},
   "source": [
    "seconds_per_hour = 3600\n",
    "hours_in_day = 24\n",
    "\n",
    "seconds_per_day = seconds_per_hour * hours_in_day\n",
    "\n",
    "print(seconds_per_day)\n"
   ]
  },
  {
   "cell_type": "markdown",
   "metadata": {},
   "source": [
    "5. Divide seconds_per_day by seconds_per_hour. Use floating-point (/) division."
   ]
  },
  {
   "cell_type": "code",
   "execution_count": 5,
   "metadata": {},
   "outputs": [
    {
     "name": "stdout",
     "output_type": "stream",
     "text": [
      "24.0\n"
     ]
    }
   ],
   "source": [
    "seconds_per_day = 86400\n",
    "seconds_per_hour = 3600\n",
    "\n",
    "result = seconds_per_day / seconds_per_hour\n",
    "\n",
    "print(result)\n"
   ]
  },
  {
   "cell_type": "markdown",
   "metadata": {},
   "source": [
    "6. Divide seconds_per_day by seconds_per_hour, using integer (//) division. Did this number agree with the floating-point value from the previous question, aside from the final .0?"
   ]
  },
  {
   "cell_type": "raw",
   "metadata": {},
   "source": [
    "Let's assume `seconds_per_day` is 86400 (the number of seconds in a day) and `seconds_per_hour` is 3600 (the number of seconds in an hour).\n",
    "\n",
    "Using integer division (`//`), let's divide `seconds_per_day` by `seconds_per_hour`:\n",
    "\n",
    "```\n",
    "result = seconds_per_day // seconds_per_hour\n",
    "```\n",
    "\n",
    "Calculating the result:\n",
    "\n",
    "```\n",
    "result = 86400 // 3600\n",
    "       = 24\n",
    "```\n",
    "\n",
    "The result is 24.\n",
    "\n",
    "Now, let's compare this with the floating-point value from the previous question. If the previous question's floating-point value was 24.0, then the two values agree aside from the final `.0`."
   ]
  },
  {
   "cell_type": "code",
   "execution_count": null,
   "metadata": {},
   "outputs": [],
   "source": []
  },
  {
   "cell_type": "markdown",
   "metadata": {},
   "source": [
    "7. Write a generator, genPrimes, that returns the sequence of prime numbers on successive calls to its next() method: 2, 3, 5, 7, 11, ..."
   ]
  },
  {
   "cell_type": "code",
   "execution_count": 6,
   "metadata": {},
   "outputs": [],
   "source": [
    "def genPrimes():\n",
    "    primes = []  # List to store prime numbers\n",
    "    num = 2  # Start checking from 2\n",
    "    \n",
    "    while True:\n",
    "        # Check if num is prime\n",
    "        is_prime = True\n",
    "        for prime in primes:\n",
    "            if num % prime == 0:\n",
    "                is_prime = False\n",
    "                break\n",
    "        \n",
    "        if is_prime:\n",
    "            primes.append(num)\n",
    "            yield num\n",
    "        \n",
    "        num += 1\n"
   ]
  },
  {
   "cell_type": "code",
   "execution_count": 7,
   "metadata": {},
   "outputs": [
    {
     "name": "stdout",
     "output_type": "stream",
     "text": [
      "2\n",
      "3\n",
      "5\n",
      "7\n",
      "11\n"
     ]
    }
   ],
   "source": [
    "prime_generator = genPrimes()\n",
    "\n",
    "print(next(prime_generator))  # Output: 2\n",
    "print(next(prime_generator))  # Output: 3\n",
    "print(next(prime_generator))  # Output: 5\n",
    "print(next(prime_generator))  # Output: 7\n",
    "print(next(prime_generator))  # Output: 11\n",
    "# And so on...\n"
   ]
  },
  {
   "cell_type": "code",
   "execution_count": null,
   "metadata": {},
   "outputs": [],
   "source": []
  }
 ],
 "metadata": {
  "kernelspec": {
   "display_name": "Python 3",
   "language": "python",
   "name": "python3"
  },
  "language_info": {
   "codemirror_mode": {
    "name": "ipython",
    "version": 3
   },
   "file_extension": ".py",
   "mimetype": "text/x-python",
   "name": "python",
   "nbconvert_exporter": "python",
   "pygments_lexer": "ipython3",
   "version": "3.8.3"
  }
 },
 "nbformat": 4,
 "nbformat_minor": 4
}
