{
  "nbformat": 4,
  "nbformat_minor": 0,
  "metadata": {
    "colab": {
      "provenance": []
    },
    "kernelspec": {
      "name": "python3",
      "display_name": "Python 3"
    },
    "language_info": {
      "name": "python"
    }
  },
  "cells": [
    {
      "cell_type": "code",
      "execution_count": null,
      "metadata": {
        "id": "WDVYWeqaFMCb"
      },
      "outputs": [],
      "source": [
        "1. What is the result of the code, and explain?\n",
        "\n",
        ">>>X = iNeuron;\n",
        "\n",
        ">>>def func():\n",
        ">>>print(X)\n",
        "\n",
        ">>> func()"
      ]
    },
    {
      "cell_type": "code",
      "source": [
        "iNeuron"
      ],
      "metadata": {
        "id": "dCpJWmcaFRXp"
      },
      "execution_count": null,
      "outputs": []
    },
    {
      "cell_type": "code",
      "source": [
        "2. What is the result of the code, and explain?\n",
        "X = 'iNeuron';\n",
        "def func():\n",
        "  X = 'NI!'\n",
        "\n",
        "\n",
        "func()\n",
        "print(X)"
      ],
      "metadata": {
        "colab": {
          "base_uri": "https://localhost:8080/"
        },
        "id": "eF9tRvjyFRcc",
        "outputId": "032c6042-ad62-4c4f-8a58-8af9942ae720"
      },
      "execution_count": 2,
      "outputs": [
        {
          "output_type": "stream",
          "name": "stdout",
          "text": [
            "Object `explain` not found.\n",
            "iNeuron\n"
          ]
        }
      ]
    },
    {
      "cell_type": "code",
      "source": [
        "3. What is the result of the code, and explain?\n"
      ],
      "metadata": {
        "id": "7ye6opFhFRd8"
      },
      "execution_count": null,
      "outputs": []
    },
    {
      "cell_type": "code",
      "source": [
        "X = 'iNeuron';\n",
        "def func():\n",
        "  X = 'NI'\n",
        "  print(X)\n",
        "\n",
        "func()\n",
        "print(X)"
      ],
      "metadata": {
        "colab": {
          "base_uri": "https://localhost:8080/"
        },
        "id": "ThKeZMH7FRgA",
        "outputId": "3d999ed3-fc89-4f3e-df9a-4f563c883430"
      },
      "execution_count": 6,
      "outputs": [
        {
          "output_type": "stream",
          "name": "stdout",
          "text": [
            "NI\n",
            "iNeuron\n"
          ]
        }
      ]
    },
    {
      "cell_type": "code",
      "source": [
        "4. What output does this code produce? Why?"
      ],
      "metadata": {
        "id": "l9ESNkjLFRi6"
      },
      "execution_count": null,
      "outputs": []
    },
    {
      "cell_type": "code",
      "source": [
        "X = 'iNeuron'\n",
        "def func():\n",
        "  global X\n",
        "  X = 'NI'\n",
        "\n",
        "func()\n",
        "print(X)"
      ],
      "metadata": {
        "colab": {
          "base_uri": "https://localhost:8080/"
        },
        "id": "D04SgdUbFRlz",
        "outputId": "b557faa8-aca1-4b73-d2c4-4fd2a662ec79"
      },
      "execution_count": 7,
      "outputs": [
        {
          "output_type": "stream",
          "name": "stdout",
          "text": [
            "NI\n"
          ]
        }
      ]
    },
    {
      "cell_type": "code",
      "source": [
        "5. What about this code—what’s the output, and why?"
      ],
      "metadata": {
        "id": "H4OBaC0jFRoq"
      },
      "execution_count": null,
      "outputs": []
    },
    {
      "cell_type": "code",
      "source": [
        "X = 'iNeuron'\n",
        "def func():\n",
        "  X = 'NI'\n",
        "  def nested():\n",
        "    print(X)\n",
        "    nested()\n",
        "\n",
        "func()\n",
        "X"
      ],
      "metadata": {
        "colab": {
          "base_uri": "https://localhost:8080/",
          "height": 36
        },
        "id": "s_41RU0SFRrq",
        "outputId": "c59df209-32e2-4ae5-c850-b9c2d775ab69"
      },
      "execution_count": 10,
      "outputs": [
        {
          "output_type": "execute_result",
          "data": {
            "text/plain": [
              "'iNeuron'"
            ],
            "application/vnd.google.colaboratory.intrinsic+json": {
              "type": "string"
            }
          },
          "metadata": {},
          "execution_count": 10
        }
      ]
    },
    {
      "cell_type": "code",
      "source": [
        "6. How about this code: what is its output in Python 3, and explain?\n",
        "\n",
        "def func():\n",
        "  X = 'NI'\n",
        "  def nested():\n",
        "    nonlocal X\n",
        "    X = 'Spam'\n",
        "  print(X)\n",
        "\n",
        "func()"
      ],
      "metadata": {
        "colab": {
          "base_uri": "https://localhost:8080/"
        },
        "id": "5xVbSYWcFRuc",
        "outputId": "26ba7472-8265-4d5d-a0eb-9c16ef530319"
      },
      "execution_count": 12,
      "outputs": [
        {
          "output_type": "stream",
          "name": "stdout",
          "text": [
            "Object `explain` not found.\n",
            "NI\n"
          ]
        }
      ]
    },
    {
      "cell_type": "code",
      "source": [],
      "metadata": {
        "id": "V1A3YrLxFRx1"
      },
      "execution_count": null,
      "outputs": []
    }
  ]
}