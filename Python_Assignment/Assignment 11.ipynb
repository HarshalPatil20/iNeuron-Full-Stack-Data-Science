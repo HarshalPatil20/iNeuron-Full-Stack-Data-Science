{
 "cells": [
  {
   "cell_type": "markdown",
   "metadata": {},
   "source": [
    "1.Create an assert statement that throws an AssertionError if the variable spam is a negative integer."
   ]
  },
  {
   "cell_type": "code",
   "execution_count": 1,
   "metadata": {},
   "outputs": [
    {
     "ename": "AssertionError",
     "evalue": "spam must be a non-negative integer",
     "output_type": "error",
     "traceback": [
      "\u001b[1;31m---------------------------------------------------------------------------\u001b[0m",
      "\u001b[1;31mAssertionError\u001b[0m                            Traceback (most recent call last)",
      "\u001b[1;32m<ipython-input-1-de7d77a5bddd>\u001b[0m in \u001b[0;36m<module>\u001b[1;34m\u001b[0m\n\u001b[0;32m      1\u001b[0m \u001b[0mspam\u001b[0m \u001b[1;33m=\u001b[0m \u001b[1;33m-\u001b[0m\u001b[1;36m5\u001b[0m\u001b[1;33m\u001b[0m\u001b[1;33m\u001b[0m\u001b[0m\n\u001b[0;32m      2\u001b[0m \u001b[1;33m\u001b[0m\u001b[0m\n\u001b[1;32m----> 3\u001b[1;33m \u001b[1;32massert\u001b[0m \u001b[0mspam\u001b[0m \u001b[1;33m>=\u001b[0m \u001b[1;36m0\u001b[0m\u001b[1;33m,\u001b[0m \u001b[1;34m\"spam must be a non-negative integer\"\u001b[0m\u001b[1;33m\u001b[0m\u001b[1;33m\u001b[0m\u001b[0m\n\u001b[0m",
      "\u001b[1;31mAssertionError\u001b[0m: spam must be a non-negative integer"
     ]
    }
   ],
   "source": [
    "spam = -5\n",
    "\n",
    "assert spam >= 0, \"spam must be a non-negative integer\"\n"
   ]
  },
  {
   "cell_type": "markdown",
   "metadata": {},
   "source": [
    " Write an assert statement that triggers an AssertionError if the variables eggs and bacon contain strings that are the same as each other, even if their cases are different (that is, 'hello' and 'hello' are considered the same, and 'goodbye' and 'GOODbye' are also considered the same)."
   ]
  },
  {
   "cell_type": "code",
   "execution_count": 2,
   "metadata": {},
   "outputs": [
    {
     "ename": "AssertionError",
     "evalue": "eggs and bacon cannot be the same",
     "output_type": "error",
     "traceback": [
      "\u001b[1;31m---------------------------------------------------------------------------\u001b[0m",
      "\u001b[1;31mAssertionError\u001b[0m                            Traceback (most recent call last)",
      "\u001b[1;32m<ipython-input-2-ded55906efaa>\u001b[0m in \u001b[0;36m<module>\u001b[1;34m\u001b[0m\n\u001b[0;32m      5\u001b[0m \u001b[0mbacon\u001b[0m \u001b[1;33m=\u001b[0m \u001b[1;34m\"hello\"\u001b[0m\u001b[1;33m\u001b[0m\u001b[1;33m\u001b[0m\u001b[0m\n\u001b[0;32m      6\u001b[0m \u001b[1;33m\u001b[0m\u001b[0m\n\u001b[1;32m----> 7\u001b[1;33m \u001b[1;32massert\u001b[0m \u001b[0meggs\u001b[0m\u001b[1;33m.\u001b[0m\u001b[0mlower\u001b[0m\u001b[1;33m(\u001b[0m\u001b[1;33m)\u001b[0m \u001b[1;33m!=\u001b[0m \u001b[0mbacon\u001b[0m\u001b[1;33m.\u001b[0m\u001b[0mlower\u001b[0m\u001b[1;33m(\u001b[0m\u001b[1;33m)\u001b[0m\u001b[1;33m,\u001b[0m \u001b[1;34m\"eggs and bacon cannot be the same\"\u001b[0m\u001b[1;33m\u001b[0m\u001b[1;33m\u001b[0m\u001b[0m\n\u001b[0m\u001b[0;32m      8\u001b[0m \u001b[1;33m\u001b[0m\u001b[0m\n\u001b[0;32m      9\u001b[0m \u001b[1;33m\u001b[0m\u001b[0m\n",
      "\u001b[1;31mAssertionError\u001b[0m: eggs and bacon cannot be the same"
     ]
    }
   ],
   "source": [
    "#To create an assert statement that triggers an AssertionError if the variables `eggs` and `bacon` contain strings that are the same, regardless of their case, you can use the `lower()` method to convert both strings to lowercase and then compare them. Here's an example:\n",
    "\n",
    "\n",
    "eggs = \"Hello\"\n",
    "bacon = \"hello\"\n",
    "\n",
    "assert eggs.lower() != bacon.lower(), \"eggs and bacon cannot be the same\"\n",
    "\n",
    "\n",
    "#In this example, the `lower()` method is used to convert both `eggs` and `bacon` to lowercase before comparing them. If the lowercase versions of the strings are the same, the assertion fails and an AssertionError is raised with the provided error message.\n",
    "\n",
    "#Note that `lower()` is just one way to handle case-insensitive comparison. You can also use `casefold()` or `upper()` methods, depending on your specific requirements."
   ]
  },
  {
   "cell_type": "markdown",
   "metadata": {},
   "source": [
    "Create an assert statement that throws an AssertionError every time."
   ]
  },
  {
   "cell_type": "code",
   "execution_count": 3,
   "metadata": {},
   "outputs": [
    {
     "ename": "AssertionError",
     "evalue": "This assert statement always throws an AssertionError",
     "output_type": "error",
     "traceback": [
      "\u001b[1;31m---------------------------------------------------------------------------\u001b[0m",
      "\u001b[1;31mAssertionError\u001b[0m                            Traceback (most recent call last)",
      "\u001b[1;32m<ipython-input-3-31d9cdbc5b7e>\u001b[0m in \u001b[0;36m<module>\u001b[1;34m\u001b[0m\n\u001b[0;32m      2\u001b[0m \u001b[1;33m\u001b[0m\u001b[0m\n\u001b[0;32m      3\u001b[0m \u001b[1;33m\u001b[0m\u001b[0m\n\u001b[1;32m----> 4\u001b[1;33m \u001b[1;32massert\u001b[0m \u001b[1;32mFalse\u001b[0m\u001b[1;33m,\u001b[0m \u001b[1;34m\"This assert statement always throws an AssertionError\"\u001b[0m\u001b[1;33m\u001b[0m\u001b[1;33m\u001b[0m\u001b[0m\n\u001b[0m\u001b[0;32m      5\u001b[0m \u001b[1;33m\u001b[0m\u001b[0m\n\u001b[0;32m      6\u001b[0m \u001b[1;33m\u001b[0m\u001b[0m\n",
      "\u001b[1;31mAssertionError\u001b[0m: This assert statement always throws an AssertionError"
     ]
    }
   ],
   "source": [
    "#To create an assert statement that throws an AssertionError every time, you can simply use the `assert` keyword without any condition. This will always evaluate to False and trigger an AssertionError. Here's an example:\n",
    "\n",
    "\n",
    "assert False, \"This assert statement always throws an AssertionError\"\n",
    "\n",
    "\n",
    "#In this example, the assert statement has a condition of `False`, which is always false. As a result, an AssertionError is raised with the provided error message. This can be useful for debugging or for indicating that a specific block of code should never be reached."
   ]
  },
  {
   "cell_type": "markdown",
   "metadata": {},
   "source": [
    "What are the two lines that must be present in your software in order to call logging.debug()?"
   ]
  },
  {
   "cell_type": "code",
   "execution_count": 4,
   "metadata": {},
   "outputs": [],
   "source": [
    "import logging\n",
    "logging.basicConfig(level=logging.DEBUG)\n"
   ]
  },
  {
   "cell_type": "markdown",
   "metadata": {},
   "source": [
    "The first line import logging imports the logging module, which provides the logging functionality in Python.\n",
    "\n",
    "The second line logging.basicConfig(level=logging.DEBUG) configures the logging module to enable logging at the DEBUG level. This line sets up the basic configuration for the logging module, including the logging level. By setting the level to logging.DEBUG, it ensures that logging.debug() calls will be processed and logged.\n",
    "\n",
    "You can place these two lines at the beginning of your script or module, typically after importing other necessary modules. Once these lines are present, you can use logging.debug() to log debug-level messages in your software."
   ]
  },
  {
   "cell_type": "code",
   "execution_count": null,
   "metadata": {},
   "outputs": [],
   "source": []
  },
  {
   "cell_type": "markdown",
   "metadata": {},
   "source": [
    "5. What are the two lines that your program must have in order to have logging.debug() send a logging message to a file named programLog.txt?"
   ]
  },
  {
   "cell_type": "code",
   "execution_count": 5,
   "metadata": {},
   "outputs": [],
   "source": [
    "import logging\n",
    "\n",
    "logging.basicConfig(filename='programLog.txt', level=logging.DEBUG)\n"
   ]
  },
  {
   "cell_type": "markdown",
   "metadata": {},
   "source": [
    "6. What are the five levels of logging?"
   ]
  },
  {
   "cell_type": "markdown",
   "metadata": {},
   "source": [
    "The logging module in Python provides five levels of logging, listed below in increasing order of severity:\n",
    "\n",
    "1. DEBUG: The lowest level of logging used for detailed debugging information. Typically used during development to track the flow of the program and inspect variable values.\n",
    "\n",
    "2. INFO: A general level of logging used to confirm that things are working as expected. It provides informational messages about the progress of the program.\n",
    "\n",
    "3. WARNING: Indicates potential issues or unexpected situations that do not necessarily cause the program to fail but may require attention. It is used to highlight non-critical problems.\n",
    "\n",
    "4. ERROR: Indicates errors that cause a function or operation to fail. It is used to report significant failures or exceptions that impact the program's execution.\n",
    "\n",
    "5. CRITICAL: The highest level of logging used to indicate critical errors or failures that may result in the termination of the program. It represents severe issues that require immediate attention.\n",
    "\n",
    "These levels allow developers to control the verbosity and granularity of log messages, enabling them to focus on specific areas of interest during debugging and troubleshooting."
   ]
  },
  {
   "cell_type": "markdown",
   "metadata": {},
   "source": [
    "7. What line of code would you add to your software to disable all logging messages?"
   ]
  },
  {
   "cell_type": "code",
   "execution_count": 6,
   "metadata": {},
   "outputs": [],
   "source": [
    "logging.disable(logging.CRITICAL)\n"
   ]
  },
  {
   "cell_type": "markdown",
   "metadata": {},
   "source": [
    "8.Why is using logging messages better than using print() to display the same message?"
   ]
  },
  {
   "cell_type": "raw",
   "metadata": {},
   "source": [
    "Using logging messages is generally better than using `print()` statements for displaying messages in a software application for the following reasons:\n",
    "\n",
    "1. Granular control: Logging provides different levels of severity (DEBUG, INFO, WARNING, ERROR, CRITICAL) that allow you to control the verbosity of the messages. This flexibility allows you to enable or disable specific levels of logging based on your needs. With `print()` statements, it can be more cumbersome to control the level of detail displayed.\n",
    "\n",
    "2. Configurability: The logging module allows you to configure the output destination of log messages, such as writing to a file, sending them to the console, or even sending them to a remote server. This configurability makes it easier to collect and analyze logs for debugging and monitoring purposes. In contrast, `print()` statements are typically output to the console and require manual handling for capturing or redirecting the output.\n",
    "\n",
    "3. Formatting and Timestamps: Logging messages provide built-in support for formatting log messages, including timestamps, which can be helpful for understanding the sequence and timing of events. With `print()` statements, you would need to manually format and add timestamps to achieve the same result.\n",
    "\n",
    "4. Compatibility with libraries and frameworks: Many libraries and frameworks integrate with the logging module, allowing you to capture their log messages along with your own application's logs. This unified logging approach helps in troubleshooting and understanding the overall system behavior. `print()` statements, on the other hand, are specific to your code and may not easily integrate with external libraries or frameworks.\n",
    "\n",
    "5. Performance: In production environments, logging can be more efficient than using `print()` statements. The logging module is optimized for performance and provides ways to handle and control the volume of log messages efficiently. In contrast, `print()` statements can introduce additional overhead and may not be as optimized for large-scale logging.\n",
    "\n",
    "Overall, using logging messages instead of `print()` statements provides more control, configurability, and compatibility, making it a better choice for capturing and managing application logs in a professional software development context."
   ]
  },
  {
   "cell_type": "markdown",
   "metadata": {},
   "source": [
    "9. What are the differences between the Step Over, Step In, and Step Out buttons in the debugger?"
   ]
  },
  {
   "cell_type": "raw",
   "metadata": {},
   "source": [
    "The Step Over, Step In, and Step Out buttons are commonly found in debuggers and are used to control program execution during debugging. Here are the differences between these three debugging actions:\n",
    "\n",
    "1. Step Over: The Step Over button allows you to execute the current line of code and move to the next line without stepping into any function or method calls on that line. If the current line contains a function or method call, the debugger will execute the entire call and move to the next line in the current scope. It is useful for quickly advancing through the code without delving into the details of function or method implementations.\n",
    "\n",
    "2. Step In: The Step In button allows you to step into a function or method call on the current line, pausing the debugger at the first line of the called function or method. It enables you to dive into the implementation details of the called function and debug it separately. This is helpful when you want to examine the behavior or variables within a specific function call.\n",
    "\n",
    "3. Step Out: The Step Out button is used to execute the remaining lines of the current function or method and return to the calling scope. It allows you to quickly exit the current function or method and move back to the caller. This is useful when you have stepped into a function or method using Step In and want to return to the higher-level context without stepping through each line of the called function.\n",
    "\n",
    "In summary, Step Over executes the current line and moves to the next line, Step In dives into a function or method call, and Step Out executes the remaining lines of the current function or method and returns to the calling scope. These debugging actions provide control over the flow of execution during the debugging process, enabling you to analyze code behavior and track down issues."
   ]
  },
  {
   "cell_type": "markdown",
   "metadata": {},
   "source": [
    "10.After you click Continue, when will the debugger stop ?"
   ]
  },
  {
   "cell_type": "raw",
   "metadata": {},
   "source": [
    "After clicking the Continue button in a debugger, the debugger will stop when one of the following conditions is met:\n",
    "\n",
    "1. The program execution reaches a breakpoint: If you have set breakpoints at specific lines of code, the debugger will halt when the program reaches any of those breakpoints. Breakpoints allow you to pause program execution at specific points to inspect variables, step through code, or analyze the program's state.\n",
    "\n",
    "2. An exception or error occurs: If an unhandled exception or error occurs during program execution, the debugger will stop and display an error message. This allows you to examine the exception details and traceback to understand the cause of the error.\n",
    "\n",
    "3. The program completes execution: If the program reaches its end without encountering any breakpoints or exceptions, the debugger will stop, indicating that the program has completed.\n",
    "\n",
    "It's important to note that the behavior of the debugger may vary depending on the specific debugger and its configuration. However, these are the common scenarios when the debugger will stop after clicking the Continue button."
   ]
  },
  {
   "cell_type": "markdown",
   "metadata": {},
   "source": [
    "11. What is the concept of a breakpoint?"
   ]
  },
  {
   "cell_type": "raw",
   "metadata": {},
   "source": [
    "In the context of debugging, a breakpoint is a designated point in your code where the debugger pauses program execution, allowing you to inspect variables, step through code, and analyze the program's state at that specific location. It is a fundamental tool for interactive debugging and helps in identifying and fixing issues in your code.\n",
    "\n",
    "When you set a breakpoint, it acts as a marker or trigger that tells the debugger to pause program execution at that particular line or statement. Once the breakpoint is reached during program execution, the debugger takes control and allows you to interactively examine the program's state and step through the code one line at a time.\n",
    "\n",
    "Breakpoints are typically set by developers at specific lines of interest, such as before or after a problematic section of code, within loops, or at critical decision points. They provide an opportunity to inspect variables, evaluate expressions, and understand the behavior of the program at a granular level.\n",
    "\n",
    "During a debugging session, breakpoints can be added, modified, or removed as needed. Most debuggers provide an interactive interface where you can manage breakpoints and control program execution.\n",
    "\n",
    "Setting breakpoints effectively can greatly assist in identifying and resolving issues within your code by providing a controlled environment for analysis and troubleshooting. It allows you to observe the program's behavior at specific points and gain insights into how the code is executing."
   ]
  },
  {
   "cell_type": "code",
   "execution_count": null,
   "metadata": {},
   "outputs": [],
   "source": []
  }
 ],
 "metadata": {
  "kernelspec": {
   "display_name": "Python 3",
   "language": "python",
   "name": "python3"
  },
  "language_info": {
   "codemirror_mode": {
    "name": "ipython",
    "version": 3
   },
   "file_extension": ".py",
   "mimetype": "text/x-python",
   "name": "python",
   "nbconvert_exporter": "python",
   "pygments_lexer": "ipython3",
   "version": "3.8.3"
  }
 },
 "nbformat": 4,
 "nbformat_minor": 4
}
