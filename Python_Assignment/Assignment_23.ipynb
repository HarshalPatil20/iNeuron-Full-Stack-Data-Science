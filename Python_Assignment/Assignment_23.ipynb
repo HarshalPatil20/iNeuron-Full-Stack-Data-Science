{
  "nbformat": 4,
  "nbformat_minor": 0,
  "metadata": {
    "colab": {
      "provenance": []
    },
    "kernelspec": {
      "name": "python3",
      "display_name": "Python 3"
    },
    "language_info": {
      "name": "python"
    }
  },
  "cells": [
    {
      "cell_type": "code",
      "execution_count": null,
      "metadata": {
        "id": "E40kWBeLH90R"
      },
      "outputs": [],
      "source": [
        "1. What is the result of the code, and why?"
      ]
    },
    {
      "cell_type": "code",
      "source": [
        "def func(a, b=6, c=8):\n",
        "  print(a, b, c)\n",
        "\n",
        "func(1, 2)"
      ],
      "metadata": {
        "colab": {
          "base_uri": "https://localhost:8080/"
        },
        "id": "okprI4meICaS",
        "outputId": "cd5babb4-7324-4c66-fdbd-cb0767ede3c8"
      },
      "execution_count": 1,
      "outputs": [
        {
          "output_type": "stream",
          "name": "stdout",
          "text": [
            "1 2 8\n"
          ]
        }
      ]
    },
    {
      "cell_type": "code",
      "source": [
        "2. What is the result of this code, and why?"
      ],
      "metadata": {
        "id": "5vKIRsvqICfT"
      },
      "execution_count": null,
      "outputs": []
    },
    {
      "cell_type": "code",
      "source": [
        "def func(a, b, c=5):\n",
        "  print(a, b, c)\n",
        "\n",
        "func(1, c=3, b=2)"
      ],
      "metadata": {
        "colab": {
          "base_uri": "https://localhost:8080/"
        },
        "id": "WZyvyN3gICgy",
        "outputId": "4f6769fd-4cea-4c95-9e6f-7e8ad7fe6588"
      },
      "execution_count": 2,
      "outputs": [
        {
          "output_type": "stream",
          "name": "stdout",
          "text": [
            "1 2 3\n"
          ]
        }
      ]
    },
    {
      "cell_type": "code",
      "source": [
        "3. How about this code: what is its result, and why?"
      ],
      "metadata": {
        "id": "ORo2NpQIICif"
      },
      "execution_count": null,
      "outputs": []
    },
    {
      "cell_type": "code",
      "source": [
        "def func(a, *pargs):\n",
        "  print(a, pargs)\n",
        "\n",
        "\n",
        "func(1, 2, 3)"
      ],
      "metadata": {
        "colab": {
          "base_uri": "https://localhost:8080/"
        },
        "id": "eUV-5a5CIClC",
        "outputId": "f01cd789-bd67-448c-8b06-68c084d2cab4"
      },
      "execution_count": 3,
      "outputs": [
        {
          "output_type": "stream",
          "name": "stdout",
          "text": [
            "1 (2, 3)\n"
          ]
        }
      ]
    },
    {
      "cell_type": "code",
      "source": [
        "4. What does this code print, and why?"
      ],
      "metadata": {
        "id": "kZUh6H-nICoj"
      },
      "execution_count": null,
      "outputs": []
    },
    {
      "cell_type": "code",
      "source": [
        "def func(a, **kargs):\n",
        "  print(a, kargs)\n",
        "\n",
        "func(a=1, c=3, b=2)"
      ],
      "metadata": {
        "colab": {
          "base_uri": "https://localhost:8080/"
        },
        "id": "bsKVaGxwIaAI",
        "outputId": "38dad198-caee-48bc-9967-a16f021fb15a"
      },
      "execution_count": 4,
      "outputs": [
        {
          "output_type": "stream",
          "name": "stdout",
          "text": [
            "1 {'c': 3, 'b': 2}\n"
          ]
        }
      ]
    },
    {
      "cell_type": "code",
      "source": [
        "5. What gets printed by this, and explain?"
      ],
      "metadata": {
        "id": "f2UWwYGuIaFz"
      },
      "execution_count": null,
      "outputs": []
    },
    {
      "cell_type": "code",
      "source": [
        "def func(a, b, c=8, d=5): print(a, b, c, d)\n",
        "\n",
        "func(1, *(5, 6))"
      ],
      "metadata": {
        "colab": {
          "base_uri": "https://localhost:8080/"
        },
        "id": "UCpac0kQIaHs",
        "outputId": "c6e7d983-4930-4eb5-c02b-058bfdf080ae"
      },
      "execution_count": 5,
      "outputs": [
        {
          "output_type": "stream",
          "name": "stdout",
          "text": [
            "1 5 6 5\n"
          ]
        }
      ]
    },
    {
      "cell_type": "code",
      "source": [
        "6. what is the result of this, and explain?"
      ],
      "metadata": {
        "id": "NNP3SLNsIaJf"
      },
      "execution_count": null,
      "outputs": []
    },
    {
      "cell_type": "code",
      "source": [
        "def func(a, b, c): a = 2; b[0] = 'x' c['a']='Y'\n",
        "l=1; m=[1]; n={&#39;a&#39;:0}\n",
        "\n",
        "func(l, m, n)\n",
        "l, m, n"
      ],
      "metadata": {
        "id": "G2C5L3sDIaLt"
      },
      "execution_count": null,
      "outputs": []
    }
  ]
}