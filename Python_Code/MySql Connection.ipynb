{
 "cells": [
  {
   "cell_type": "code",
   "execution_count": 4,
   "metadata": {},
   "outputs": [
    {
     "name": "stdout",
     "output_type": "stream",
     "text": [
      "<mysql.connector.connection_cext.CMySQLConnection object at 0x0000029686B12D30>\n"
     ]
    }
   ],
   "source": [
    "import mysql.connector as Conn \n",
    "mydb = Conn.connect(host = \"localhost\" , user = \"root\" , passwd= \"Harshal@1999\",)\n",
    "print(mydb)\n",
    " \n"
   ]
  },
  {
   "cell_type": "code",
   "execution_count": 5,
   "metadata": {},
   "outputs": [],
   "source": [
    "cursor = mydb.cursor()\n",
    "#cursor.execute(\"create database Harshal\")\n",
    "cursor.execute(\"show databases\")\n",
    "\n",
    "#print(cursor.fetchall()) "
   ]
  },
  {
   "cell_type": "code",
   "execution_count": 6,
   "metadata": {},
   "outputs": [],
   "source": [
    "#s=\"create table harshal.ineuron(employee_id int, name varchar(18), mail_id varchar, salary int)\"\n",
    "#cursor.execute(s)\n",
    "#print(cursor.fetchall())"
   ]
  },
  {
   "cell_type": "code",
   "execution_count": null,
   "metadata": {},
   "outputs": [],
   "source": [
    "mport csv\n",
    "import MySQLdb\n",
    "\n",
    "mydb = MySQLdb.connect(host='localhost',\n",
    "    user='root',\n",
    "    passwd='',\n",
    "    db='mydb')\n",
    "cursor = mydb.cursor()\n",
    "\n",
    "csv_data = csv.reader(file('students.csv'))\n",
    "for row in csv_data:\n",
    "\n",
    "    cursor.execute('INSERT INTO testcsv(names, \\\n",
    "          classes, mark )' \\\n",
    "          'VALUES(\"%s\", \"%s\", \"%s\")', \n",
    "          row)\n",
    "#close the connection to the database.\n",
    "mydb.commit()\n",
    "cursor.close()\n",
    "print \"Done\""
   ]
  }
 ],
 "metadata": {
  "kernelspec": {
   "display_name": "Python 3",
   "language": "python",
   "name": "python3"
  },
  "language_info": {
   "codemirror_mode": {
    "name": "ipython",
    "version": 3
   },
   "file_extension": ".py",
   "mimetype": "text/x-python",
   "name": "python",
   "nbconvert_exporter": "python",
   "pygments_lexer": "ipython3",
   "version": "3.8.3"
  }
 },
 "nbformat": 4,
 "nbformat_minor": 4
}
