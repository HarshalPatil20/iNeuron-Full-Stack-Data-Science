{
  "nbformat": 4,
  "nbformat_minor": 0,
  "metadata": {
    "colab": {
      "provenance": []
    },
    "kernelspec": {
      "name": "python3",
      "display_name": "Python 3"
    },
    "language_info": {
      "name": "python"
    }
  },
  "cells": [
    {
      "cell_type": "code",
      "execution_count": null,
      "metadata": {
        "id": "khWcBMHZr3Id"
      },
      "outputs": [],
      "source": [
        "1. Scenario: A company wants to analyze the sales performance of its products in different regions. They have collected the following data:\n",
        "   Region A: [10, 15, 12, 8, 14]\n",
        "   Region B: [18, 20, 16, 22, 25]\n",
        "   Calculate the mean sales for each region.\n"
      ]
    },
    {
      "cell_type": "code",
      "source": [
        "To calculate the mean sales for each region, you can follow these steps:\n",
        "\n",
        "1. For Region A: [10, 15, 12, 8, 14]\n",
        "   - Add up all the sales values: 10 + 15 + 12 + 8 + 14 = 59\n",
        "   - Divide the sum by the number of data points (in this case, 5) to get the mean: 59 / 5 = 11.8\n",
        "   - The mean sales for Region A is 11.8.\n",
        "\n",
        "2. For Region B: [18, 20, 16, 22, 25]\n",
        "   - Add up all the sales values: 18 + 20 + 16 + 22 + 25 = 101\n",
        "   - Divide the sum by the number of data points (in this case, 5) to get the mean: 101 / 5 = 20.2\n",
        "   - The mean sales for Region B is 20.2.\n",
        "\n",
        "Therefore, the mean sales for Region A is 11.8, and for Region B is 20.2."
      ],
      "metadata": {
        "id": "Kd3G-LzDr8ah"
      },
      "execution_count": null,
      "outputs": []
    },
    {
      "cell_type": "code",
      "source": [
        "2. Scenario: A survey is conducted to measure customer satisfaction on a scale of 1 to 5. The data collected is as follows:\n",
        "   [4, 5, 2, 3, 5, 4, 3, 2, 4, 5]\n",
        "   Calculate the mode of the survey responses\n"
      ],
      "metadata": {
        "id": "Wmv5BPoAsApo"
      },
      "execution_count": null,
      "outputs": []
    },
    {
      "cell_type": "code",
      "source": [
        "The survey responses are: [4, 5, 2, 3, 5, 4, 3, 2, 4, 5]\n",
        "\n",
        "To find the mode, you can count the occurrences of each value and determine which one(s) occur most frequently.\n",
        "\n",
        "Counting the occurrences:\n",
        "\n",
        "- The value 2 appears twice.\n",
        "- The value 3 appears twice.\n",
        "- The value 4 appears three times.\n",
        "- The value 5 appears three times.\n",
        "\n",
        "Both the values 4 and 5 occur most frequently in the dataset, with a count of three each. In this case, we have multiple modes, and the dataset is considered multimodal. The mode(s) are 4 and 5.\n",
        "\n",
        "Therefore, the mode of the survey responses [4, 5, 2, 3, 5, 4, 3, 2, 4, 5] is 4 and 5."
      ],
      "metadata": {
        "id": "j-SD0_r5sAuP"
      },
      "execution_count": null,
      "outputs": []
    },
    {
      "cell_type": "code",
      "source": [
        "3. Scenario: A company wants to compare the salaries of two departments. The salary data for Department A and Department B are as follows:\n",
        "   Department A: [5000, 6000, 5500, 7000]\n",
        "   Department B: [4500, 5500, 5800, 6000, 5200]\n",
        "   Calculate the median salary for each department.\n"
      ],
      "metadata": {
        "id": "5RLqcnw3sAyw"
      },
      "execution_count": null,
      "outputs": []
    },
    {
      "cell_type": "code",
      "source": [
        "\n",
        "For Department A: [5000, 6000, 5500, 7000]\n",
        "Arranging the data in ascending order: [5000, 5500, 6000, 7000]\n",
        "\n",
        "Since the dataset has an odd number of values, the median is the middle value, which is 5500.\n",
        "\n",
        "The median salary for Department A is 5500.\n",
        "\n",
        "For Department B: [4500, 5500, 5800, 6000, 5200]\n",
        "Arranging the data in ascending order: [4500, 5200, 5500, 5800, 6000]\n",
        "\n",
        "Since the dataset has an odd number of values, the median is the middle value, which is 5500.\n",
        "\n",
        "The median salary for Department B is 5500.\n",
        "\n",
        "Therefore, the median salary for Department A is 5500, and the median salary for Department B is also 5500."
      ],
      "metadata": {
        "id": "Y78dRbJbsPgm"
      },
      "execution_count": null,
      "outputs": []
    },
    {
      "cell_type": "code",
      "source": [
        "4. Scenario: A data analyst wants to determine the variability in the daily stock prices of a company. The data collected is as follows:\n",
        "   [25.5, 24.8, 26.1, 25.3, 24.9]\n",
        "   Calculate the range of the stock prices.\n"
      ],
      "metadata": {
        "id": "GrrTn7ZGsPmF"
      },
      "execution_count": null,
      "outputs": []
    },
    {
      "cell_type": "code",
      "source": [
        "The stock price data is: [25.5, 24.8, 26.1, 25.3, 24.9]\n",
        "\n",
        "To calculate the range:\n",
        "\n",
        "1. Find the highest value: 26.1\n",
        "2. Find the lowest value: 24.8\n",
        "3. Subtract the lowest value from the highest value: 26.1 - 24.8 = 1.3\n",
        "\n",
        "The range of the stock prices is 1.3.\n",
        "\n",
        "Therefore, the range of the stock prices in the given dataset is 1.3."
      ],
      "metadata": {
        "id": "T5BCwI7AsayB"
      },
      "execution_count": null,
      "outputs": []
    },
    {
      "cell_type": "code",
      "source": [
        "5. Scenario: A study is conducted to compare the performance of two different teaching methods. The test scores of the students in each group are as follows:\n",
        "   Group A: [85, 90, 92, 88, 91]\n",
        "   Group B: [82, 88, 90, 86, 87]\n",
        "   Perform a t-test to determine if there is a significant difference in the mean scores between the two groups.\n"
      ],
      "metadata": {
        "id": "rPbqxxs8sa4K"
      },
      "execution_count": null,
      "outputs": []
    },
    {
      "cell_type": "code",
      "source": [
        "from scipy import stats\n",
        "\n",
        "group_a = [85, 90, 92, 88, 91]\n",
        "group_b = [82, 88, 90, 86, 87]\n",
        "\n",
        "t_statistic, p_value = stats.ttest_ind(group_a, group_b)\n",
        "\n",
        "alpha = 0.05\n",
        "\n",
        "if p_value < alpha:\n",
        "    print(\"There is a significant difference in the mean scores between Group A and Group B.\")\n",
        "else:\n",
        "    print(\"There is no significant difference in the mean scores between Group A and Group B.\")\n"
      ],
      "metadata": {
        "colab": {
          "base_uri": "https://localhost:8080/"
        },
        "id": "K6ghGh1Ssa6H",
        "outputId": "62c40145-85c1-4ba6-86c8-269f30fc4c4f"
      },
      "execution_count": 1,
      "outputs": [
        {
          "output_type": "stream",
          "name": "stdout",
          "text": [
            "There is no significant difference in the mean scores between Group A and Group B.\n"
          ]
        }
      ]
    },
    {
      "cell_type": "code",
      "source": [
        "6. Scenario: A company wants to analyze the relationship between advertising expenditure and sales. The data collected is as follows:\n",
        "   Advertising Expenditure (in thousands): [10, 15, 12, 8, 14]\n",
        "   Sales (in thousands): [25, 30, 28, 20, 26]\n",
        "   Calculate the correlation coefficient between advertising expenditure and sales.\n"
      ],
      "metadata": {
        "id": "5G5GfT1Nsa8R"
      },
      "execution_count": null,
      "outputs": []
    },
    {
      "cell_type": "code",
      "source": [
        "from scipy import stats\n",
        "\n",
        "advertising_expenditure = [10, 15, 12, 8, 14]\n",
        "sales = [25, 30, 28, 20, 26]\n",
        "\n",
        "correlation_coefficient, p_value = stats.pearsonr(advertising_expenditure, sales)\n",
        "\n",
        "print(\"Correlation coefficient:\", correlation_coefficient)\n"
      ],
      "metadata": {
        "colab": {
          "base_uri": "https://localhost:8080/"
        },
        "id": "Ukr98e1Psa-1",
        "outputId": "bafe4856-ea01-49b1-f42a-0787a8b34a6a"
      },
      "execution_count": 2,
      "outputs": [
        {
          "output_type": "stream",
          "name": "stdout",
          "text": [
            "Correlation coefficient: 0.8757511375750133\n"
          ]
        }
      ]
    },
    {
      "cell_type": "code",
      "source": [
        "7. Scenario: A survey is conducted to measure the heights of a group of people. The data collected is as follows:\n",
        "   [160, 170, 165, 155, 175, 180, 170]\n",
        "   Calculate the standard deviation of the heights.\n"
      ],
      "metadata": {
        "id": "dOKU9-BLsbB4"
      },
      "execution_count": null,
      "outputs": []
    },
    {
      "cell_type": "code",
      "source": [
        "To calculate the standard deviation of the heights, you can use the following steps:\n",
        "\n",
        "1. Calculate the mean (average) of the heights.\n",
        "2. Subtract the mean from each height value and square the result.\n",
        "3. Calculate the mean of the squared differences.\n",
        "4. Take the square root of the mean of the squared differences to obtain the standard deviation.\n",
        "\n",
        "The height data is: [160, 170, 165, 155, 175, 180, 170]\n",
        "\n",
        "Step 1: Calculate the mean:\n",
        "Mean = (160 + 170 + 165 + 155 + 175 + 180 + 170) / 7 = 1175 / 7 = 167.8571 (rounded to four decimal places)\n",
        "\n",
        "Step 2: Subtract the mean from each height value and square the result:\n",
        "\n",
        "Squared differences:\n",
        "(160 - 167.8571)^2 ≈ 62.6919\n",
        "(170 - 167.8571)^2 ≈ 4.4286\n",
        "(165 - 167.8571)^2 ≈ 7.3673\n",
        "(155 - 167.8571)^2 ≈ 166.0408\n",
        "(175 - 167.8571)^2 ≈ 51.1020\n",
        "(180 - 167.8571)^2 ≈ 148.2041\n",
        "(170 - 167.8571)^2 ≈ 4.4286\n",
        "\n",
        "Step 3: Calculate the mean of the squared differences:\n",
        "Mean of squared differences = (62.6919 + 4.4286 + 7.3673 + 166.0408 + 51.1020 + 148.2041 + 4.4286) / 7 ≈ 52.4705\n",
        "\n",
        "Step 4: Take the square root of the mean of the squared differences to obtain the standard deviation:\n",
        "Standard deviation = √52.4705 ≈ 7.2475 (rounded to four decimal places)\n",
        "\n",
        "Therefore, the standard deviation of the heights in the given dataset is approximately 7.2475."
      ],
      "metadata": {
        "id": "00BTPtmisPoZ"
      },
      "execution_count": null,
      "outputs": []
    },
    {
      "cell_type": "code",
      "source": [
        "8. Scenario: A company wants to analyze the relationship between employee tenure and job satisfaction. The data collected is as follows:\n",
        "   Employee Tenure (in years): [2, 3, 5, 4, 6, 2, 4]\n",
        "   Job Satisfaction (on a scale of 1 to 10): [7, 8, 6, 9, 5, 7, 6]\n",
        "   Perform a linear regression analysis to predict job satisfaction based on employee tenure.\n"
      ],
      "metadata": {
        "id": "R3liOXmatFo3"
      },
      "execution_count": null,
      "outputs": []
    },
    {
      "cell_type": "code",
      "source": [
        "import numpy as np\n",
        "from scipy import stats\n",
        "import matplotlib.pyplot as plt\n",
        "\n",
        "employee_tenure = [2, 3, 5, 4, 6, 2, 4]\n",
        "job_satisfaction = [7, 8, 6, 9, 5, 7, 6]\n"
      ],
      "metadata": {
        "id": "_03svK3FtFru"
      },
      "execution_count": 3,
      "outputs": []
    },
    {
      "cell_type": "code",
      "source": [
        "slope, intercept, r_value, p_value, std_err = stats.linregress(employee_tenure, job_satisfaction)\n"
      ],
      "metadata": {
        "id": "UWIl8XjotFuW"
      },
      "execution_count": 4,
      "outputs": []
    },
    {
      "cell_type": "code",
      "source": [
        "plt.scatter(employee_tenure, job_satisfaction, color='blue', label='Data Points')\n",
        "plt.plot(employee_tenure, slope * np.array(employee_tenure) + intercept, color='red', label='Linear Regression Line')\n",
        "plt.xlabel('Employee Tenure (in years)')\n",
        "plt.ylabel('Job Satisfaction')\n",
        "plt.legend()\n",
        "plt.show()\n"
      ],
      "metadata": {
        "colab": {
          "base_uri": "https://localhost:8080/",
          "height": 449
        },
        "id": "mq1ivpqEtFyF",
        "outputId": "f9360c4f-da07-45f4-eed2-647336a5a098"
      },
      "execution_count": 5,
      "outputs": [
        {
          "output_type": "display_data",
          "data": {
            "text/plain": [
              "<Figure size 640x480 with 1 Axes>"
            ],
            "image/png": "[encoded data removed]"
          },
          "metadata": {}
        }
      ]
    },
    {
      "cell_type": "code",
      "source": [
        "print(\"Slope:\", slope)\n",
        "print(\"Intercept:\", intercept)\n",
        "print(\"Correlation Coefficient (r-value):\", r_value)\n",
        "print(\"P-value:\", p_value)\n",
        "print(\"Standard Error of the Regression:\", std_err)\n"
      ],
      "metadata": {
        "colab": {
          "base_uri": "https://localhost:8080/"
        },
        "id": "wDSZEZHltGF6",
        "outputId": "750be336-4f36-41ff-d6c4-8461bc3a41bb"
      },
      "execution_count": 6,
      "outputs": [
        {
          "output_type": "stream",
          "name": "stdout",
          "text": [
            "Slope: -0.4680851063829787\n",
            "Intercept: 8.595744680851062\n",
            "Correlation Coefficient (r-value): -0.520573376708331\n",
            "P-value: 0.23095550952297988\n",
            "Standard Error of the Regression: 0.34333860006713723\n"
          ]
        }
      ]
    },
    {
      "cell_type": "code",
      "source": [
        "9. Scenario: A study is conducted to compare the effectiveness of two different medications. The recovery times of the patients in each group are as follows:\n",
        "   Medication A: [10, 12, 14, 11, 13]\n",
        "   Medication B: [15, 17, 16, 14, 18]\n",
        "   Perform an analysis of variance (ANOVA) to determine if there is a significant difference in the mean recovery times between the two medications.\n"
      ],
      "metadata": {
        "id": "HCH2Q897sPqs"
      },
      "execution_count": null,
      "outputs": []
    },
    {
      "cell_type": "code",
      "source": [
        "from scipy import stats\n",
        "\n",
        "medication_a = [10, 12, 14, 11, 13]\n",
        "medication_b = [15, 17, 16, 14, 18]\n",
        "\n",
        "f_statistic, p_value = stats.f_oneway(medication_a, medication_b)\n",
        "\n",
        "alpha = 0.05\n",
        "\n",
        "if p_value < alpha:\n",
        "    print(\"There is a significant difference in the mean recovery times between Medication A and Medication B.\")\n",
        "else:\n",
        "    print(\"There is no significant difference in the mean recovery times between Medication A and Medication B.\")\n"
      ],
      "metadata": {
        "colab": {
          "base_uri": "https://localhost:8080/"
        },
        "id": "CHLhpQFMsBAy",
        "outputId": "d862e5c8-61d1-46f7-e4c1-96b64f845a41"
      },
      "execution_count": 7,
      "outputs": [
        {
          "output_type": "stream",
          "name": "stdout",
          "text": [
            "There is a significant difference in the mean recovery times between Medication A and Medication B.\n"
          ]
        }
      ]
    },
    {
      "cell_type": "code",
      "source": [
        "10. Scenario: A company wants to analyze customer feedback ratings on a scale of 1 to 10. The data collected is\n",
        "\n",
        " as follows:\n",
        "    [8, 9, 7, 6, 8, 10, 9, 8, 7, 8]\n",
        "    Calculate the 75th percentile of the feedback ratings\n"
      ],
      "metadata": {
        "id": "UWeRZzJzttTI"
      },
      "execution_count": null,
      "outputs": []
    },
    {
      "cell_type": "code",
      "source": [
        "To calculate the 75th percentile of the feedback ratings, you can follow these steps:\n",
        "\n",
        "1. Arrange the data in ascending order: [6, 7, 7, 8, 8, 8, 8, 9, 9, 10]\n",
        "2. Calculate the position of the 75th percentile: (75 / 100) * (n + 1), where n is the number of data points.\n",
        "   (75 / 100) * (10 + 1) = 0.75 * 11 = 8.25\n",
        "3. Since the position is not an integer, take the average of the values at the 8th and 9th positions.\n",
        "   The value at the 8th position is 8, and the value at the 9th position is 9.\n",
        "   (8 + 9) / 2 = 8.5\n",
        "\n",
        "Therefore, the 75th percentile of the feedback ratings is 8.5."
      ],
      "metadata": {
        "id": "bZjtr8GAt1J6"
      },
      "execution_count": null,
      "outputs": []
    },
    {
      "cell_type": "code",
      "source": [
        "11. Scenario: A quality control department wants to test the weight consistency of a product. The weights of a sample of products are as follows:\n",
        "    [10.2, 9.8, 10.0, 10.5, 10.3, 10.1]\n",
        "    Perform a hypothesis test to determine if the mean weight differs significantly from 10 grams.\n"
      ],
      "metadata": {
        "id": "qLCTaFWYt1Ra"
      },
      "execution_count": null,
      "outputs": []
    },
    {
      "cell_type": "code",
      "source": [
        "from scipy import stats\n",
        "\n",
        "weights = [10.2, 9.8, 10.0, 10.5, 10.3, 10.1]\n",
        "\n",
        "t_statistic, p_value = stats.ttest_1samp(weights, 10)\n",
        "\n",
        "alpha = 0.05\n",
        "\n",
        "if p_value < alpha:\n",
        "    print(\"The mean weight significantly differs from 10 grams.\")\n",
        "else:\n",
        "    print(\"The mean weight does not significantly differ from 10 grams.\")\n"
      ],
      "metadata": {
        "colab": {
          "base_uri": "https://localhost:8080/"
        },
        "id": "UUlOc3buttaA",
        "outputId": "e124f681-7a97-492c-d49a-8074cba59de8"
      },
      "execution_count": 8,
      "outputs": [
        {
          "output_type": "stream",
          "name": "stdout",
          "text": [
            "The mean weight does not significantly differ from 10 grams.\n"
          ]
        }
      ]
    },
    {
      "cell_type": "code",
      "source": [
        "12. Scenario: A company wants to analyze the click-through rates of two different website designs. The number of clicks for each design is as follows:\n",
        "    Design A: [100, 120, 110, 90, 95]\n",
        "    Design B: [80, 85, 90, 95, 100]\n",
        "    Perform a chi-square test to determine if there is a significant difference in the click-through rates between the two designs.\n"
      ],
      "metadata": {
        "id": "Vt1HYC1jttdz"
      },
      "execution_count": null,
      "outputs": []
    },
    {
      "cell_type": "code",
      "source": [
        "import numpy as np\n",
        "from scipy.stats import chi2_contingency\n",
        "\n",
        "design_a = [100, 120, 110, 90, 95]\n",
        "design_b = [80, 85, 90, 95, 100]\n",
        "\n",
        "contingency_table = np.array([design_a, design_b])\n",
        "\n",
        "chi2_stat, p_value, _, _ = chi2_contingency(contingency_table)\n",
        "\n",
        "alpha = 0.05\n",
        "\n",
        "if p_value < alpha:\n",
        "    print(\"There is a significant difference in the click-through rates between Design A and Design B.\")\n",
        "else:\n",
        "    print(\"There is no significant difference in the click-through rates between Design A and Design B.\")\n"
      ],
      "metadata": {
        "colab": {
          "base_uri": "https://localhost:8080/"
        },
        "id": "Hdjp2c7VtthY",
        "outputId": "0548b4d3-c521-4488-eed0-cece90cf0db7"
      },
      "execution_count": 9,
      "outputs": [
        {
          "output_type": "stream",
          "name": "stdout",
          "text": [
            "There is no significant difference in the click-through rates between Design A and Design B.\n"
          ]
        }
      ]
    },
    {
      "cell_type": "code",
      "source": [
        "13. Scenario: A survey is conducted to measure customer satisfaction with a product on a scale of 1 to 10. The data collected is as follows:\n",
        "    [7, 9, 6, 8, 10, 7, 8, 9, 7, 8]\n",
        "    Calculate the 95% confidence interval for the population mean satisfaction score\n"
      ],
      "metadata": {
        "id": "6Bfliw_Httld"
      },
      "execution_count": null,
      "outputs": []
    },
    {
      "cell_type": "code",
      "source": [
        "\n",
        "\n",
        "The satisfaction scores data: [7, 9, 6, 8, 10, 7, 8, 9, 7, 8]\n",
        "\n",
        "Step 1: Calculate the sample mean:\n",
        "x̄ = (7 + 9 + 6 + 8 + 10 + 7 + 8 + 9 + 7 + 8) / 10 = 79 / 10 = 7.9\n",
        "\n",
        "Step 2: Calculate the standard deviation:\n",
        "s = √((Σ(x - x̄)^2) / (n - 1))\n",
        "   = √(((7-7.9)^2 + (9-7.9)^2 + ... + (8-7.9)^2) / (10 - 1))\n",
        "   ≈ 0.943\n",
        "\n",
        "Step 3: Determine the sample size:\n",
        "n = 10\n",
        "\n",
        "Step 4: Calculate the standard error of the mean:\n",
        "SE = s / √n\n",
        "     = 0.943 / √10\n",
        "     ≈ 0.298\n",
        "\n",
        "Step 5: Determine the critical value (z) for a 95% confidence level:\n",
        "For a 95% confidence level, the critical value is approximately 1.96.\n",
        "\n",
        "Step 6: Calculate the margin of error:\n",
        "ME = z * SE\n",
        "    = 1.96 * 0.298\n",
        "    ≈ 0.584\n",
        "\n",
        "Step 7: Calculate the confidence interval:\n",
        "Lower bound = x̄ - ME\n",
        "               = 7.9 - 0.584\n",
        "               ≈ 7.316\n",
        "Upper bound = x̄ + ME\n",
        "               = 7.9 + 0.584\n",
        "               ≈ 8.484\n",
        "\n",
        "Therefore, the 95% confidence interval for the population mean satisfaction score is approximately 7.316 to 8.484."
      ],
      "metadata": {
        "id": "MDXH2X2NulXV"
      },
      "execution_count": null,
      "outputs": []
    },
    {
      "cell_type": "code",
      "source": [
        "14. Scenario: A company wants to analyze the effect of temperature on product performance. The data collected is as follows:\n",
        "    Temperature (in degrees Celsius): [20, 22, 23, 19, 21]\n",
        "    Performance (on a scale of 1 to 10): [8, 7, 9, 6, 8]\n",
        "    Perform a simple linear regression to predict performance based on temperature\n"
      ],
      "metadata": {
        "id": "bUTTFiJqula-"
      },
      "execution_count": null,
      "outputs": []
    },
    {
      "cell_type": "code",
      "source": [
        "import numpy as np\n",
        "from scipy import stats\n",
        "import matplotlib.pyplot as plt\n",
        "\n",
        "temperature = [20, 22, 23, 19, 21]\n",
        "performance = [8, 7, 9, 6, 8]\n"
      ],
      "metadata": {
        "id": "LIceZi4Rulem"
      },
      "execution_count": 10,
      "outputs": []
    },
    {
      "cell_type": "code",
      "source": [
        "slope, intercept, r_value, p_value, std_err = stats.linregress(temperature, performance)\n"
      ],
      "metadata": {
        "id": "Z_x_CiPAvADS"
      },
      "execution_count": 11,
      "outputs": []
    },
    {
      "cell_type": "code",
      "source": [
        "plt.scatter(temperature, performance, color='blue', label='Data Points')\n",
        "plt.plot(temperature, slope * np.array(temperature) + intercept, color='red', label='Linear Regression Line')\n",
        "plt.xlabel('Temperature (in degrees Celsius)')\n",
        "plt.ylabel('Performance')\n",
        "plt.legend()\n",
        "plt.show()\n"
      ],
      "metadata": {
        "colab": {
          "base_uri": "https://localhost:8080/",
          "height": 449
        },
        "id": "N9wVxjW4vAKw",
        "outputId": "3b9d3194-e0ba-40b4-86cb-9af50f5edf3f"
      },
      "execution_count": 12,
      "outputs": [
        {
          "output_type": "display_data",
          "data": {
            "text/plain": [
              "<Figure size 640x480 with 1 Axes>"
            ],
            "image/png": "[encoded data removed]"
          },
          "metadata": {}
        }
      ]
    },
    {
      "cell_type": "code",
      "source": [
        "print(\"Slope:\", slope)\n",
        "print(\"Intercept:\", intercept)\n",
        "print(\"Correlation Coefficient (r-value):\", r_value)\n",
        "print(\"P-value:\", p_value)\n",
        "print(\"Standard Error of the Regression:\", std_err)\n"
      ],
      "metadata": {
        "colab": {
          "base_uri": "https://localhost:8080/"
        },
        "id": "7s2eLV2AvAOD",
        "outputId": "10afea38-a747-473c-ce23-b6ed6db8d94a"
      },
      "execution_count": 13,
      "outputs": [
        {
          "output_type": "stream",
          "name": "stdout",
          "text": [
            "Slope: 0.5\n",
            "Intercept: -2.9000000000000004\n",
            "Correlation Coefficient (r-value): 0.6933752452815364\n",
            "P-value: 0.19417134561205843\n",
            "Standard Error of the Regression: 0.30000000000000004\n"
          ]
        }
      ]
    },
    {
      "cell_type": "code",
      "source": [
        "15. Scenario: A study is conducted to compare the preferences of two groups of participants. The preferences are measured on a Likert scale from 1 to 5. The data collected is as follows:\n",
        "    Group A: [4, 3, 5, 2, 4]\n",
        "    Group B: [3, 2, 4, 3, 3]\n",
        "    Perform a Mann-Whitney U test to determine if there is a significant difference in the median preferences between the two groups.\n"
      ],
      "metadata": {
        "id": "vW2MazmNvARg"
      },
      "execution_count": null,
      "outputs": []
    },
    {
      "cell_type": "code",
      "source": [
        "from scipy import stats\n",
        "\n",
        "group_a = [4, 3, 5, 2, 4]\n",
        "group_b = [3, 2, 4, 3, 3]\n",
        "\n",
        "u_statistic, p_value = stats.mannwhitneyu(group_a, group_b)\n",
        "\n",
        "alpha = 0.05\n",
        "\n",
        "if p_value < alpha:\n",
        "    print(\"There is a significant difference in the median preferences between Group A and Group B.\")\n",
        "else:\n",
        "    print(\"There is no significant difference in the median preferences between Group A and Group B.\")\n"
      ],
      "metadata": {
        "colab": {
          "base_uri": "https://localhost:8080/"
        },
        "id": "I8u5617SvRMW",
        "outputId": "c3066ff2-1b7a-4ecc-b6d0-c95f8296907b"
      },
      "execution_count": 14,
      "outputs": [
        {
          "output_type": "stream",
          "name": "stdout",
          "text": [
            "There is no significant difference in the median preferences between Group A and Group B.\n"
          ]
        }
      ]
    },
    {
      "cell_type": "code",
      "source": [
        "16. Scenario: A company wants to analyze the distribution of customer ages. The data collected is as follows:\n",
        "    [25, 30, 35, 40, 45, 50, 55, 60, 65, 70]\n",
        "    Calculate the interquartile range (IQR) of the ages.\n",
        "\n"
      ],
      "metadata": {
        "id": "Xz1be0mfvRSq"
      },
      "execution_count": null,
      "outputs": []
    },
    {
      "cell_type": "code",
      "source": [
        "\n",
        "1. Arrange the data in ascending order: [25, 30, 35, 40, 45, 50, 55, 60, 65, 70].\n",
        "2. Calculate the 25th percentile (Q1) and the 75th percentile (Q3) of the data.\n",
        "   - Q1 is the median of the lower half of the data.\n",
        "   - Q3 is the median of the upper half of the data.\n",
        "3. Calculate the IQR by subtracting Q1 from Q3.\n",
        "\n",
        "Let's calculate the IQR using the given data:\n",
        "\n",
        "The age data: [25, 30, 35, 40, 45, 50, 55, 60, 65, 70].\n",
        "\n",
        "Step 1: Arrange the data in ascending order: [25, 30, 35, 40, 45, 50, 55, 60, 65, 70].\n",
        "\n",
        "Step 2: Calculate Q1 and Q3.\n",
        "- Q1: The median of the lower half of the data.\n",
        "   - The lower half of the data: [25, 30, 35, 40, 45].\n",
        "   - Q1 = Median of [25, 30, 35, 40, 45] = 35.\n",
        "\n",
        "- Q3: The median of the upper half of the data.\n",
        "   - The upper half of the data: [50, 55, 60, 65, 70].\n",
        "   - Q3 = Median of [50, 55, 60, 65, 70] = 60.\n",
        "\n",
        "Step 3: Calculate the IQR.\n",
        "IQR = Q3 - Q1 = 60 - 35 = 25.\n",
        "\n",
        "Therefore, the interquartile range (IQR) of the ages in the given dataset is 25."
      ],
      "metadata": {
        "id": "IfD4H-8pvRXN"
      },
      "execution_count": null,
      "outputs": []
    },
    {
      "cell_type": "code",
      "source": [
        "17. Scenario: A study is conducted to compare the performance of three different machine learning algorithms. The accuracy scores for each algorithm are as follows:\n",
        "    Algorithm A: [0.85, 0.80, 0.82, 0.87, 0.83]\n",
        "    Algorithm B: [0.78, 0.82, 0.84, 0.80, 0.79]\n",
        "    Algorithm C: [0.90, 0.88, 0.89, 0.86, 0.87]\n",
        "    Perform a Kruskal-Wallis test to determine if there is a significant difference in the median accuracy scores between the algorithms.\n"
      ],
      "metadata": {
        "id": "uDiZSPCRv_TL"
      },
      "execution_count": null,
      "outputs": []
    },
    {
      "cell_type": "code",
      "source": [
        "from scipy import stats\n",
        "\n",
        "algorithm_a = [0.85, 0.80, 0.82, 0.87, 0.83]\n",
        "algorithm_b = [0.78, 0.82, 0.84, 0.80, 0.79]\n",
        "algorithm_c = [0.90, 0.88, 0.89, 0.86, 0.87]\n",
        "\n",
        "h_statistic, p_value = stats.kruskal(algorithm_a, algorithm_b, algorithm_c)\n",
        "\n",
        "alpha = 0.05\n",
        "\n",
        "if p_value < alpha:\n",
        "    print(\"There is a significant difference in the median accuracy scores between the algorithms.\")\n",
        "else:\n",
        "    print(\"There is no significant difference in the median accuracy scores between the algorithms.\")\n"
      ],
      "metadata": {
        "colab": {
          "base_uri": "https://localhost:8080/"
        },
        "id": "jIwWGidovRbf",
        "outputId": "78ff2b83-5f31-4a4d-c1d5-c23f61881232"
      },
      "execution_count": 15,
      "outputs": [
        {
          "output_type": "stream",
          "name": "stdout",
          "text": [
            "There is a significant difference in the median accuracy scores between the algorithms.\n"
          ]
        }
      ]
    },
    {
      "cell_type": "code",
      "source": [
        "18. Scenario: A company wants to analyze the effect of price on sales. The data collected is as follows:\n",
        "    Price (in dollars): [10, 15, 12, 8, 14]\n",
        "    Sales: [100, 80, 90, 110, 95]\n",
        "    Perform a simple linear regression to predict\n",
        "\n",
        " sales based on price.\n"
      ],
      "metadata": {
        "id": "ro_2V_kFttqW"
      },
      "execution_count": null,
      "outputs": []
    },
    {
      "cell_type": "code",
      "source": [
        "import numpy as np\n",
        "from scipy import stats\n",
        "import matplotlib.pyplot as plt\n",
        "\n",
        "price = [10, 15, 12, 8, 14]\n",
        "sales = [100, 80, 90, 110, 95]\n"
      ],
      "metadata": {
        "id": "hUMFWE97wBzC"
      },
      "execution_count": 16,
      "outputs": []
    },
    {
      "cell_type": "code",
      "source": [
        "slope, intercept, r_value, p_value, std_err = stats.linregress(price, sales)\n"
      ],
      "metadata": {
        "id": "pwJvS8y2wB5B"
      },
      "execution_count": 17,
      "outputs": []
    },
    {
      "cell_type": "code",
      "source": [
        "plt.scatter(price, sales, color='blue', label='Data Points')\n",
        "plt.plot(price, slope * np.array(price) + intercept, color='red', label='Linear Regression Line')\n",
        "plt.xlabel('Price (in dollars)')\n",
        "plt.ylabel('Sales')\n",
        "plt.legend()\n",
        "plt.show()\n"
      ],
      "metadata": {
        "colab": {
          "base_uri": "https://localhost:8080/",
          "height": 449
        },
        "id": "54Q12x4cwB-x",
        "outputId": "07e73be2-0b00-40ee-e0e2-5e10e7f85317"
      },
      "execution_count": 18,
      "outputs": [
        {
          "output_type": "display_data",
          "data": {
            "text/plain": [
              "<Figure size 640x480 with 1 Axes>"
            ],
            "image/png": "[encoded data removed]"
          },
          "metadata": {}
        }
      ]
    },
    {
      "cell_type": "code",
      "source": [
        "print(\"Slope:\", slope)\n",
        "print(\"Intercept:\", intercept)\n",
        "print(\"Correlation Coefficient (r-value):\", r_value)\n",
        "print(\"P-value:\", p_value)\n",
        "print(\"Standard Error of the Regression:\", std_err)\n"
      ],
      "metadata": {
        "colab": {
          "base_uri": "https://localhost:8080/"
        },
        "id": "3z8MYkMNwCDD",
        "outputId": "e8daaa37-c338-42eb-c655-add14e2cd5e5"
      },
      "execution_count": 19,
      "outputs": [
        {
          "output_type": "stream",
          "name": "stdout",
          "text": [
            "Slope: -3.506097560975609\n",
            "Intercept: 136.3719512195122\n",
            "Correlation Coefficient (r-value): -0.8979991308594848\n",
            "P-value: 0.03850178234753776\n",
            "Standard Error of the Regression: 0.9918303504036147\n"
          ]
        }
      ]
    },
    {
      "cell_type": "code",
      "source": [
        "19. Scenario: A survey is conducted to measure the satisfaction levels of customers with a new product. The data collected is as follows:\n",
        "    [7, 8, 9, 6, 8, 7, 9, 7, 8, 7]\n",
        "    Calculate the standard error of the mean satisfaction score.\n"
      ],
      "metadata": {
        "id": "EfspFCdUwTVk"
      },
      "execution_count": null,
      "outputs": []
    },
    {
      "cell_type": "code",
      "source": [
        "\n",
        "\n",
        "Standard Error of the Mean = Standard Deviation / √(Sample Size)\n",
        "\n",
        "Let's calculate the standard error of the mean using the given data:\n",
        "\n",
        "The satisfaction score data: [7, 8, 9, 6, 8, 7, 9, 7, 8, 7]\n",
        "\n",
        "Step 1: Calculate the sample mean:\n",
        "Mean = (7 + 8 + 9 + 6 + 8 + 7 + 9 + 7 + 8 + 7) / 10 = 76 / 10 = 7.6\n",
        "\n",
        "Step 2: Calculate the standard deviation:\n",
        "Standard Deviation = √((Σ(x - Mean)^2) / (n - 1))\n",
        "                  = √(((7-7.6)^2 + (8-7.6)^2 + ... + (7-7.6)^2) / (10 - 1))\n",
        "                  ≈ 0.699\n",
        "\n",
        "Step 3: Determine the sample size:\n",
        "Sample Size = 10\n",
        "\n",
        "Step 4: Calculate the standard error of the mean:\n",
        "Standard Error of the Mean = Standard Deviation / √(Sample Size)\n",
        "                          ≈ 0.699 / √(10)\n",
        "                          ≈ 0.221\n",
        "\n",
        "Therefore, the standard error of the mean satisfaction score is approximately 0.221."
      ],
      "metadata": {
        "colab": {
          "base_uri": "https://localhost:8080/",
          "height": 130
        },
        "id": "BkTACJQpwTdn",
        "outputId": "0b89276e-5887-4e02-b34f-ad340b3d2293"
      },
      "execution_count": 20,
      "outputs": [
        {
          "output_type": "error",
          "ename": "SyntaxError",
          "evalue": "ignored",
          "traceback": [
            "\u001b[0;36m  File \u001b[0;32m\"<ipython-input-20-bd8f84fa6141>\"\u001b[0;36m, line \u001b[0;32m1\u001b[0m\n\u001b[0;31m    Standard Error of the Mean = Standard Deviation / √(Sample Size)\u001b[0m\n\u001b[0m                                                      ^\u001b[0m\n\u001b[0;31mSyntaxError\u001b[0m\u001b[0;31m:\u001b[0m invalid character '√' (U+221A)\n"
          ]
        }
      ]
    },
    {
      "cell_type": "code",
      "source": [],
      "metadata": {
        "id": "OgoeSvsLwTkV"
      },
      "execution_count": null,
      "outputs": []
    },
    {
      "cell_type": "code",
      "source": [],
      "metadata": {
        "id": "U3ZKOfewwT4l"
      },
      "execution_count": null,
      "outputs": []
    },
    {
      "cell_type": "code",
      "source": [],
      "metadata": {
        "id": "CSbA9A8JwUBH"
      },
      "execution_count": null,
      "outputs": []
    },
    {
      "cell_type": "code",
      "source": [],
      "metadata": {
        "id": "YdMSvPGFwUPY"
      },
      "execution_count": null,
      "outputs": []
    },
    {
      "cell_type": "code",
      "source": [],
      "metadata": {
        "id": "_Vqv2-OisBE7"
      },
      "execution_count": null,
      "outputs": []
    }
  ]
}